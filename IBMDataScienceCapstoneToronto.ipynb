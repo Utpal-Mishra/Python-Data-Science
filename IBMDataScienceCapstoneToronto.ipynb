{
  "nbformat": 4,
  "nbformat_minor": 0,
  "metadata": {
    "colab": {
      "name": "IBMDataScienceCapstoneToronto.ipynb",
      "provenance": [],
      "collapsed_sections": [],
      "authorship_tag": "ABX9TyOQuDLQ+a798CTwv1Lq5cB3",
      "include_colab_link": true
    },
    "kernelspec": {
      "name": "python3",
      "display_name": "Python 3"
    }
  },
  "cells": [
    {
      "cell_type": "markdown",
      "metadata": {
        "id": "view-in-github",
        "colab_type": "text"
      },
      "source": [
        "<a href=\"https://colab.research.google.com/github/Utpal-Mishra/Python-Data-Science/blob/main/IBMDataScienceCapstoneToronto.ipynb\" target=\"_parent\"><img src=\"https://colab.research.google.com/assets/colab-badge.svg\" alt=\"Open In Colab\"/></a>"
      ]
    },
    {
      "cell_type": "markdown",
      "metadata": {
        "id": "50wZneUm_slp"
      },
      "source": [
        "#WEB SCRAPING"
      ]
    },
    {
      "cell_type": "markdown",
      "metadata": {
        "id": "Tki_kYfX_v_x"
      },
      "source": [
        "###IMPORT Libraries"
      ]
    },
    {
      "cell_type": "code",
      "metadata": {
        "id": "nN0X_PvGSkId"
      },
      "source": [
        "import requests\n",
        "from tqdm import tqdm\n",
        "from bs4 import BeautifulSoup"
      ],
      "execution_count": null,
      "outputs": []
    },
    {
      "cell_type": "markdown",
      "metadata": {
        "id": "P4rNZKjK_z9N"
      },
      "source": [
        "###GET Request"
      ]
    },
    {
      "cell_type": "code",
      "metadata": {
        "id": "-qNyrPqtUqCh",
        "colab": {
          "base_uri": "https://localhost:8080/",
          "height": 35
        },
        "outputId": "c04f6f13-2059-4694-dddd-8992e4e7417e"
      },
      "source": [
        "url = 'https://en.wikipedia.org/wiki/List_of_postal_codes_of_Canada:_M'\n",
        "r = requests.get(url)\n",
        "print(\"Request Status: \", r)"
      ],
      "execution_count": null,
      "outputs": [
        {
          "output_type": "stream",
          "text": [
            "Request Status:  <Response [200]>\n"
          ],
          "name": "stdout"
        }
      ]
    },
    {
      "cell_type": "markdown",
      "metadata": {
        "id": "xksoW_29_5ac"
      },
      "source": [
        "###PARSING"
      ]
    },
    {
      "cell_type": "code",
      "metadata": {
        "id": "3NabvOtOVLTS"
      },
      "source": [
        "soup = BeautifulSoup(r.text, 'html.parser')\n",
        "data = soup.find_all('table')[0]\n",
        "#data"
      ],
      "execution_count": null,
      "outputs": []
    },
    {
      "cell_type": "markdown",
      "metadata": {
        "id": "6K4aeCD1__og"
      },
      "source": [
        "###TEXT EXTRACTION"
      ]
    },
    {
      "cell_type": "code",
      "metadata": {
        "id": "Zp0svcTWZbm5",
        "colab": {
          "base_uri": "https://localhost:8080/",
          "height": 35
        },
        "outputId": "abddabd0-68c2-4410-8ee7-175ac9bf5898"
      },
      "source": [
        "PostalCode = []\n",
        "Borough = []\n",
        "Neighborhood = []\n",
        "\n",
        "#data.find_all('tr')[0].find_all('th')[0].text.strip() #PostalCode\n",
        "#data.find_all('tr')[0].find_all('th')[1].text.strip() #Borough\n",
        "#data.find_all('tr')[0].find_all('th')[2].text.strip() #Neighborhood\n",
        "\n",
        "for i in tqdm(range(1, len(data.find_all('tr')))):\n",
        "  PostalCode.append(data.find_all('tr')[i].find_all('td')[0].text.strip())\n",
        "  Borough.append(data.find_all('tr')[i].find_all('td')[1].text.strip())\n",
        "  Neighborhood.append(data.find_all('tr')[i].find_all('td')[2].text.strip())"
      ],
      "execution_count": null,
      "outputs": [
        {
          "output_type": "stream",
          "text": [
            "100%|██████████| 180/180 [00:00<00:00, 417.53it/s]\n"
          ],
          "name": "stderr"
        }
      ]
    },
    {
      "cell_type": "markdown",
      "metadata": {
        "id": "m5_wTryBD6pE"
      },
      "source": [
        "#DATAFRAME: Pre-Processing"
      ]
    },
    {
      "cell_type": "code",
      "metadata": {
        "id": "6x76vV1Obrw9"
      },
      "source": [
        "import pandas as pd\n",
        "\n",
        "data = pd.DataFrame({'Postal Code':PostalCode,\n",
        "                     'Borough':Borough,\n",
        "                     'Neighborhood': Neighborhood})#, index = PostalCode)"
      ],
      "execution_count": null,
      "outputs": []
    },
    {
      "cell_type": "code",
      "metadata": {
        "id": "k8qPI7Yf_eJB",
        "colab": {
          "base_uri": "https://localhost:8080/",
          "height": 219
        },
        "outputId": "7797d36b-ad06-41ea-e896-535fbf172ac1"
      },
      "source": [
        "print(data.shape)\n",
        "data.head()"
      ],
      "execution_count": null,
      "outputs": [
        {
          "output_type": "stream",
          "text": [
            "(180, 3)\n"
          ],
          "name": "stdout"
        },
        {
          "output_type": "execute_result",
          "data": {
            "text/html": [
              "<div>\n",
              "<style scoped>\n",
              "    .dataframe tbody tr th:only-of-type {\n",
              "        vertical-align: middle;\n",
              "    }\n",
              "\n",
              "    .dataframe tbody tr th {\n",
              "        vertical-align: top;\n",
              "    }\n",
              "\n",
              "    .dataframe thead th {\n",
              "        text-align: right;\n",
              "    }\n",
              "</style>\n",
              "<table border=\"1\" class=\"dataframe\">\n",
              "  <thead>\n",
              "    <tr style=\"text-align: right;\">\n",
              "      <th></th>\n",
              "      <th>Postal Code</th>\n",
              "      <th>Borough</th>\n",
              "      <th>Neighborhood</th>\n",
              "    </tr>\n",
              "  </thead>\n",
              "  <tbody>\n",
              "    <tr>\n",
              "      <th>0</th>\n",
              "      <td>M1A</td>\n",
              "      <td>Not assigned</td>\n",
              "      <td>Not assigned</td>\n",
              "    </tr>\n",
              "    <tr>\n",
              "      <th>1</th>\n",
              "      <td>M2A</td>\n",
              "      <td>Not assigned</td>\n",
              "      <td>Not assigned</td>\n",
              "    </tr>\n",
              "    <tr>\n",
              "      <th>2</th>\n",
              "      <td>M3A</td>\n",
              "      <td>North York</td>\n",
              "      <td>Parkwoods</td>\n",
              "    </tr>\n",
              "    <tr>\n",
              "      <th>3</th>\n",
              "      <td>M4A</td>\n",
              "      <td>North York</td>\n",
              "      <td>Victoria Village</td>\n",
              "    </tr>\n",
              "    <tr>\n",
              "      <th>4</th>\n",
              "      <td>M5A</td>\n",
              "      <td>Downtown Toronto</td>\n",
              "      <td>Regent Park, Harbourfront</td>\n",
              "    </tr>\n",
              "  </tbody>\n",
              "</table>\n",
              "</div>"
            ],
            "text/plain": [
              "  Postal Code           Borough               Neighborhood\n",
              "0         M1A      Not assigned               Not assigned\n",
              "1         M2A      Not assigned               Not assigned\n",
              "2         M3A        North York                  Parkwoods\n",
              "3         M4A        North York           Victoria Village\n",
              "4         M5A  Downtown Toronto  Regent Park, Harbourfront"
            ]
          },
          "metadata": {
            "tags": []
          },
          "execution_count": 6
        }
      ]
    },
    {
      "cell_type": "code",
      "metadata": {
        "id": "0QY5M7EWRLgL",
        "colab": {
          "base_uri": "https://localhost:8080/",
          "height": 202
        },
        "outputId": "ec23fe37-b01f-4d91-cf2f-1810913dbfed"
      },
      "source": [
        "data = data.sort_values(by = ['Postal Code'])\n",
        "data.head()"
      ],
      "execution_count": null,
      "outputs": [
        {
          "output_type": "execute_result",
          "data": {
            "text/html": [
              "<div>\n",
              "<style scoped>\n",
              "    .dataframe tbody tr th:only-of-type {\n",
              "        vertical-align: middle;\n",
              "    }\n",
              "\n",
              "    .dataframe tbody tr th {\n",
              "        vertical-align: top;\n",
              "    }\n",
              "\n",
              "    .dataframe thead th {\n",
              "        text-align: right;\n",
              "    }\n",
              "</style>\n",
              "<table border=\"1\" class=\"dataframe\">\n",
              "  <thead>\n",
              "    <tr style=\"text-align: right;\">\n",
              "      <th></th>\n",
              "      <th>Postal Code</th>\n",
              "      <th>Borough</th>\n",
              "      <th>Neighborhood</th>\n",
              "    </tr>\n",
              "  </thead>\n",
              "  <tbody>\n",
              "    <tr>\n",
              "      <th>0</th>\n",
              "      <td>M1A</td>\n",
              "      <td>Not assigned</td>\n",
              "      <td>Not assigned</td>\n",
              "    </tr>\n",
              "    <tr>\n",
              "      <th>9</th>\n",
              "      <td>M1B</td>\n",
              "      <td>Scarborough</td>\n",
              "      <td>Malvern, Rouge</td>\n",
              "    </tr>\n",
              "    <tr>\n",
              "      <th>18</th>\n",
              "      <td>M1C</td>\n",
              "      <td>Scarborough</td>\n",
              "      <td>Rouge Hill, Port Union, Highland Creek</td>\n",
              "    </tr>\n",
              "    <tr>\n",
              "      <th>27</th>\n",
              "      <td>M1E</td>\n",
              "      <td>Scarborough</td>\n",
              "      <td>Guildwood, Morningside, West Hill</td>\n",
              "    </tr>\n",
              "    <tr>\n",
              "      <th>36</th>\n",
              "      <td>M1G</td>\n",
              "      <td>Scarborough</td>\n",
              "      <td>Woburn</td>\n",
              "    </tr>\n",
              "  </tbody>\n",
              "</table>\n",
              "</div>"
            ],
            "text/plain": [
              "   Postal Code       Borough                            Neighborhood\n",
              "0          M1A  Not assigned                            Not assigned\n",
              "9          M1B   Scarborough                          Malvern, Rouge\n",
              "18         M1C   Scarborough  Rouge Hill, Port Union, Highland Creek\n",
              "27         M1E   Scarborough       Guildwood, Morningside, West Hill\n",
              "36         M1G   Scarborough                                  Woburn"
            ]
          },
          "metadata": {
            "tags": []
          },
          "execution_count": 7
        }
      ]
    },
    {
      "cell_type": "markdown",
      "metadata": {
        "id": "ouKZ2pUZR-u9"
      },
      "source": [
        "###COURSERA Condition : Ignore cells with a borough that is Not assigned"
      ]
    },
    {
      "cell_type": "code",
      "metadata": {
        "id": "hmoZ6v6bR-u_",
        "colab": {
          "base_uri": "https://localhost:8080/",
          "height": 219
        },
        "outputId": "07351282-391e-4b4a-9363-d1f18439936e"
      },
      "source": [
        "data = data[data['Borough'] != 'Not assigned']\n",
        "print(data.shape)\n",
        "data.head()"
      ],
      "execution_count": null,
      "outputs": [
        {
          "output_type": "stream",
          "text": [
            "(103, 3)\n"
          ],
          "name": "stdout"
        },
        {
          "output_type": "execute_result",
          "data": {
            "text/html": [
              "<div>\n",
              "<style scoped>\n",
              "    .dataframe tbody tr th:only-of-type {\n",
              "        vertical-align: middle;\n",
              "    }\n",
              "\n",
              "    .dataframe tbody tr th {\n",
              "        vertical-align: top;\n",
              "    }\n",
              "\n",
              "    .dataframe thead th {\n",
              "        text-align: right;\n",
              "    }\n",
              "</style>\n",
              "<table border=\"1\" class=\"dataframe\">\n",
              "  <thead>\n",
              "    <tr style=\"text-align: right;\">\n",
              "      <th></th>\n",
              "      <th>Postal Code</th>\n",
              "      <th>Borough</th>\n",
              "      <th>Neighborhood</th>\n",
              "    </tr>\n",
              "  </thead>\n",
              "  <tbody>\n",
              "    <tr>\n",
              "      <th>9</th>\n",
              "      <td>M1B</td>\n",
              "      <td>Scarborough</td>\n",
              "      <td>Malvern, Rouge</td>\n",
              "    </tr>\n",
              "    <tr>\n",
              "      <th>18</th>\n",
              "      <td>M1C</td>\n",
              "      <td>Scarborough</td>\n",
              "      <td>Rouge Hill, Port Union, Highland Creek</td>\n",
              "    </tr>\n",
              "    <tr>\n",
              "      <th>27</th>\n",
              "      <td>M1E</td>\n",
              "      <td>Scarborough</td>\n",
              "      <td>Guildwood, Morningside, West Hill</td>\n",
              "    </tr>\n",
              "    <tr>\n",
              "      <th>36</th>\n",
              "      <td>M1G</td>\n",
              "      <td>Scarborough</td>\n",
              "      <td>Woburn</td>\n",
              "    </tr>\n",
              "    <tr>\n",
              "      <th>45</th>\n",
              "      <td>M1H</td>\n",
              "      <td>Scarborough</td>\n",
              "      <td>Cedarbrae</td>\n",
              "    </tr>\n",
              "  </tbody>\n",
              "</table>\n",
              "</div>"
            ],
            "text/plain": [
              "   Postal Code      Borough                            Neighborhood\n",
              "9          M1B  Scarborough                          Malvern, Rouge\n",
              "18         M1C  Scarborough  Rouge Hill, Port Union, Highland Creek\n",
              "27         M1E  Scarborough       Guildwood, Morningside, West Hill\n",
              "36         M1G  Scarborough                                  Woburn\n",
              "45         M1H  Scarborough                               Cedarbrae"
            ]
          },
          "metadata": {
            "tags": []
          },
          "execution_count": 8
        }
      ]
    },
    {
      "cell_type": "markdown",
      "metadata": {
        "id": "iACXUSkrURsD"
      },
      "source": [
        "###CO-ORDINATES CSV"
      ]
    },
    {
      "cell_type": "code",
      "metadata": {
        "id": "Y_vdFo-QF7wH",
        "colab": {
          "base_uri": "https://localhost:8080/",
          "height": 124
        },
        "outputId": "4bf60923-beb6-44eb-936a-3cbb526781fb"
      },
      "source": [
        "from google.colab import drive\n",
        "drive.mount('/content/drive/')"
      ],
      "execution_count": null,
      "outputs": [
        {
          "output_type": "stream",
          "text": [
            "Go to this URL in a browser: https://accounts.google.com/o/oauth2/auth?client_id=947318989803-6bn6qk8qdgf4n4g3pfee6491hc0brc4i.apps.googleusercontent.com&redirect_uri=urn%3aietf%3awg%3aoauth%3a2.0%3aoob&scope=email%20https%3a%2f%2fwww.googleapis.com%2fauth%2fdocs.test%20https%3a%2f%2fwww.googleapis.com%2fauth%2fdrive%20https%3a%2f%2fwww.googleapis.com%2fauth%2fdrive.photos.readonly%20https%3a%2f%2fwww.googleapis.com%2fauth%2fpeopleapi.readonly&response_type=code\n",
            "\n",
            "Enter your authorization code:\n",
            "··········\n",
            "Mounted at /content/drive/\n"
          ],
          "name": "stdout"
        }
      ]
    },
    {
      "cell_type": "code",
      "metadata": {
        "id": "curoBZdpGyMY"
      },
      "source": [
        "path = '/content/drive/My Drive/Geospatial_Coordinates.csv'\n",
        "coordinates = pd.read_csv(path)\n",
        "coordinates = coordinates.sort_values(by = ['Postal Code'])\n",
        "#coordinates.head()"
      ],
      "execution_count": null,
      "outputs": []
    },
    {
      "cell_type": "code",
      "metadata": {
        "id": "NxMA5BLhSPgr",
        "colab": {
          "base_uri": "https://localhost:8080/",
          "height": 355
        },
        "outputId": "2659e614-75d4-45d9-f3ed-ec73f47d0e47"
      },
      "source": [
        "data = pd.merge(data, coordinates, on=\"Postal Code\")\n",
        "data.head(10)"
      ],
      "execution_count": null,
      "outputs": [
        {
          "output_type": "execute_result",
          "data": {
            "text/html": [
              "<div>\n",
              "<style scoped>\n",
              "    .dataframe tbody tr th:only-of-type {\n",
              "        vertical-align: middle;\n",
              "    }\n",
              "\n",
              "    .dataframe tbody tr th {\n",
              "        vertical-align: top;\n",
              "    }\n",
              "\n",
              "    .dataframe thead th {\n",
              "        text-align: right;\n",
              "    }\n",
              "</style>\n",
              "<table border=\"1\" class=\"dataframe\">\n",
              "  <thead>\n",
              "    <tr style=\"text-align: right;\">\n",
              "      <th></th>\n",
              "      <th>Postal Code</th>\n",
              "      <th>Borough</th>\n",
              "      <th>Neighborhood</th>\n",
              "      <th>Latitude</th>\n",
              "      <th>Longitude</th>\n",
              "    </tr>\n",
              "  </thead>\n",
              "  <tbody>\n",
              "    <tr>\n",
              "      <th>0</th>\n",
              "      <td>M1B</td>\n",
              "      <td>Scarborough</td>\n",
              "      <td>Malvern, Rouge</td>\n",
              "      <td>43.806686</td>\n",
              "      <td>-79.194353</td>\n",
              "    </tr>\n",
              "    <tr>\n",
              "      <th>1</th>\n",
              "      <td>M1C</td>\n",
              "      <td>Scarborough</td>\n",
              "      <td>Rouge Hill, Port Union, Highland Creek</td>\n",
              "      <td>43.784535</td>\n",
              "      <td>-79.160497</td>\n",
              "    </tr>\n",
              "    <tr>\n",
              "      <th>2</th>\n",
              "      <td>M1E</td>\n",
              "      <td>Scarborough</td>\n",
              "      <td>Guildwood, Morningside, West Hill</td>\n",
              "      <td>43.763573</td>\n",
              "      <td>-79.188711</td>\n",
              "    </tr>\n",
              "    <tr>\n",
              "      <th>3</th>\n",
              "      <td>M1G</td>\n",
              "      <td>Scarborough</td>\n",
              "      <td>Woburn</td>\n",
              "      <td>43.770992</td>\n",
              "      <td>-79.216917</td>\n",
              "    </tr>\n",
              "    <tr>\n",
              "      <th>4</th>\n",
              "      <td>M1H</td>\n",
              "      <td>Scarborough</td>\n",
              "      <td>Cedarbrae</td>\n",
              "      <td>43.773136</td>\n",
              "      <td>-79.239476</td>\n",
              "    </tr>\n",
              "    <tr>\n",
              "      <th>5</th>\n",
              "      <td>M1J</td>\n",
              "      <td>Scarborough</td>\n",
              "      <td>Scarborough Village</td>\n",
              "      <td>43.744734</td>\n",
              "      <td>-79.239476</td>\n",
              "    </tr>\n",
              "    <tr>\n",
              "      <th>6</th>\n",
              "      <td>M1K</td>\n",
              "      <td>Scarborough</td>\n",
              "      <td>Kennedy Park, Ionview, East Birchmount Park</td>\n",
              "      <td>43.727929</td>\n",
              "      <td>-79.262029</td>\n",
              "    </tr>\n",
              "    <tr>\n",
              "      <th>7</th>\n",
              "      <td>M1L</td>\n",
              "      <td>Scarborough</td>\n",
              "      <td>Golden Mile, Clairlea, Oakridge</td>\n",
              "      <td>43.711112</td>\n",
              "      <td>-79.284577</td>\n",
              "    </tr>\n",
              "    <tr>\n",
              "      <th>8</th>\n",
              "      <td>M1M</td>\n",
              "      <td>Scarborough</td>\n",
              "      <td>Cliffside, Cliffcrest, Scarborough Village West</td>\n",
              "      <td>43.716316</td>\n",
              "      <td>-79.239476</td>\n",
              "    </tr>\n",
              "    <tr>\n",
              "      <th>9</th>\n",
              "      <td>M1N</td>\n",
              "      <td>Scarborough</td>\n",
              "      <td>Birch Cliff, Cliffside West</td>\n",
              "      <td>43.692657</td>\n",
              "      <td>-79.264848</td>\n",
              "    </tr>\n",
              "  </tbody>\n",
              "</table>\n",
              "</div>"
            ],
            "text/plain": [
              "  Postal Code      Borough  ...   Latitude  Longitude\n",
              "0         M1B  Scarborough  ...  43.806686 -79.194353\n",
              "1         M1C  Scarborough  ...  43.784535 -79.160497\n",
              "2         M1E  Scarborough  ...  43.763573 -79.188711\n",
              "3         M1G  Scarborough  ...  43.770992 -79.216917\n",
              "4         M1H  Scarborough  ...  43.773136 -79.239476\n",
              "5         M1J  Scarborough  ...  43.744734 -79.239476\n",
              "6         M1K  Scarborough  ...  43.727929 -79.262029\n",
              "7         M1L  Scarborough  ...  43.711112 -79.284577\n",
              "8         M1M  Scarborough  ...  43.716316 -79.239476\n",
              "9         M1N  Scarborough  ...  43.692657 -79.264848\n",
              "\n",
              "[10 rows x 5 columns]"
            ]
          },
          "metadata": {
            "tags": []
          },
          "execution_count": 11
        }
      ]
    },
    {
      "cell_type": "markdown",
      "metadata": {
        "id": "wFNYYTF-Ed5p"
      },
      "source": [
        "###DATA Description"
      ]
    },
    {
      "cell_type": "code",
      "metadata": {
        "id": "x2pbecLjl6KZ"
      },
      "source": [
        "data.to_csv('Toronto.csv')\n",
        "!cp Toronto.csv \"drive/My Drive/Coursera/IBM\""
      ],
      "execution_count": null,
      "outputs": []
    },
    {
      "cell_type": "code",
      "metadata": {
        "id": "v8YBoJAeDjln",
        "colab": {
          "base_uri": "https://localhost:8080/",
          "height": 294
        },
        "outputId": "96cbaba9-1e3f-42d6-bc7f-1d80ff64d29c"
      },
      "source": [
        "data.describe()"
      ],
      "execution_count": null,
      "outputs": [
        {
          "output_type": "execute_result",
          "data": {
            "text/html": [
              "<div>\n",
              "<style scoped>\n",
              "    .dataframe tbody tr th:only-of-type {\n",
              "        vertical-align: middle;\n",
              "    }\n",
              "\n",
              "    .dataframe tbody tr th {\n",
              "        vertical-align: top;\n",
              "    }\n",
              "\n",
              "    .dataframe thead th {\n",
              "        text-align: right;\n",
              "    }\n",
              "</style>\n",
              "<table border=\"1\" class=\"dataframe\">\n",
              "  <thead>\n",
              "    <tr style=\"text-align: right;\">\n",
              "      <th></th>\n",
              "      <th>Latitude</th>\n",
              "      <th>Longitude</th>\n",
              "    </tr>\n",
              "  </thead>\n",
              "  <tbody>\n",
              "    <tr>\n",
              "      <th>count</th>\n",
              "      <td>103.000000</td>\n",
              "      <td>103.000000</td>\n",
              "    </tr>\n",
              "    <tr>\n",
              "      <th>mean</th>\n",
              "      <td>43.704608</td>\n",
              "      <td>-79.397153</td>\n",
              "    </tr>\n",
              "    <tr>\n",
              "      <th>std</th>\n",
              "      <td>0.052463</td>\n",
              "      <td>0.097146</td>\n",
              "    </tr>\n",
              "    <tr>\n",
              "      <th>min</th>\n",
              "      <td>43.602414</td>\n",
              "      <td>-79.615819</td>\n",
              "    </tr>\n",
              "    <tr>\n",
              "      <th>25%</th>\n",
              "      <td>43.660567</td>\n",
              "      <td>-79.464763</td>\n",
              "    </tr>\n",
              "    <tr>\n",
              "      <th>50%</th>\n",
              "      <td>43.696948</td>\n",
              "      <td>-79.388790</td>\n",
              "    </tr>\n",
              "    <tr>\n",
              "      <th>75%</th>\n",
              "      <td>43.745320</td>\n",
              "      <td>-79.340923</td>\n",
              "    </tr>\n",
              "    <tr>\n",
              "      <th>max</th>\n",
              "      <td>43.836125</td>\n",
              "      <td>-79.160497</td>\n",
              "    </tr>\n",
              "  </tbody>\n",
              "</table>\n",
              "</div>"
            ],
            "text/plain": [
              "         Latitude   Longitude\n",
              "count  103.000000  103.000000\n",
              "mean    43.704608  -79.397153\n",
              "std      0.052463    0.097146\n",
              "min     43.602414  -79.615819\n",
              "25%     43.660567  -79.464763\n",
              "50%     43.696948  -79.388790\n",
              "75%     43.745320  -79.340923\n",
              "max     43.836125  -79.160497"
            ]
          },
          "metadata": {
            "tags": []
          },
          "execution_count": 13
        }
      ]
    },
    {
      "cell_type": "code",
      "metadata": {
        "id": "fjNFYfhtDmyk",
        "colab": {
          "base_uri": "https://localhost:8080/",
          "height": 225
        },
        "outputId": "0cba9414-045a-4aa1-bcb7-3e17e65be529"
      },
      "source": [
        "data.info()"
      ],
      "execution_count": null,
      "outputs": [
        {
          "output_type": "stream",
          "text": [
            "<class 'pandas.core.frame.DataFrame'>\n",
            "Int64Index: 103 entries, 0 to 102\n",
            "Data columns (total 5 columns):\n",
            " #   Column        Non-Null Count  Dtype  \n",
            "---  ------        --------------  -----  \n",
            " 0   Postal Code   103 non-null    object \n",
            " 1   Borough       103 non-null    object \n",
            " 2   Neighborhood  103 non-null    object \n",
            " 3   Latitude      103 non-null    float64\n",
            " 4   Longitude     103 non-null    float64\n",
            "dtypes: float64(2), object(3)\n",
            "memory usage: 4.8+ KB\n"
          ],
          "name": "stdout"
        }
      ]
    },
    {
      "cell_type": "markdown",
      "metadata": {
        "id": "zz8-YUQJEvpD"
      },
      "source": [
        "###\"NA\" Value Check\n"
      ]
    },
    {
      "cell_type": "code",
      "metadata": {
        "id": "rYMvftHNDpu1",
        "colab": {
          "base_uri": "https://localhost:8080/",
          "height": 121
        },
        "outputId": "849c40db-9409-47a7-808d-b9bde00e4eb5"
      },
      "source": [
        "data.isna().sum()"
      ],
      "execution_count": null,
      "outputs": [
        {
          "output_type": "execute_result",
          "data": {
            "text/plain": [
              "Postal Code     0\n",
              "Borough         0\n",
              "Neighborhood    0\n",
              "Latitude        0\n",
              "Longitude       0\n",
              "dtype: int64"
            ]
          },
          "metadata": {
            "tags": []
          },
          "execution_count": 15
        }
      ]
    },
    {
      "cell_type": "markdown",
      "metadata": {
        "id": "vSMrW1xWE1vD"
      },
      "source": [
        "###\"NULL\" Value Check"
      ]
    },
    {
      "cell_type": "code",
      "metadata": {
        "id": "Y9RYS3rRDwc3",
        "colab": {
          "base_uri": "https://localhost:8080/",
          "height": 121
        },
        "outputId": "8864966e-7822-4aea-fb33-d2636398fcaf"
      },
      "source": [
        "data.isnull().sum()"
      ],
      "execution_count": null,
      "outputs": [
        {
          "output_type": "execute_result",
          "data": {
            "text/plain": [
              "Postal Code     0\n",
              "Borough         0\n",
              "Neighborhood    0\n",
              "Latitude        0\n",
              "Longitude       0\n",
              "dtype: int64"
            ]
          },
          "metadata": {
            "tags": []
          },
          "execution_count": 16
        }
      ]
    },
    {
      "cell_type": "markdown",
      "metadata": {
        "id": "ToAaJ1fmIC38"
      },
      "source": [
        "###Value Count of FEATURES"
      ]
    },
    {
      "cell_type": "code",
      "metadata": {
        "id": "b8z6M6e9IC3_",
        "colab": {
          "base_uri": "https://localhost:8080/",
          "height": 676
        },
        "outputId": "1f70429e-ed2f-4561-cd6f-5d12a79bc589"
      },
      "source": [
        "print(data['Postal Code'].value_counts(), \"\\n\")\n",
        "print(data['Borough'].value_counts(), \"\\n\")\n",
        "print(data['Neighborhood'].value_counts(), \"\\n\")"
      ],
      "execution_count": null,
      "outputs": [
        {
          "output_type": "stream",
          "text": [
            "M1R    1\n",
            "M9R    1\n",
            "M2L    1\n",
            "M1J    1\n",
            "M4P    1\n",
            "      ..\n",
            "M1V    1\n",
            "M4V    1\n",
            "M1X    1\n",
            "M1B    1\n",
            "M2N    1\n",
            "Name: Postal Code, Length: 103, dtype: int64 \n",
            "\n",
            "North York          24\n",
            "Downtown Toronto    19\n",
            "Scarborough         17\n",
            "Etobicoke           12\n",
            "Central Toronto      9\n",
            "West Toronto         6\n",
            "York                 5\n",
            "East York            5\n",
            "East Toronto         5\n",
            "Mississauga          1\n",
            "Name: Borough, dtype: int64 \n",
            "\n",
            "Downsview                         4\n",
            "Don Mills                         2\n",
            "Runnymede, The Junction North     1\n",
            "Willowdale, Willowdale West       1\n",
            "Commerce Court, Victoria Hotel    1\n",
            "                                 ..\n",
            "St. James Town                    1\n",
            "Steeles West, L'Amoreaux West     1\n",
            "Woburn                            1\n",
            "The Beaches                       1\n",
            "Thorncliffe Park                  1\n",
            "Name: Neighborhood, Length: 99, dtype: int64 \n",
            "\n"
          ],
          "name": "stdout"
        }
      ]
    },
    {
      "cell_type": "markdown",
      "metadata": {
        "id": "hjEjNaPlI7Yz"
      },
      "source": [
        "##Combining a row with the neighborhoods"
      ]
    },
    {
      "cell_type": "code",
      "metadata": {
        "id": "3kdiWazmViNk",
        "colab": {
          "base_uri": "https://localhost:8080/",
          "height": 35
        },
        "outputId": "7697b575-a21d-4e71-db7d-9da6c6d752e6"
      },
      "source": [
        "X = data.drop(['Latitude',\t'Longitude'], axis = 1)\n",
        "X.shape"
      ],
      "execution_count": null,
      "outputs": [
        {
          "output_type": "execute_result",
          "data": {
            "text/plain": [
              "(103, 3)"
            ]
          },
          "metadata": {
            "tags": []
          },
          "execution_count": 18
        }
      ]
    },
    {
      "cell_type": "code",
      "metadata": {
        "id": "hdvPXSdJI7xN",
        "colab": {
          "base_uri": "https://localhost:8080/",
          "height": 415
        },
        "outputId": "2313591b-8f61-497e-a756-3bd9b09edd68"
      },
      "source": [
        "X = X.groupby(by = 'Postal Code', as_index = False)\n",
        "X.first()"
      ],
      "execution_count": null,
      "outputs": [
        {
          "output_type": "execute_result",
          "data": {
            "text/html": [
              "<div>\n",
              "<style scoped>\n",
              "    .dataframe tbody tr th:only-of-type {\n",
              "        vertical-align: middle;\n",
              "    }\n",
              "\n",
              "    .dataframe tbody tr th {\n",
              "        vertical-align: top;\n",
              "    }\n",
              "\n",
              "    .dataframe thead th {\n",
              "        text-align: right;\n",
              "    }\n",
              "</style>\n",
              "<table border=\"1\" class=\"dataframe\">\n",
              "  <thead>\n",
              "    <tr style=\"text-align: right;\">\n",
              "      <th></th>\n",
              "      <th>Postal Code</th>\n",
              "      <th>Borough</th>\n",
              "      <th>Neighborhood</th>\n",
              "    </tr>\n",
              "  </thead>\n",
              "  <tbody>\n",
              "    <tr>\n",
              "      <th>0</th>\n",
              "      <td>M1B</td>\n",
              "      <td>Scarborough</td>\n",
              "      <td>Malvern, Rouge</td>\n",
              "    </tr>\n",
              "    <tr>\n",
              "      <th>1</th>\n",
              "      <td>M1C</td>\n",
              "      <td>Scarborough</td>\n",
              "      <td>Rouge Hill, Port Union, Highland Creek</td>\n",
              "    </tr>\n",
              "    <tr>\n",
              "      <th>2</th>\n",
              "      <td>M1E</td>\n",
              "      <td>Scarborough</td>\n",
              "      <td>Guildwood, Morningside, West Hill</td>\n",
              "    </tr>\n",
              "    <tr>\n",
              "      <th>3</th>\n",
              "      <td>M1G</td>\n",
              "      <td>Scarborough</td>\n",
              "      <td>Woburn</td>\n",
              "    </tr>\n",
              "    <tr>\n",
              "      <th>4</th>\n",
              "      <td>M1H</td>\n",
              "      <td>Scarborough</td>\n",
              "      <td>Cedarbrae</td>\n",
              "    </tr>\n",
              "    <tr>\n",
              "      <th>...</th>\n",
              "      <td>...</td>\n",
              "      <td>...</td>\n",
              "      <td>...</td>\n",
              "    </tr>\n",
              "    <tr>\n",
              "      <th>98</th>\n",
              "      <td>M9N</td>\n",
              "      <td>York</td>\n",
              "      <td>Weston</td>\n",
              "    </tr>\n",
              "    <tr>\n",
              "      <th>99</th>\n",
              "      <td>M9P</td>\n",
              "      <td>Etobicoke</td>\n",
              "      <td>Westmount</td>\n",
              "    </tr>\n",
              "    <tr>\n",
              "      <th>100</th>\n",
              "      <td>M9R</td>\n",
              "      <td>Etobicoke</td>\n",
              "      <td>Kingsview Village, St. Phillips, Martin Grove ...</td>\n",
              "    </tr>\n",
              "    <tr>\n",
              "      <th>101</th>\n",
              "      <td>M9V</td>\n",
              "      <td>Etobicoke</td>\n",
              "      <td>South Steeles, Silverstone, Humbergate, Jamest...</td>\n",
              "    </tr>\n",
              "    <tr>\n",
              "      <th>102</th>\n",
              "      <td>M9W</td>\n",
              "      <td>Etobicoke</td>\n",
              "      <td>Northwest, West Humber - Clairville</td>\n",
              "    </tr>\n",
              "  </tbody>\n",
              "</table>\n",
              "<p>103 rows × 3 columns</p>\n",
              "</div>"
            ],
            "text/plain": [
              "    Postal Code      Borough                                       Neighborhood\n",
              "0           M1B  Scarborough                                     Malvern, Rouge\n",
              "1           M1C  Scarborough             Rouge Hill, Port Union, Highland Creek\n",
              "2           M1E  Scarborough                  Guildwood, Morningside, West Hill\n",
              "3           M1G  Scarborough                                             Woburn\n",
              "4           M1H  Scarborough                                          Cedarbrae\n",
              "..          ...          ...                                                ...\n",
              "98          M9N         York                                             Weston\n",
              "99          M9P    Etobicoke                                          Westmount\n",
              "100         M9R    Etobicoke  Kingsview Village, St. Phillips, Martin Grove ...\n",
              "101         M9V    Etobicoke  South Steeles, Silverstone, Humbergate, Jamest...\n",
              "102         M9W    Etobicoke                Northwest, West Humber - Clairville\n",
              "\n",
              "[103 rows x 3 columns]"
            ]
          },
          "metadata": {
            "tags": []
          },
          "execution_count": 19
        }
      ]
    },
    {
      "cell_type": "code",
      "metadata": {
        "id": "1AkHzt08WVtr",
        "colab": {
          "base_uri": "https://localhost:8080/",
          "height": 35
        },
        "outputId": "cebc5d62-e22a-4bd4-f5b1-f8267b1a06fa"
      },
      "source": [
        "print(\"DataFrame Shape: \", X.first().shape)"
      ],
      "execution_count": null,
      "outputs": [
        {
          "output_type": "stream",
          "text": [
            "DataFrame Shape:  (103, 3)\n"
          ],
          "name": "stdout"
        }
      ]
    },
    {
      "cell_type": "code",
      "metadata": {
        "id": "Ig4ycfB-dr7E",
        "colab": {
          "base_uri": "https://localhost:8080/",
          "height": 386
        },
        "outputId": "01ec7097-7519-4bca-ebca-4217fe6d1233"
      },
      "source": [
        "data.groupby('Borough').count()"
      ],
      "execution_count": null,
      "outputs": [
        {
          "output_type": "execute_result",
          "data": {
            "text/html": [
              "<div>\n",
              "<style scoped>\n",
              "    .dataframe tbody tr th:only-of-type {\n",
              "        vertical-align: middle;\n",
              "    }\n",
              "\n",
              "    .dataframe tbody tr th {\n",
              "        vertical-align: top;\n",
              "    }\n",
              "\n",
              "    .dataframe thead th {\n",
              "        text-align: right;\n",
              "    }\n",
              "</style>\n",
              "<table border=\"1\" class=\"dataframe\">\n",
              "  <thead>\n",
              "    <tr style=\"text-align: right;\">\n",
              "      <th></th>\n",
              "      <th>Postal Code</th>\n",
              "      <th>Neighborhood</th>\n",
              "      <th>Latitude</th>\n",
              "      <th>Longitude</th>\n",
              "    </tr>\n",
              "    <tr>\n",
              "      <th>Borough</th>\n",
              "      <th></th>\n",
              "      <th></th>\n",
              "      <th></th>\n",
              "      <th></th>\n",
              "    </tr>\n",
              "  </thead>\n",
              "  <tbody>\n",
              "    <tr>\n",
              "      <th>Central Toronto</th>\n",
              "      <td>9</td>\n",
              "      <td>9</td>\n",
              "      <td>9</td>\n",
              "      <td>9</td>\n",
              "    </tr>\n",
              "    <tr>\n",
              "      <th>Downtown Toronto</th>\n",
              "      <td>19</td>\n",
              "      <td>19</td>\n",
              "      <td>19</td>\n",
              "      <td>19</td>\n",
              "    </tr>\n",
              "    <tr>\n",
              "      <th>East Toronto</th>\n",
              "      <td>5</td>\n",
              "      <td>5</td>\n",
              "      <td>5</td>\n",
              "      <td>5</td>\n",
              "    </tr>\n",
              "    <tr>\n",
              "      <th>East York</th>\n",
              "      <td>5</td>\n",
              "      <td>5</td>\n",
              "      <td>5</td>\n",
              "      <td>5</td>\n",
              "    </tr>\n",
              "    <tr>\n",
              "      <th>Etobicoke</th>\n",
              "      <td>12</td>\n",
              "      <td>12</td>\n",
              "      <td>12</td>\n",
              "      <td>12</td>\n",
              "    </tr>\n",
              "    <tr>\n",
              "      <th>Mississauga</th>\n",
              "      <td>1</td>\n",
              "      <td>1</td>\n",
              "      <td>1</td>\n",
              "      <td>1</td>\n",
              "    </tr>\n",
              "    <tr>\n",
              "      <th>North York</th>\n",
              "      <td>24</td>\n",
              "      <td>24</td>\n",
              "      <td>24</td>\n",
              "      <td>24</td>\n",
              "    </tr>\n",
              "    <tr>\n",
              "      <th>Scarborough</th>\n",
              "      <td>17</td>\n",
              "      <td>17</td>\n",
              "      <td>17</td>\n",
              "      <td>17</td>\n",
              "    </tr>\n",
              "    <tr>\n",
              "      <th>West Toronto</th>\n",
              "      <td>6</td>\n",
              "      <td>6</td>\n",
              "      <td>6</td>\n",
              "      <td>6</td>\n",
              "    </tr>\n",
              "    <tr>\n",
              "      <th>York</th>\n",
              "      <td>5</td>\n",
              "      <td>5</td>\n",
              "      <td>5</td>\n",
              "      <td>5</td>\n",
              "    </tr>\n",
              "  </tbody>\n",
              "</table>\n",
              "</div>"
            ],
            "text/plain": [
              "                  Postal Code  Neighborhood  Latitude  Longitude\n",
              "Borough                                                         \n",
              "Central Toronto             9             9         9          9\n",
              "Downtown Toronto           19            19        19         19\n",
              "East Toronto                5             5         5          5\n",
              "East York                   5             5         5          5\n",
              "Etobicoke                  12            12        12         12\n",
              "Mississauga                 1             1         1          1\n",
              "North York                 24            24        24         24\n",
              "Scarborough                17            17        17         17\n",
              "West Toronto                6             6         6          6\n",
              "York                        5             5         5          5"
            ]
          },
          "metadata": {
            "tags": []
          },
          "execution_count": 21
        }
      ]
    },
    {
      "cell_type": "markdown",
      "metadata": {
        "id": "eFoaYUoWoDKt"
      },
      "source": [
        "###VISUALIZATION"
      ]
    },
    {
      "cell_type": "code",
      "metadata": {
        "id": "Wlv0Z-lLeN_C",
        "colab": {
          "base_uri": "https://localhost:8080/",
          "height": 299
        },
        "outputId": "b2bcac7e-fde8-4111-93d2-e4329b1e3508"
      },
      "source": [
        "data.groupby('Borough').count().plot()"
      ],
      "execution_count": null,
      "outputs": [
        {
          "output_type": "execute_result",
          "data": {
            "text/plain": [
              "<matplotlib.axes._subplots.AxesSubplot at 0x7feda32feb00>"
            ]
          },
          "metadata": {
            "tags": []
          },
          "execution_count": 22
        },
        {
          "output_type": "display_data",
          "data": {
            "image/png": "[encoded data removed]",
            "text/plain": [
              "<Figure size 432x288 with 1 Axes>"
            ]
          },
          "metadata": {
            "tags": [],
            "needs_background": "light"
          }
        }
      ]
    },
    {
      "cell_type": "code",
      "metadata": {
        "id": "GsfALUqUd_9P",
        "colab": {
          "base_uri": "https://localhost:8080/",
          "height": 381
        },
        "outputId": "bf47ea47-cc53-4978-d55a-da01ee99d469"
      },
      "source": [
        "data.groupby('Borough').count().plot.bar()"
      ],
      "execution_count": null,
      "outputs": [
        {
          "output_type": "execute_result",
          "data": {
            "text/plain": [
              "<matplotlib.axes._subplots.AxesSubplot at 0x7feda3331940>"
            ]
          },
          "metadata": {
            "tags": []
          },
          "execution_count": 23
        },
        {
          "output_type": "display_data",
          "data": {
            "image/png": "[encoded data removed]",
            "text/plain": [
              "<Figure size 432x288 with 1 Axes>"
            ]
          },
          "metadata": {
            "tags": [],
            "needs_background": "light"
          }
        }
      ]
    },
    {
      "cell_type": "markdown",
      "metadata": {
        "id": "SHW57pEqn9EO"
      },
      "source": [
        "###NEIGHBORHOODS"
      ]
    },
    {
      "cell_type": "code",
      "metadata": {
        "id": "073-dv7Ge85S",
        "colab": {
          "base_uri": "https://localhost:8080/",
          "height": 446
        },
        "outputId": "2d64e41a-91cb-4830-aed4-bcd09a319394"
      },
      "source": [
        "data.groupby('Neighborhood').count()"
      ],
      "execution_count": null,
      "outputs": [
        {
          "output_type": "execute_result",
          "data": {
            "text/html": [
              "<div>\n",
              "<style scoped>\n",
              "    .dataframe tbody tr th:only-of-type {\n",
              "        vertical-align: middle;\n",
              "    }\n",
              "\n",
              "    .dataframe tbody tr th {\n",
              "        vertical-align: top;\n",
              "    }\n",
              "\n",
              "    .dataframe thead th {\n",
              "        text-align: right;\n",
              "    }\n",
              "</style>\n",
              "<table border=\"1\" class=\"dataframe\">\n",
              "  <thead>\n",
              "    <tr style=\"text-align: right;\">\n",
              "      <th></th>\n",
              "      <th>Postal Code</th>\n",
              "      <th>Borough</th>\n",
              "      <th>Latitude</th>\n",
              "      <th>Longitude</th>\n",
              "    </tr>\n",
              "    <tr>\n",
              "      <th>Neighborhood</th>\n",
              "      <th></th>\n",
              "      <th></th>\n",
              "      <th></th>\n",
              "      <th></th>\n",
              "    </tr>\n",
              "  </thead>\n",
              "  <tbody>\n",
              "    <tr>\n",
              "      <th>Agincourt</th>\n",
              "      <td>1</td>\n",
              "      <td>1</td>\n",
              "      <td>1</td>\n",
              "      <td>1</td>\n",
              "    </tr>\n",
              "    <tr>\n",
              "      <th>Alderwood, Long Branch</th>\n",
              "      <td>1</td>\n",
              "      <td>1</td>\n",
              "      <td>1</td>\n",
              "      <td>1</td>\n",
              "    </tr>\n",
              "    <tr>\n",
              "      <th>Bathurst Manor, Wilson Heights, Downsview North</th>\n",
              "      <td>1</td>\n",
              "      <td>1</td>\n",
              "      <td>1</td>\n",
              "      <td>1</td>\n",
              "    </tr>\n",
              "    <tr>\n",
              "      <th>Bayview Village</th>\n",
              "      <td>1</td>\n",
              "      <td>1</td>\n",
              "      <td>1</td>\n",
              "      <td>1</td>\n",
              "    </tr>\n",
              "    <tr>\n",
              "      <th>Bedford Park, Lawrence Manor East</th>\n",
              "      <td>1</td>\n",
              "      <td>1</td>\n",
              "      <td>1</td>\n",
              "      <td>1</td>\n",
              "    </tr>\n",
              "    <tr>\n",
              "      <th>...</th>\n",
              "      <td>...</td>\n",
              "      <td>...</td>\n",
              "      <td>...</td>\n",
              "      <td>...</td>\n",
              "    </tr>\n",
              "    <tr>\n",
              "      <th>Willowdale, Willowdale West</th>\n",
              "      <td>1</td>\n",
              "      <td>1</td>\n",
              "      <td>1</td>\n",
              "      <td>1</td>\n",
              "    </tr>\n",
              "    <tr>\n",
              "      <th>Woburn</th>\n",
              "      <td>1</td>\n",
              "      <td>1</td>\n",
              "      <td>1</td>\n",
              "      <td>1</td>\n",
              "    </tr>\n",
              "    <tr>\n",
              "      <th>Woodbine Heights</th>\n",
              "      <td>1</td>\n",
              "      <td>1</td>\n",
              "      <td>1</td>\n",
              "      <td>1</td>\n",
              "    </tr>\n",
              "    <tr>\n",
              "      <th>York Mills West</th>\n",
              "      <td>1</td>\n",
              "      <td>1</td>\n",
              "      <td>1</td>\n",
              "      <td>1</td>\n",
              "    </tr>\n",
              "    <tr>\n",
              "      <th>York Mills, Silver Hills</th>\n",
              "      <td>1</td>\n",
              "      <td>1</td>\n",
              "      <td>1</td>\n",
              "      <td>1</td>\n",
              "    </tr>\n",
              "  </tbody>\n",
              "</table>\n",
              "<p>99 rows × 4 columns</p>\n",
              "</div>"
            ],
            "text/plain": [
              "                                                 Postal Code  ...  Longitude\n",
              "Neighborhood                                                  ...           \n",
              "Agincourt                                                  1  ...          1\n",
              "Alderwood, Long Branch                                     1  ...          1\n",
              "Bathurst Manor, Wilson Heights, Downsview North            1  ...          1\n",
              "Bayview Village                                            1  ...          1\n",
              "Bedford Park, Lawrence Manor East                          1  ...          1\n",
              "...                                                      ...  ...        ...\n",
              "Willowdale, Willowdale West                                1  ...          1\n",
              "Woburn                                                     1  ...          1\n",
              "Woodbine Heights                                           1  ...          1\n",
              "York Mills West                                            1  ...          1\n",
              "York Mills, Silver Hills                                   1  ...          1\n",
              "\n",
              "[99 rows x 4 columns]"
            ]
          },
          "metadata": {
            "tags": []
          },
          "execution_count": 24
        }
      ]
    },
    {
      "cell_type": "code",
      "metadata": {
        "id": "wBj3vmenfNvP",
        "colab": {
          "base_uri": "https://localhost:8080/",
          "height": 52
        },
        "outputId": "c1eaf117-7b2d-4eae-ee51-3073ea1b1b86"
      },
      "source": [
        "print('There are {} uniques Neighborhood.'.format(len(data['Neighborhood'].unique())))\n",
        "print('There are {} uniques Borough.'.format(len(data['Borough'].unique())))"
      ],
      "execution_count": null,
      "outputs": [
        {
          "output_type": "stream",
          "text": [
            "There are 99 uniques Neighborhood.\n",
            "There are 10 uniques Borough.\n"
          ],
          "name": "stdout"
        }
      ]
    },
    {
      "cell_type": "markdown",
      "metadata": {
        "id": "gQg_RenPi3YQ"
      },
      "source": [
        "#Segmenting and Clustering Neighborhoods in TORONTO"
      ]
    },
    {
      "cell_type": "markdown",
      "metadata": {
        "id": "HfjvtAoGofkP"
      },
      "source": [
        "> IMPORT LIBRARIES"
      ]
    },
    {
      "cell_type": "code",
      "metadata": {
        "id": "V5ABJzXVhiTr",
        "colab": {
          "base_uri": "https://localhost:8080/",
          "height": 87
        },
        "outputId": "66486318-0d75-4426-ae79-52e466a960be"
      },
      "source": [
        "import requests # library to handle requests\n",
        "import pandas as pd # library for data analsysis\n",
        "import numpy as np # library to handle data in a vectorized manner\n",
        "import random # library for random number generation\n",
        "\n",
        "!conda install -c conda-forge geopy --yes \n",
        "from geopy.geocoders import Nominatim # module to convert an address into latitude and longitude values\n",
        "\n",
        "# libraries for displaying images\n",
        "from IPython.display import Image \n",
        "from IPython.core.display import HTML \n",
        "    \n",
        "# tranforming json file into a pandas dataframe library\n",
        "#from pandas.io.json import json_normalize\n",
        "from pandas import json_normalize\n",
        "\n",
        "!conda install -c conda-forge folium=0.5.0 --yes\n",
        "import folium # plotting library\n",
        "\n",
        "print('Folium installed')\n",
        "print('Libraries imported.')"
      ],
      "execution_count": null,
      "outputs": [
        {
          "output_type": "stream",
          "text": [
            "/bin/bash: conda: command not found\n",
            "/bin/bash: conda: command not found\n",
            "Folium installed\n",
            "Libraries imported.\n"
          ],
          "name": "stdout"
        }
      ]
    },
    {
      "cell_type": "code",
      "metadata": {
        "id": "MhityBmahs0O",
        "colab": {
          "base_uri": "https://localhost:8080/",
          "height": 89
        },
        "outputId": "ac355f74-3e28-4bb7-ebd5-0fda528e20e9"
      },
      "source": [
        "import random # library for random number generation\n",
        "import numpy as np # library for vectorized computation\n",
        "import pandas as pd # library to process data as dataframes\n",
        "\n",
        "import matplotlib.pyplot as plt # plotting library\n",
        "# backend for rendering plots within the browser\n",
        "%matplotlib inline \n",
        "\n",
        "from sklearn.cluster import KMeans \n",
        "from sklearn.datasets.samples_generator import make_blobs\n",
        "\n",
        "print('Libraries imported.')"
      ],
      "execution_count": null,
      "outputs": [
        {
          "output_type": "stream",
          "text": [
            "Libraries imported.\n"
          ],
          "name": "stdout"
        },
        {
          "output_type": "stream",
          "text": [
            "/usr/local/lib/python3.6/dist-packages/sklearn/utils/deprecation.py:144: FutureWarning: The sklearn.datasets.samples_generator module is  deprecated in version 0.22 and will be removed in version 0.24. The corresponding classes / functions should instead be imported from sklearn.datasets. Anything that cannot be imported from sklearn.datasets is now part of the private API.\n",
            "  warnings.warn(message, FutureWarning)\n"
          ],
          "name": "stderr"
        }
      ]
    },
    {
      "cell_type": "code",
      "metadata": {
        "id": "QTKKfjVVgRYw",
        "colab": {
          "base_uri": "https://localhost:8080/",
          "height": 35
        },
        "outputId": "05108393-c54c-4e0c-a99b-28ba5b57e187"
      },
      "source": [
        "import numpy as np # library to handle data in a vectorized manner\n",
        "\n",
        "import pandas as pd # library for data analsysis\n",
        "pd.set_option('display.max_columns', None)\n",
        "pd.set_option('display.max_rows', None)\n",
        "\n",
        "import json # library to handle JSON files\n",
        "\n",
        "#!conda install -c conda-forge geopy --yes # uncomment this line if you haven't completed the Foursquare API lab\n",
        "from geopy.geocoders import Nominatim # convert an address into latitude and longitude values\n",
        "\n",
        "import requests # library to handle requests\n",
        "#from pandas.io.json import json_normalize\n",
        "from pandas import json_normalize # tranform JSON file into a pandas dataframe\n",
        "\n",
        "# Matplotlib and associated plotting modules\n",
        "import matplotlib.cm as cm\n",
        "import matplotlib.colors as colors\n",
        "\n",
        "# import k-means from clustering stage\n",
        "from sklearn.cluster import KMeans\n",
        "\n",
        "#!conda install -c conda-forge folium=0.5.0 --yes # uncomment this line if you haven't completed the Foursquare API lab\n",
        "import folium # map rendering library\n",
        "\n",
        "print('Libraries imported.')"
      ],
      "execution_count": null,
      "outputs": [
        {
          "output_type": "stream",
          "text": [
            "Libraries imported.\n"
          ],
          "name": "stdout"
        }
      ]
    },
    {
      "cell_type": "code",
      "metadata": {
        "id": "6YRSdL0qgZ02"
      },
      "source": [
        "#!pip install pandas==1.0.3\n",
        "#import pandas as pd"
      ],
      "execution_count": null,
      "outputs": []
    },
    {
      "cell_type": "code",
      "metadata": {
        "id": "Ca7IYGoEgeFW",
        "colab": {
          "base_uri": "https://localhost:8080/",
          "height": 53
        },
        "outputId": "f1a31bea-8882-494c-f6aa-d80b99725394"
      },
      "source": [
        "\"\"\"!wget -q -O 'toronto_data.json' https://cocl.us/toronto\n",
        "print('Data downloaded!')\n",
        "\n",
        "with open('toronto_data.json') as json_data:\n",
        "    toronto_data = json.load(json_data)\"\"\""
      ],
      "execution_count": null,
      "outputs": [
        {
          "output_type": "execute_result",
          "data": {
            "application/vnd.google.colaboratory.intrinsic+json": {
              "type": "string"
            },
            "text/plain": [
              "\"!wget -q -O 'toronto_data.json' https://cocl.us/toronto\\nprint('Data downloaded!')\\n\\nwith open('toronto_data.json') as json_data:\\n    toronto_data = json.load(json_data)\""
            ]
          },
          "metadata": {
            "tags": []
          },
          "execution_count": 30
        }
      ]
    },
    {
      "cell_type": "markdown",
      "metadata": {
        "id": "eOD_cdiJIPvR"
      },
      "source": [
        "> Quickly examine the resulting dataframe."
      ]
    },
    {
      "cell_type": "code",
      "metadata": {
        "id": "SLxSSUPCi_a9",
        "colab": {
          "base_uri": "https://localhost:8080/",
          "height": 202
        },
        "outputId": "2cddcb8f-8a98-42ef-875e-fea574b42701"
      },
      "source": [
        "data.head()"
      ],
      "execution_count": null,
      "outputs": [
        {
          "output_type": "execute_result",
          "data": {
            "text/html": [
              "<div>\n",
              "<style scoped>\n",
              "    .dataframe tbody tr th:only-of-type {\n",
              "        vertical-align: middle;\n",
              "    }\n",
              "\n",
              "    .dataframe tbody tr th {\n",
              "        vertical-align: top;\n",
              "    }\n",
              "\n",
              "    .dataframe thead th {\n",
              "        text-align: right;\n",
              "    }\n",
              "</style>\n",
              "<table border=\"1\" class=\"dataframe\">\n",
              "  <thead>\n",
              "    <tr style=\"text-align: right;\">\n",
              "      <th></th>\n",
              "      <th>Postal Code</th>\n",
              "      <th>Borough</th>\n",
              "      <th>Neighborhood</th>\n",
              "      <th>Latitude</th>\n",
              "      <th>Longitude</th>\n",
              "    </tr>\n",
              "  </thead>\n",
              "  <tbody>\n",
              "    <tr>\n",
              "      <th>0</th>\n",
              "      <td>M1B</td>\n",
              "      <td>Scarborough</td>\n",
              "      <td>Malvern, Rouge</td>\n",
              "      <td>43.806686</td>\n",
              "      <td>-79.194353</td>\n",
              "    </tr>\n",
              "    <tr>\n",
              "      <th>1</th>\n",
              "      <td>M1C</td>\n",
              "      <td>Scarborough</td>\n",
              "      <td>Rouge Hill, Port Union, Highland Creek</td>\n",
              "      <td>43.784535</td>\n",
              "      <td>-79.160497</td>\n",
              "    </tr>\n",
              "    <tr>\n",
              "      <th>2</th>\n",
              "      <td>M1E</td>\n",
              "      <td>Scarborough</td>\n",
              "      <td>Guildwood, Morningside, West Hill</td>\n",
              "      <td>43.763573</td>\n",
              "      <td>-79.188711</td>\n",
              "    </tr>\n",
              "    <tr>\n",
              "      <th>3</th>\n",
              "      <td>M1G</td>\n",
              "      <td>Scarborough</td>\n",
              "      <td>Woburn</td>\n",
              "      <td>43.770992</td>\n",
              "      <td>-79.216917</td>\n",
              "    </tr>\n",
              "    <tr>\n",
              "      <th>4</th>\n",
              "      <td>M1H</td>\n",
              "      <td>Scarborough</td>\n",
              "      <td>Cedarbrae</td>\n",
              "      <td>43.773136</td>\n",
              "      <td>-79.239476</td>\n",
              "    </tr>\n",
              "  </tbody>\n",
              "</table>\n",
              "</div>"
            ],
            "text/plain": [
              "  Postal Code      Borough                            Neighborhood   Latitude  \\\n",
              "0         M1B  Scarborough                          Malvern, Rouge  43.806686   \n",
              "1         M1C  Scarborough  Rouge Hill, Port Union, Highland Creek  43.784535   \n",
              "2         M1E  Scarborough       Guildwood, Morningside, West Hill  43.763573   \n",
              "3         M1G  Scarborough                                  Woburn  43.770992   \n",
              "4         M1H  Scarborough                               Cedarbrae  43.773136   \n",
              "\n",
              "   Longitude  \n",
              "0 -79.194353  \n",
              "1 -79.160497  \n",
              "2 -79.188711  \n",
              "3 -79.216917  \n",
              "4 -79.239476  "
            ]
          },
          "metadata": {
            "tags": []
          },
          "execution_count": 31
        }
      ]
    },
    {
      "cell_type": "code",
      "metadata": {
        "id": "0y97xgejjDd5",
        "colab": {
          "base_uri": "https://localhost:8080/",
          "height": 35
        },
        "outputId": "bd6d3e7b-7041-43f8-9556-4581e0aab135"
      },
      "source": [
        "print('The dataframe has {} boroughs and {} neighborhoods.'.format(len(data['Borough'].unique()), data.shape[0]))"
      ],
      "execution_count": null,
      "outputs": [
        {
          "output_type": "stream",
          "text": [
            "The dataframe has 10 boroughs and 103 neighborhoods.\n"
          ],
          "name": "stdout"
        }
      ]
    },
    {
      "cell_type": "markdown",
      "metadata": {
        "id": "5aNMgeSJIKFp"
      },
      "source": [
        "Use geopy library to get the latitude and longitude values of Toronto"
      ]
    },
    {
      "cell_type": "markdown",
      "metadata": {
        "id": "AKzEfazTIF-j"
      },
      "source": [
        "> In order to define an instance of the geocoder, we need to define a user_agent. We will name our agent <em>ny_explorer</em>, as shown below."
      ]
    },
    {
      "cell_type": "code",
      "metadata": {
        "id": "qrbpmlg6jZN0",
        "colab": {
          "base_uri": "https://localhost:8080/",
          "height": 35
        },
        "outputId": "aee424e2-583d-44f6-8d2b-2c899d204b8b"
      },
      "source": [
        "address = 'Toronto'\n",
        "\n",
        "geolocator = Nominatim(user_agent=\"ny_explorer\")\n",
        "location = geolocator.geocode(address)\n",
        "latitude = location.latitude\n",
        "longitude = location.longitude\n",
        "print('The geograpical coordinate of TORONTO are {}, {}.'.format(latitude, longitude))"
      ],
      "execution_count": null,
      "outputs": [
        {
          "output_type": "stream",
          "text": [
            "The geograpical coordinate of TORONTO are 43.6534817, -79.3839347.\n"
          ],
          "name": "stdout"
        }
      ]
    },
    {
      "cell_type": "markdown",
      "metadata": {
        "id": "bSJw0WvPH98i"
      },
      "source": [
        "> Create a map of Toronto with neighborhoods superimposed on top."
      ]
    },
    {
      "cell_type": "code",
      "metadata": {
        "id": "DPgoEXAcjdFv",
        "colab": {
          "base_uri": "https://localhost:8080/",
          "height": 712
        },
        "outputId": "db901811-17fc-4294-d957-ec8733485fde"
      },
      "source": [
        "# create map of Toronto using latitude and longitude values\n",
        "map_toronto = folium.Map(location=[latitude, longitude], zoom_start=10)\n",
        "\n",
        "# add markers to map\n",
        "for lat, lng, borough, neighborhood in zip(data['Latitude'], data['Longitude'], data['Borough'], data['Neighborhood']):\n",
        "    label = '{}, {}'.format(neighborhood, borough)\n",
        "    label = folium.Popup(label, parse_html=True)\n",
        "    folium.CircleMarker(\n",
        "        [lat, lng],\n",
        "        radius=5,\n",
        "        popup=label,\n",
        "        color='blue',\n",
        "        fill=True,\n",
        "        fill_color='#3186cc',\n",
        "        fill_opacity=0.7,\n",
        "        parse_html=False).add_to(map_toronto)  \n",
        "    \n",
        "map_toronto"
      ],
      "execution_count": null,
      "outputs": [
        {
          "output_type": "execute_result",
          "data": {
            "text/html": [
              "<div style=\"width:100%;\"><div style=\"position:relative;width:100%;height:0;padding-bottom:60%;\"><span style=\"color:#565656\">Make this Notebook Trusted to load map: File -> Trust Notebook</span><iframe src=\"about:blank\" style=\"position:absolute;width:100%;height:100%;left:0;top:0;border:none !important;\" data-html=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 onload=\"this.contentDocument.open();this.contentDocument.write(atob(this.getAttribute('data-html')));this.contentDocument.close();\" allowfullscreen webkitallowfullscreen mozallowfullscreen></iframe></div></div>"
            ],
            "text/plain": [
              "<folium.folium.Map at 0x7fed921aa3c8>"
            ]
          },
          "metadata": {
            "tags": []
          },
          "execution_count": 34
        }
      ]
    },
    {
      "cell_type": "code",
      "metadata": {
        "id": "TPpSi_1eke0s",
        "colab": {
          "base_uri": "https://localhost:8080/",
          "height": 69
        },
        "outputId": "37bccea1-81e9-4d6b-b175-32ec375b1eb8"
      },
      "source": [
        "data['Borough'].unique()"
      ],
      "execution_count": null,
      "outputs": [
        {
          "output_type": "execute_result",
          "data": {
            "text/plain": [
              "array(['Scarborough', 'North York', 'East York', 'East Toronto',\n",
              "       'Central Toronto', 'Downtown Toronto', 'York', 'West Toronto',\n",
              "       'Mississauga', 'Etobicoke'], dtype=object)"
            ]
          },
          "metadata": {
            "tags": []
          },
          "execution_count": 35
        }
      ]
    },
    {
      "cell_type": "markdown",
      "metadata": {
        "id": "7AF0dSXyH4O_"
      },
      "source": [
        "**Folium** is a great visualization library. Feel free to zoom into the above map, and click on each circle mark to reveal the name of the neighborhood and its respective borough."
      ]
    },
    {
      "cell_type": "markdown",
      "metadata": {
        "id": "mNEFuntmHvZj"
      },
      "source": [
        "> However, for illustration purposes, let's simplify the above map and segment and cluster only the neighborhoods in Scarborough. So let's slice the original dataframe and create a new dataframe of the Scarborough data."
      ]
    },
    {
      "cell_type": "code",
      "metadata": {
        "id": "e9aLxoyYj9oN",
        "colab": {
          "base_uri": "https://localhost:8080/",
          "height": 202
        },
        "outputId": "ea599736-d519-41b8-de40-58e76ff6d89e"
      },
      "source": [
        "scarborough_data = data[data['Borough'] == 'Scarborough'].reset_index(drop=True)\n",
        "scarborough_data.head()"
      ],
      "execution_count": null,
      "outputs": [
        {
          "output_type": "execute_result",
          "data": {
            "text/html": [
              "<div>\n",
              "<style scoped>\n",
              "    .dataframe tbody tr th:only-of-type {\n",
              "        vertical-align: middle;\n",
              "    }\n",
              "\n",
              "    .dataframe tbody tr th {\n",
              "        vertical-align: top;\n",
              "    }\n",
              "\n",
              "    .dataframe thead th {\n",
              "        text-align: right;\n",
              "    }\n",
              "</style>\n",
              "<table border=\"1\" class=\"dataframe\">\n",
              "  <thead>\n",
              "    <tr style=\"text-align: right;\">\n",
              "      <th></th>\n",
              "      <th>Postal Code</th>\n",
              "      <th>Borough</th>\n",
              "      <th>Neighborhood</th>\n",
              "      <th>Latitude</th>\n",
              "      <th>Longitude</th>\n",
              "    </tr>\n",
              "  </thead>\n",
              "  <tbody>\n",
              "    <tr>\n",
              "      <th>0</th>\n",
              "      <td>M1B</td>\n",
              "      <td>Scarborough</td>\n",
              "      <td>Malvern, Rouge</td>\n",
              "      <td>43.806686</td>\n",
              "      <td>-79.194353</td>\n",
              "    </tr>\n",
              "    <tr>\n",
              "      <th>1</th>\n",
              "      <td>M1C</td>\n",
              "      <td>Scarborough</td>\n",
              "      <td>Rouge Hill, Port Union, Highland Creek</td>\n",
              "      <td>43.784535</td>\n",
              "      <td>-79.160497</td>\n",
              "    </tr>\n",
              "    <tr>\n",
              "      <th>2</th>\n",
              "      <td>M1E</td>\n",
              "      <td>Scarborough</td>\n",
              "      <td>Guildwood, Morningside, West Hill</td>\n",
              "      <td>43.763573</td>\n",
              "      <td>-79.188711</td>\n",
              "    </tr>\n",
              "    <tr>\n",
              "      <th>3</th>\n",
              "      <td>M1G</td>\n",
              "      <td>Scarborough</td>\n",
              "      <td>Woburn</td>\n",
              "      <td>43.770992</td>\n",
              "      <td>-79.216917</td>\n",
              "    </tr>\n",
              "    <tr>\n",
              "      <th>4</th>\n",
              "      <td>M1H</td>\n",
              "      <td>Scarborough</td>\n",
              "      <td>Cedarbrae</td>\n",
              "      <td>43.773136</td>\n",
              "      <td>-79.239476</td>\n",
              "    </tr>\n",
              "  </tbody>\n",
              "</table>\n",
              "</div>"
            ],
            "text/plain": [
              "  Postal Code      Borough                            Neighborhood   Latitude  \\\n",
              "0         M1B  Scarborough                          Malvern, Rouge  43.806686   \n",
              "1         M1C  Scarborough  Rouge Hill, Port Union, Highland Creek  43.784535   \n",
              "2         M1E  Scarborough       Guildwood, Morningside, West Hill  43.763573   \n",
              "3         M1G  Scarborough                                  Woburn  43.770992   \n",
              "4         M1H  Scarborough                               Cedarbrae  43.773136   \n",
              "\n",
              "   Longitude  \n",
              "0 -79.194353  \n",
              "1 -79.160497  \n",
              "2 -79.188711  \n",
              "3 -79.216917  \n",
              "4 -79.239476  "
            ]
          },
          "metadata": {
            "tags": []
          },
          "execution_count": 36
        }
      ]
    },
    {
      "cell_type": "markdown",
      "metadata": {
        "id": "PvW4OfuOHrPh"
      },
      "source": [
        "> Let's get the geographical coordinates of Scarborough."
      ]
    },
    {
      "cell_type": "code",
      "metadata": {
        "id": "5w0iugdgkwDG",
        "colab": {
          "base_uri": "https://localhost:8080/",
          "height": 35
        },
        "outputId": "8913e7d1-3f11-417f-c5a6-8f5452485b9e"
      },
      "source": [
        "address = 'Scarborough, Toronto'\n",
        "\n",
        "geolocator = Nominatim(user_agent=\"ny_explorer\")\n",
        "location = geolocator.geocode(address)\n",
        "latitude = location.latitude\n",
        "longitude = location.longitude\n",
        "print('The geograpical coordinate of Scarborough are {}, {}.'.format(latitude, longitude))"
      ],
      "execution_count": null,
      "outputs": [
        {
          "output_type": "stream",
          "text": [
            "The geograpical coordinate of Scarborough are 43.773077, -79.257774.\n"
          ],
          "name": "stdout"
        }
      ]
    },
    {
      "cell_type": "markdown",
      "metadata": {
        "id": "a6f12Uu8Hjam"
      },
      "source": [
        "> As we did with all of Toronto, let's visualizat Scarborough the neighborhoods in it."
      ]
    },
    {
      "cell_type": "code",
      "metadata": {
        "id": "KBMHWbgJnhqG",
        "colab": {
          "base_uri": "https://localhost:8080/",
          "height": 712
        },
        "outputId": "41cd183d-e25b-4858-9553-91ec51692ffb"
      },
      "source": [
        "# create map of Scarborough using latitude and longitude values\n",
        "map_scarborough = folium.Map(location=[latitude, longitude], zoom_start=11)\n",
        "\n",
        "# add markers to map\n",
        "for lat, lng, label in zip(scarborough_data['Latitude'], scarborough_data['Longitude'], scarborough_data['Neighborhood']):\n",
        "    label = folium.Popup(label, parse_html=True)\n",
        "    folium.CircleMarker(\n",
        "        [lat, lng],\n",
        "        radius=5,\n",
        "        popup=label,\n",
        "        color='blue',\n",
        "        fill=True,\n",
        "        fill_color='#3186cc',\n",
        "        fill_opacity=0.7,\n",
        "        parse_html=False).add_to(map_scarborough)  \n",
        "    \n",
        "map_scarborough"
      ],
      "execution_count": null,
      "outputs": [
        {
          "output_type": "execute_result",
          "data": {
            "text/html": [
              "<div style=\"width:100%;\"><div style=\"position:relative;width:100%;height:0;padding-bottom:60%;\"><span style=\"color:#565656\">Make this Notebook Trusted to load map: File -> Trust Notebook</span><iframe src=\"about:blank\" style=\"position:absolute;width:100%;height:100%;left:0;top:0;border:none !important;\" data-html=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 onload=\"this.contentDocument.open();this.contentDocument.write(atob(this.getAttribute('data-html')));this.contentDocument.close();\" allowfullscreen webkitallowfullscreen mozallowfullscreen></iframe></div></div>"
            ],
            "text/plain": [
              "<folium.folium.Map at 0x7fed9211ae80>"
            ]
          },
          "metadata": {
            "tags": []
          },
          "execution_count": 38
        }
      ]
    },
    {
      "cell_type": "markdown",
      "metadata": {
        "id": "rBzOr6TOHdbS"
      },
      "source": [
        "> Define Foursquare Credentials and Version"
      ]
    },
    {
      "cell_type": "code",
      "metadata": {
        "id": "kGBjKgQRrk8M",
        "colab": {
          "base_uri": "https://localhost:8080/",
          "height": 69
        },
        "outputId": "f6d0f784-61aa-4d8a-ae5a-e9a4cdd1b2d7"
      },
      "source": [
        "CLIENT_ID = 'MHM2TJH4YIURRUE4CQAVYN1AYAX2KLFOAY4BV43OHCFG5RJN' # your Foursquare ID\n",
        "CLIENT_SECRET = 'MNVUUDPVHCKPZRSMQFVKKQQLE5AMJK3BEYSWFJ2DUE1XW2XN' # your Foursquare Secret\n",
        "VERSION = '20180604'\n",
        "\n",
        "print('Your credentails:')\n",
        "print('CLIENT_ID: ' + CLIENT_ID)\n",
        "print('CLIENT_SECRET:' + CLIENT_SECRET)"
      ],
      "execution_count": null,
      "outputs": [
        {
          "output_type": "stream",
          "text": [
            "Your credentails:\n",
            "CLIENT_ID: MHM2TJH4YIURRUE4CQAVYN1AYAX2KLFOAY4BV43OHCFG5RJN\n",
            "CLIENT_SECRET:MNVUUDPVHCKPZRSMQFVKKQQLE5AMJK3BEYSWFJ2DUE1XW2XN\n"
          ],
          "name": "stdout"
        }
      ]
    },
    {
      "cell_type": "markdown",
      "metadata": {
        "id": "t2TqpbSZHZZu"
      },
      "source": [
        "Let's explore the first neighborhood in our dataframe."
      ]
    },
    {
      "cell_type": "markdown",
      "metadata": {
        "id": "fJyK8rPtHWUM"
      },
      "source": [
        "> Get the neighborhood's name."
      ]
    },
    {
      "cell_type": "code",
      "metadata": {
        "id": "koIuXEkRry8P",
        "colab": {
          "base_uri": "https://localhost:8080/",
          "height": 35
        },
        "outputId": "6448974f-0136-48de-b0ba-b29895d047b4"
      },
      "source": [
        "scarborough_data.loc[0, 'Neighborhood']"
      ],
      "execution_count": null,
      "outputs": [
        {
          "output_type": "execute_result",
          "data": {
            "application/vnd.google.colaboratory.intrinsic+json": {
              "type": "string"
            },
            "text/plain": [
              "'Malvern, Rouge'"
            ]
          },
          "metadata": {
            "tags": []
          },
          "execution_count": 47
        }
      ]
    },
    {
      "cell_type": "markdown",
      "metadata": {
        "id": "7HoLsLWnHSY5"
      },
      "source": [
        "> Get the neighborhood's latitude and longitude values."
      ]
    },
    {
      "cell_type": "code",
      "metadata": {
        "id": "ZIeZ_eXDr5Zk",
        "colab": {
          "base_uri": "https://localhost:8080/",
          "height": 35
        },
        "outputId": "3e1a7e17-b9f2-42ed-f25b-f39f9c13121d"
      },
      "source": [
        "neighborhood_latitude = scarborough_data.loc[0, 'Latitude'] # neighborhood latitude value\n",
        "neighborhood_longitude = scarborough_data.loc[0, 'Longitude'] # neighborhood longitude value\n",
        "\n",
        "neighborhood_name = scarborough_data.loc[0, 'Neighborhood'] # neighborhood name\n",
        "\n",
        "print('Latitude and longitude values of {} are {}, {}.'.format(neighborhood_name, \n",
        "                                                               neighborhood_latitude, \n",
        "                                                               neighborhood_longitude))"
      ],
      "execution_count": null,
      "outputs": [
        {
          "output_type": "stream",
          "text": [
            "Latitude and longitude values of Malvern, Rouge are 43.806686299999996, -79.19435340000001.\n"
          ],
          "name": "stdout"
        }
      ]
    },
    {
      "cell_type": "markdown",
      "metadata": {
        "id": "bhD5bfjrHLf8"
      },
      "source": [
        "Now, let's get the top 100 venues that are in Malvern, Rouge within a radius of 500 meters."
      ]
    },
    {
      "cell_type": "markdown",
      "metadata": {
        "id": "TpWARpG9HHi7"
      },
      "source": [
        "> First, let's create the GET request URL. Name your URL **url**."
      ]
    },
    {
      "cell_type": "code",
      "metadata": {
        "id": "AO5aPrH7sQdf",
        "colab": {
          "base_uri": "https://localhost:8080/",
          "height": 53
        },
        "outputId": "e16b8eed-be80-4460-d8f9-d175e35bd97e"
      },
      "source": [
        "LIMIT = 100\n",
        "radius = 500\n",
        "\n",
        "url = 'https://api.foursquare.com/v2/venues/explore?&client_id={}&client_secret={}&v={}&ll={},{}&radius={}&limit={}'.format(CLIENT_ID, CLIENT_SECRET, VERSION, neighborhood_latitude, neighborhood_longitude, radius, LIMIT)\n",
        "url"
      ],
      "execution_count": null,
      "outputs": [
        {
          "output_type": "execute_result",
          "data": {
            "application/vnd.google.colaboratory.intrinsic+json": {
              "type": "string"
            },
            "text/plain": [
              "'https://api.foursquare.com/v2/venues/explore?&client_id=MHM2TJH4YIURRUE4CQAVYN1AYAX2KLFOAY4BV43OHCFG5RJN&client_secret=MNVUUDPVHCKPZRSMQFVKKQQLE5AMJK3BEYSWFJ2DUE1XW2XN&v=20180604&ll=43.806686299999996,-79.19435340000001&radius=500&limit=100'"
            ]
          },
          "metadata": {
            "tags": []
          },
          "execution_count": 49
        }
      ]
    },
    {
      "cell_type": "markdown",
      "metadata": {
        "id": "CdPzZiDvso_8"
      },
      "source": [
        "> Send the GET request and examine the results"
      ]
    },
    {
      "cell_type": "code",
      "metadata": {
        "id": "lbJNJR9ssWQZ",
        "colab": {
          "base_uri": "https://localhost:8080/",
          "height": 659
        },
        "outputId": "a989da81-5f38-411b-cd05-7a53dc2d966b"
      },
      "source": [
        "results = requests.get(url).json()\n",
        "results"
      ],
      "execution_count": null,
      "outputs": [
        {
          "output_type": "execute_result",
          "data": {
            "text/plain": [
              "{'meta': {'code': 200, 'requestId': '5f42d5fc17a4de7fae275526'},\n",
              " 'response': {'groups': [{'items': [{'reasons': {'count': 0,\n",
              "       'items': [{'reasonName': 'globalInteractionReason',\n",
              "         'summary': 'This spot is popular',\n",
              "         'type': 'general'}]},\n",
              "      'referralId': 'e-0-4bb6b9446edc76b0d771311c-0',\n",
              "      'venue': {'categories': [{'icon': {'prefix': 'https://ss3.4sqi.net/img/categories_v2/food/fastfood_',\n",
              "          'suffix': '.png'},\n",
              "         'id': '4bf58dd8d48988d16e941735',\n",
              "         'name': 'Fast Food Restaurant',\n",
              "         'pluralName': 'Fast Food Restaurants',\n",
              "         'primary': True,\n",
              "         'shortName': 'Fast Food'}],\n",
              "       'id': '4bb6b9446edc76b0d771311c',\n",
              "       'location': {'cc': 'CA',\n",
              "        'city': 'Toronto',\n",
              "        'country': 'Canada',\n",
              "        'crossStreet': 'Morningside & Sheppard',\n",
              "        'distance': 387,\n",
              "        'formattedAddress': ['Toronto ON', 'Canada'],\n",
              "        'labeledLatLngs': [{'label': 'display',\n",
              "          'lat': 43.80744841934756,\n",
              "          'lng': -79.19905558052072}],\n",
              "        'lat': 43.80744841934756,\n",
              "        'lng': -79.19905558052072,\n",
              "        'state': 'ON'},\n",
              "       'name': 'Wendy’s',\n",
              "       'photos': {'count': 0, 'groups': []}}}],\n",
              "    'name': 'recommended',\n",
              "    'type': 'Recommended Places'}],\n",
              "  'headerFullLocation': 'Malvern, Toronto',\n",
              "  'headerLocation': 'Malvern',\n",
              "  'headerLocationGranularity': 'neighborhood',\n",
              "  'suggestedBounds': {'ne': {'lat': 43.8111863045, 'lng': -79.18812958073042},\n",
              "   'sw': {'lat': 43.80218629549999, 'lng': -79.2005772192696}},\n",
              "  'totalResults': 1,\n",
              "  'warning': {'text': \"There aren't a lot of results near you. Try something more general, reset your filters, or expand the search area.\"}}}"
            ]
          },
          "metadata": {
            "tags": []
          },
          "execution_count": 50
        }
      ]
    },
    {
      "cell_type": "markdown",
      "metadata": {
        "id": "iF90vWDHtFsD"
      },
      "source": [
        "> From the Foursquare lab in the previous module, we know that all the information is in the *items* key. Before we proceed, let's borrow the **get_category_type** function from the Foursquare lab."
      ]
    },
    {
      "cell_type": "code",
      "metadata": {
        "id": "SrUWk_lxs4E0"
      },
      "source": [
        "# function that extracts the category of the venue\n",
        "def get_category_type(row):\n",
        "    try:\n",
        "        categories_list = row['categories']\n",
        "    except:\n",
        "        categories_list = row['venue.categories']\n",
        "        \n",
        "    if len(categories_list) == 0:\n",
        "        return None\n",
        "    else:\n",
        "        return categories_list[0]['name']"
      ],
      "execution_count": null,
      "outputs": []
    },
    {
      "cell_type": "markdown",
      "metadata": {
        "id": "F3w4d73Gs_7e"
      },
      "source": [
        "> Now we are ready to clean the json and structure it into a *pandas* dataframe."
      ]
    },
    {
      "cell_type": "code",
      "metadata": {
        "id": "TQXOjqsbs4sg",
        "colab": {
          "base_uri": "https://localhost:8080/",
          "height": 79
        },
        "outputId": "cb8f4487-e547-4f1b-be14-f9e75d301968"
      },
      "source": [
        "\n",
        "venues = results['response']['groups'][0]['items']\n",
        "    \n",
        "nearby_venues = json_normalize(venues) # flatten JSON\n",
        "\n",
        "# filter columns\n",
        "filtered_columns = ['venue.name', 'venue.categories', 'venue.location.lat', 'venue.location.lng']\n",
        "nearby_venues =nearby_venues.loc[:, filtered_columns]\n",
        "\n",
        "# filter the category for each row\n",
        "nearby_venues['venue.categories'] = nearby_venues.apply(get_category_type, axis=1)\n",
        "\n",
        "# clean columns\n",
        "nearby_venues.columns = [col.split(\".\")[-1] for col in nearby_venues.columns]\n",
        "\n",
        "nearby_venues.head()"
      ],
      "execution_count": null,
      "outputs": [
        {
          "output_type": "execute_result",
          "data": {
            "text/html": [
              "<div>\n",
              "<style scoped>\n",
              "    .dataframe tbody tr th:only-of-type {\n",
              "        vertical-align: middle;\n",
              "    }\n",
              "\n",
              "    .dataframe tbody tr th {\n",
              "        vertical-align: top;\n",
              "    }\n",
              "\n",
              "    .dataframe thead th {\n",
              "        text-align: right;\n",
              "    }\n",
              "</style>\n",
              "<table border=\"1\" class=\"dataframe\">\n",
              "  <thead>\n",
              "    <tr style=\"text-align: right;\">\n",
              "      <th></th>\n",
              "      <th>name</th>\n",
              "      <th>categories</th>\n",
              "      <th>lat</th>\n",
              "      <th>lng</th>\n",
              "    </tr>\n",
              "  </thead>\n",
              "  <tbody>\n",
              "    <tr>\n",
              "      <th>0</th>\n",
              "      <td>Wendy’s</td>\n",
              "      <td>Fast Food Restaurant</td>\n",
              "      <td>43.807448</td>\n",
              "      <td>-79.199056</td>\n",
              "    </tr>\n",
              "  </tbody>\n",
              "</table>\n",
              "</div>"
            ],
            "text/plain": [
              "      name            categories        lat        lng\n",
              "0  Wendy’s  Fast Food Restaurant  43.807448 -79.199056"
            ]
          },
          "metadata": {
            "tags": []
          },
          "execution_count": 52
        }
      ]
    },
    {
      "cell_type": "markdown",
      "metadata": {
        "id": "3ASzmh_QtSMU"
      },
      "source": [
        "> And how many venues were returned by Foursquare?"
      ]
    },
    {
      "cell_type": "code",
      "metadata": {
        "id": "M8J0jRYTsjhK",
        "colab": {
          "base_uri": "https://localhost:8080/",
          "height": 35
        },
        "outputId": "18671615-9798-4aa8-a40e-c137bef88c05"
      },
      "source": [
        "print('{} venues were returned by Foursquare.'.format(nearby_venues.shape[0]))"
      ],
      "execution_count": null,
      "outputs": [
        {
          "output_type": "stream",
          "text": [
            "1 venues were returned by Foursquare.\n"
          ],
          "name": "stdout"
        }
      ]
    },
    {
      "cell_type": "markdown",
      "metadata": {
        "id": "bagkpDLMtYSH"
      },
      "source": [
        "## 2. Explore Neighborhoods in TORONTO"
      ]
    },
    {
      "cell_type": "markdown",
      "metadata": {
        "id": "L4Pp4-B0tejf"
      },
      "source": [
        "> Let's create a function to repeat the same process to all the neighborhoods in Toronto"
      ]
    },
    {
      "cell_type": "code",
      "metadata": {
        "id": "f8kRhkYutN9X"
      },
      "source": [
        "def getNearbyVenues(names, latitudes, longitudes, radius=500):\n",
        "    \n",
        "    venues_list=[]\n",
        "    for name, lat, lng in zip(names, latitudes, longitudes):\n",
        "        print(name)\n",
        "            \n",
        "        # create the API request URL\n",
        "        url = 'https://api.foursquare.com/v2/venues/explore?&client_id={}&client_secret={}&v={}&ll={},{}&radius={}&limit={}'.format(\n",
        "            CLIENT_ID, \n",
        "            CLIENT_SECRET, \n",
        "            VERSION, \n",
        "            lat, \n",
        "            lng, \n",
        "            radius, \n",
        "            LIMIT)\n",
        "            \n",
        "        # make the GET request\n",
        "        results = requests.get(url).json()[\"response\"]['groups'][0]['items']\n",
        "        \n",
        "        # return only relevant information for each nearby venue\n",
        "        venues_list.append([(\n",
        "            name, \n",
        "            lat, \n",
        "            lng, \n",
        "            v['venue']['name'], \n",
        "            v['venue']['location']['lat'], \n",
        "            v['venue']['location']['lng'],  \n",
        "            v['venue']['categories'][0]['name']) for v in results])\n",
        "\n",
        "    nearby_venues = pd.DataFrame([item for venue_list in venues_list for item in venue_list])\n",
        "    nearby_venues.columns = ['Neighborhood', \n",
        "                  'Neighborhood Latitude', \n",
        "                  'Neighborhood Longitude', \n",
        "                  'Venue', \n",
        "                  'Venue Latitude', \n",
        "                  'Venue Longitude', \n",
        "                  'Venue Category']\n",
        "    \n",
        "    return(nearby_venues)"
      ],
      "execution_count": null,
      "outputs": []
    },
    {
      "cell_type": "markdown",
      "metadata": {
        "id": "ovJv4_xltsTZ"
      },
      "source": [
        "> Now write the code to run the above function on each neighborhood and create a new dataframe called *scarborough_venues*."
      ]
    },
    {
      "cell_type": "code",
      "metadata": {
        "id": "0PjAWa2jttb9",
        "colab": {
          "base_uri": "https://localhost:8080/",
          "height": 312
        },
        "outputId": "8aab53a7-aa05-47d2-b074-b6bac80adf4a"
      },
      "source": [
        "# type your answer here\n",
        "\n",
        "scarborough_venues = getNearbyVenues(names = scarborough_data['Neighborhood'],\n",
        "                                   latitudes = scarborough_data['Latitude'],\n",
        "                                   longitudes = scarborough_data['Longitude'])"
      ],
      "execution_count": null,
      "outputs": [
        {
          "output_type": "stream",
          "text": [
            "Malvern, Rouge\n",
            "Rouge Hill, Port Union, Highland Creek\n",
            "Guildwood, Morningside, West Hill\n",
            "Woburn\n",
            "Cedarbrae\n",
            "Scarborough Village\n",
            "Kennedy Park, Ionview, East Birchmount Park\n",
            "Golden Mile, Clairlea, Oakridge\n",
            "Cliffside, Cliffcrest, Scarborough Village West\n",
            "Birch Cliff, Cliffside West\n",
            "Dorset Park, Wexford Heights, Scarborough Town Centre\n",
            "Wexford, Maryvale\n",
            "Agincourt\n",
            "Clarks Corners, Tam O'Shanter, Sullivan\n",
            "Milliken, Agincourt North, Steeles East, L'Amoreaux East\n",
            "Steeles West, L'Amoreaux West\n",
            "Upper Rouge\n"
          ],
          "name": "stdout"
        }
      ]
    },
    {
      "cell_type": "markdown",
      "metadata": {
        "id": "NjYddREKG4Ew"
      },
      "source": [
        "> Let's check the size of the resulting dataframe"
      ]
    },
    {
      "cell_type": "code",
      "metadata": {
        "id": "53r6FxnHuC7T",
        "colab": {
          "base_uri": "https://localhost:8080/",
          "height": 289
        },
        "outputId": "a968e6e3-32ca-4a7b-b531-9129b77df4cb"
      },
      "source": [
        "print(scarborough_venues.shape)\n",
        "scarborough_venues.head()"
      ],
      "execution_count": null,
      "outputs": [
        {
          "output_type": "stream",
          "text": [
            "(92, 7)\n"
          ],
          "name": "stdout"
        },
        {
          "output_type": "execute_result",
          "data": {
            "text/html": [
              "<div>\n",
              "<style scoped>\n",
              "    .dataframe tbody tr th:only-of-type {\n",
              "        vertical-align: middle;\n",
              "    }\n",
              "\n",
              "    .dataframe tbody tr th {\n",
              "        vertical-align: top;\n",
              "    }\n",
              "\n",
              "    .dataframe thead th {\n",
              "        text-align: right;\n",
              "    }\n",
              "</style>\n",
              "<table border=\"1\" class=\"dataframe\">\n",
              "  <thead>\n",
              "    <tr style=\"text-align: right;\">\n",
              "      <th></th>\n",
              "      <th>Neighborhood</th>\n",
              "      <th>Neighborhood Latitude</th>\n",
              "      <th>Neighborhood Longitude</th>\n",
              "      <th>Venue</th>\n",
              "      <th>Venue Latitude</th>\n",
              "      <th>Venue Longitude</th>\n",
              "      <th>Venue Category</th>\n",
              "    </tr>\n",
              "  </thead>\n",
              "  <tbody>\n",
              "    <tr>\n",
              "      <th>0</th>\n",
              "      <td>Malvern, Rouge</td>\n",
              "      <td>43.806686</td>\n",
              "      <td>-79.194353</td>\n",
              "      <td>Wendy’s</td>\n",
              "      <td>43.807448</td>\n",
              "      <td>-79.199056</td>\n",
              "      <td>Fast Food Restaurant</td>\n",
              "    </tr>\n",
              "    <tr>\n",
              "      <th>1</th>\n",
              "      <td>Rouge Hill, Port Union, Highland Creek</td>\n",
              "      <td>43.784535</td>\n",
              "      <td>-79.160497</td>\n",
              "      <td>Royal Canadian Legion</td>\n",
              "      <td>43.782533</td>\n",
              "      <td>-79.163085</td>\n",
              "      <td>Bar</td>\n",
              "    </tr>\n",
              "    <tr>\n",
              "      <th>2</th>\n",
              "      <td>Rouge Hill, Port Union, Highland Creek</td>\n",
              "      <td>43.784535</td>\n",
              "      <td>-79.160497</td>\n",
              "      <td>Scarborough Historical Society</td>\n",
              "      <td>43.788755</td>\n",
              "      <td>-79.162438</td>\n",
              "      <td>History Museum</td>\n",
              "    </tr>\n",
              "    <tr>\n",
              "      <th>3</th>\n",
              "      <td>Guildwood, Morningside, West Hill</td>\n",
              "      <td>43.763573</td>\n",
              "      <td>-79.188711</td>\n",
              "      <td>RBC Royal Bank</td>\n",
              "      <td>43.766790</td>\n",
              "      <td>-79.191151</td>\n",
              "      <td>Bank</td>\n",
              "    </tr>\n",
              "    <tr>\n",
              "      <th>4</th>\n",
              "      <td>Guildwood, Morningside, West Hill</td>\n",
              "      <td>43.763573</td>\n",
              "      <td>-79.188711</td>\n",
              "      <td>G &amp; G Electronics</td>\n",
              "      <td>43.765309</td>\n",
              "      <td>-79.191537</td>\n",
              "      <td>Electronics Store</td>\n",
              "    </tr>\n",
              "  </tbody>\n",
              "</table>\n",
              "</div>"
            ],
            "text/plain": [
              "                             Neighborhood  Neighborhood Latitude  \\\n",
              "0                          Malvern, Rouge              43.806686   \n",
              "1  Rouge Hill, Port Union, Highland Creek              43.784535   \n",
              "2  Rouge Hill, Port Union, Highland Creek              43.784535   \n",
              "3       Guildwood, Morningside, West Hill              43.763573   \n",
              "4       Guildwood, Morningside, West Hill              43.763573   \n",
              "\n",
              "   Neighborhood Longitude                           Venue  Venue Latitude  \\\n",
              "0              -79.194353                         Wendy’s       43.807448   \n",
              "1              -79.160497           Royal Canadian Legion       43.782533   \n",
              "2              -79.160497  Scarborough Historical Society       43.788755   \n",
              "3              -79.188711                  RBC Royal Bank       43.766790   \n",
              "4              -79.188711               G & G Electronics       43.765309   \n",
              "\n",
              "   Venue Longitude        Venue Category  \n",
              "0       -79.199056  Fast Food Restaurant  \n",
              "1       -79.163085                   Bar  \n",
              "2       -79.162438        History Museum  \n",
              "3       -79.191151                  Bank  \n",
              "4       -79.191537     Electronics Store  "
            ]
          },
          "metadata": {
            "tags": []
          },
          "execution_count": 56
        }
      ]
    },
    {
      "cell_type": "markdown",
      "metadata": {
        "id": "FNvfSVxaGyf2"
      },
      "source": [
        "> Let's check how many venues were returned for each neighborhood"
      ]
    },
    {
      "cell_type": "code",
      "metadata": {
        "id": "z1qF0Cy6uNbp",
        "colab": {
          "base_uri": "https://localhost:8080/",
          "height": 622
        },
        "outputId": "c7fc1d84-65ef-4830-a725-cc3d64a466f1"
      },
      "source": [
        "scarborough_venues.groupby('Neighborhood').count()"
      ],
      "execution_count": null,
      "outputs": [
        {
          "output_type": "execute_result",
          "data": {
            "text/html": [
              "<div>\n",
              "<style scoped>\n",
              "    .dataframe tbody tr th:only-of-type {\n",
              "        vertical-align: middle;\n",
              "    }\n",
              "\n",
              "    .dataframe tbody tr th {\n",
              "        vertical-align: top;\n",
              "    }\n",
              "\n",
              "    .dataframe thead th {\n",
              "        text-align: right;\n",
              "    }\n",
              "</style>\n",
              "<table border=\"1\" class=\"dataframe\">\n",
              "  <thead>\n",
              "    <tr style=\"text-align: right;\">\n",
              "      <th></th>\n",
              "      <th>Neighborhood Latitude</th>\n",
              "      <th>Neighborhood Longitude</th>\n",
              "      <th>Venue</th>\n",
              "      <th>Venue Latitude</th>\n",
              "      <th>Venue Longitude</th>\n",
              "      <th>Venue Category</th>\n",
              "    </tr>\n",
              "    <tr>\n",
              "      <th>Neighborhood</th>\n",
              "      <th></th>\n",
              "      <th></th>\n",
              "      <th></th>\n",
              "      <th></th>\n",
              "      <th></th>\n",
              "      <th></th>\n",
              "    </tr>\n",
              "  </thead>\n",
              "  <tbody>\n",
              "    <tr>\n",
              "      <th>Agincourt</th>\n",
              "      <td>4</td>\n",
              "      <td>4</td>\n",
              "      <td>4</td>\n",
              "      <td>4</td>\n",
              "      <td>4</td>\n",
              "      <td>4</td>\n",
              "    </tr>\n",
              "    <tr>\n",
              "      <th>Birch Cliff, Cliffside West</th>\n",
              "      <td>4</td>\n",
              "      <td>4</td>\n",
              "      <td>4</td>\n",
              "      <td>4</td>\n",
              "      <td>4</td>\n",
              "      <td>4</td>\n",
              "    </tr>\n",
              "    <tr>\n",
              "      <th>Cedarbrae</th>\n",
              "      <td>8</td>\n",
              "      <td>8</td>\n",
              "      <td>8</td>\n",
              "      <td>8</td>\n",
              "      <td>8</td>\n",
              "      <td>8</td>\n",
              "    </tr>\n",
              "    <tr>\n",
              "      <th>Clarks Corners, Tam O'Shanter, Sullivan</th>\n",
              "      <td>13</td>\n",
              "      <td>13</td>\n",
              "      <td>13</td>\n",
              "      <td>13</td>\n",
              "      <td>13</td>\n",
              "      <td>13</td>\n",
              "    </tr>\n",
              "    <tr>\n",
              "      <th>Cliffside, Cliffcrest, Scarborough Village West</th>\n",
              "      <td>3</td>\n",
              "      <td>3</td>\n",
              "      <td>3</td>\n",
              "      <td>3</td>\n",
              "      <td>3</td>\n",
              "      <td>3</td>\n",
              "    </tr>\n",
              "    <tr>\n",
              "      <th>Dorset Park, Wexford Heights, Scarborough Town Centre</th>\n",
              "      <td>6</td>\n",
              "      <td>6</td>\n",
              "      <td>6</td>\n",
              "      <td>6</td>\n",
              "      <td>6</td>\n",
              "      <td>6</td>\n",
              "    </tr>\n",
              "    <tr>\n",
              "      <th>Golden Mile, Clairlea, Oakridge</th>\n",
              "      <td>10</td>\n",
              "      <td>10</td>\n",
              "      <td>10</td>\n",
              "      <td>10</td>\n",
              "      <td>10</td>\n",
              "      <td>10</td>\n",
              "    </tr>\n",
              "    <tr>\n",
              "      <th>Guildwood, Morningside, West Hill</th>\n",
              "      <td>8</td>\n",
              "      <td>8</td>\n",
              "      <td>8</td>\n",
              "      <td>8</td>\n",
              "      <td>8</td>\n",
              "      <td>8</td>\n",
              "    </tr>\n",
              "    <tr>\n",
              "      <th>Kennedy Park, Ionview, East Birchmount Park</th>\n",
              "      <td>4</td>\n",
              "      <td>4</td>\n",
              "      <td>4</td>\n",
              "      <td>4</td>\n",
              "      <td>4</td>\n",
              "      <td>4</td>\n",
              "    </tr>\n",
              "    <tr>\n",
              "      <th>Malvern, Rouge</th>\n",
              "      <td>1</td>\n",
              "      <td>1</td>\n",
              "      <td>1</td>\n",
              "      <td>1</td>\n",
              "      <td>1</td>\n",
              "      <td>1</td>\n",
              "    </tr>\n",
              "    <tr>\n",
              "      <th>Milliken, Agincourt North, Steeles East, L'Amoreaux East</th>\n",
              "      <td>2</td>\n",
              "      <td>2</td>\n",
              "      <td>2</td>\n",
              "      <td>2</td>\n",
              "      <td>2</td>\n",
              "      <td>2</td>\n",
              "    </tr>\n",
              "    <tr>\n",
              "      <th>Rouge Hill, Port Union, Highland Creek</th>\n",
              "      <td>2</td>\n",
              "      <td>2</td>\n",
              "      <td>2</td>\n",
              "      <td>2</td>\n",
              "      <td>2</td>\n",
              "      <td>2</td>\n",
              "    </tr>\n",
              "    <tr>\n",
              "      <th>Scarborough Village</th>\n",
              "      <td>1</td>\n",
              "      <td>1</td>\n",
              "      <td>1</td>\n",
              "      <td>1</td>\n",
              "      <td>1</td>\n",
              "      <td>1</td>\n",
              "    </tr>\n",
              "    <tr>\n",
              "      <th>Steeles West, L'Amoreaux West</th>\n",
              "      <td>15</td>\n",
              "      <td>15</td>\n",
              "      <td>15</td>\n",
              "      <td>15</td>\n",
              "      <td>15</td>\n",
              "      <td>15</td>\n",
              "    </tr>\n",
              "    <tr>\n",
              "      <th>Wexford, Maryvale</th>\n",
              "      <td>7</td>\n",
              "      <td>7</td>\n",
              "      <td>7</td>\n",
              "      <td>7</td>\n",
              "      <td>7</td>\n",
              "      <td>7</td>\n",
              "    </tr>\n",
              "    <tr>\n",
              "      <th>Woburn</th>\n",
              "      <td>4</td>\n",
              "      <td>4</td>\n",
              "      <td>4</td>\n",
              "      <td>4</td>\n",
              "      <td>4</td>\n",
              "      <td>4</td>\n",
              "    </tr>\n",
              "  </tbody>\n",
              "</table>\n",
              "</div>"
            ],
            "text/plain": [
              "                                                    Neighborhood Latitude  \\\n",
              "Neighborhood                                                                \n",
              "Agincourt                                                               4   \n",
              "Birch Cliff, Cliffside West                                             4   \n",
              "Cedarbrae                                                               8   \n",
              "Clarks Corners, Tam O'Shanter, Sullivan                                13   \n",
              "Cliffside, Cliffcrest, Scarborough Village West                         3   \n",
              "Dorset Park, Wexford Heights, Scarborough Town ...                      6   \n",
              "Golden Mile, Clairlea, Oakridge                                        10   \n",
              "Guildwood, Morningside, West Hill                                       8   \n",
              "Kennedy Park, Ionview, East Birchmount Park                             4   \n",
              "Malvern, Rouge                                                          1   \n",
              "Milliken, Agincourt North, Steeles East, L'Amor...                      2   \n",
              "Rouge Hill, Port Union, Highland Creek                                  2   \n",
              "Scarborough Village                                                     1   \n",
              "Steeles West, L'Amoreaux West                                          15   \n",
              "Wexford, Maryvale                                                       7   \n",
              "Woburn                                                                  4   \n",
              "\n",
              "                                                    Neighborhood Longitude  \\\n",
              "Neighborhood                                                                 \n",
              "Agincourt                                                                4   \n",
              "Birch Cliff, Cliffside West                                              4   \n",
              "Cedarbrae                                                                8   \n",
              "Clarks Corners, Tam O'Shanter, Sullivan                                 13   \n",
              "Cliffside, Cliffcrest, Scarborough Village West                          3   \n",
              "Dorset Park, Wexford Heights, Scarborough Town ...                       6   \n",
              "Golden Mile, Clairlea, Oakridge                                         10   \n",
              "Guildwood, Morningside, West Hill                                        8   \n",
              "Kennedy Park, Ionview, East Birchmount Park                              4   \n",
              "Malvern, Rouge                                                           1   \n",
              "Milliken, Agincourt North, Steeles East, L'Amor...                       2   \n",
              "Rouge Hill, Port Union, Highland Creek                                   2   \n",
              "Scarborough Village                                                      1   \n",
              "Steeles West, L'Amoreaux West                                           15   \n",
              "Wexford, Maryvale                                                        7   \n",
              "Woburn                                                                   4   \n",
              "\n",
              "                                                    Venue  Venue Latitude  \\\n",
              "Neighborhood                                                                \n",
              "Agincourt                                               4               4   \n",
              "Birch Cliff, Cliffside West                             4               4   \n",
              "Cedarbrae                                               8               8   \n",
              "Clarks Corners, Tam O'Shanter, Sullivan                13              13   \n",
              "Cliffside, Cliffcrest, Scarborough Village West         3               3   \n",
              "Dorset Park, Wexford Heights, Scarborough Town ...      6               6   \n",
              "Golden Mile, Clairlea, Oakridge                        10              10   \n",
              "Guildwood, Morningside, West Hill                       8               8   \n",
              "Kennedy Park, Ionview, East Birchmount Park             4               4   \n",
              "Malvern, Rouge                                          1               1   \n",
              "Milliken, Agincourt North, Steeles East, L'Amor...      2               2   \n",
              "Rouge Hill, Port Union, Highland Creek                  2               2   \n",
              "Scarborough Village                                     1               1   \n",
              "Steeles West, L'Amoreaux West                          15              15   \n",
              "Wexford, Maryvale                                       7               7   \n",
              "Woburn                                                  4               4   \n",
              "\n",
              "                                                    Venue Longitude  \\\n",
              "Neighborhood                                                          \n",
              "Agincourt                                                         4   \n",
              "Birch Cliff, Cliffside West                                       4   \n",
              "Cedarbrae                                                         8   \n",
              "Clarks Corners, Tam O'Shanter, Sullivan                          13   \n",
              "Cliffside, Cliffcrest, Scarborough Village West                   3   \n",
              "Dorset Park, Wexford Heights, Scarborough Town ...                6   \n",
              "Golden Mile, Clairlea, Oakridge                                  10   \n",
              "Guildwood, Morningside, West Hill                                 8   \n",
              "Kennedy Park, Ionview, East Birchmount Park                       4   \n",
              "Malvern, Rouge                                                    1   \n",
              "Milliken, Agincourt North, Steeles East, L'Amor...                2   \n",
              "Rouge Hill, Port Union, Highland Creek                            2   \n",
              "Scarborough Village                                               1   \n",
              "Steeles West, L'Amoreaux West                                    15   \n",
              "Wexford, Maryvale                                                 7   \n",
              "Woburn                                                            4   \n",
              "\n",
              "                                                    Venue Category  \n",
              "Neighborhood                                                        \n",
              "Agincourt                                                        4  \n",
              "Birch Cliff, Cliffside West                                      4  \n",
              "Cedarbrae                                                        8  \n",
              "Clarks Corners, Tam O'Shanter, Sullivan                         13  \n",
              "Cliffside, Cliffcrest, Scarborough Village West                  3  \n",
              "Dorset Park, Wexford Heights, Scarborough Town ...               6  \n",
              "Golden Mile, Clairlea, Oakridge                                 10  \n",
              "Guildwood, Morningside, West Hill                                8  \n",
              "Kennedy Park, Ionview, East Birchmount Park                      4  \n",
              "Malvern, Rouge                                                   1  \n",
              "Milliken, Agincourt North, Steeles East, L'Amor...               2  \n",
              "Rouge Hill, Port Union, Highland Creek                           2  \n",
              "Scarborough Village                                              1  \n",
              "Steeles West, L'Amoreaux West                                   15  \n",
              "Wexford, Maryvale                                                7  \n",
              "Woburn                                                           4  "
            ]
          },
          "metadata": {
            "tags": []
          },
          "execution_count": 57
        }
      ]
    },
    {
      "cell_type": "markdown",
      "metadata": {
        "id": "H-xWbQteGtkP"
      },
      "source": [
        "> Let's find out how many unique categories can be curated from all the returned venues"
      ]
    },
    {
      "cell_type": "code",
      "metadata": {
        "id": "mQH2CnGHuS_9",
        "colab": {
          "base_uri": "https://localhost:8080/",
          "height": 35
        },
        "outputId": "a0edcdce-a253-4c55-a438-87ed7ccffcf5"
      },
      "source": [
        "print('There are {} uniques categories.'.format(len(scarborough_venues['Venue Category'].unique())))"
      ],
      "execution_count": null,
      "outputs": [
        {
          "output_type": "stream",
          "text": [
            "There are 52 uniques categories.\n"
          ],
          "name": "stdout"
        }
      ]
    },
    {
      "cell_type": "markdown",
      "metadata": {
        "id": "8iRKRuiS5PqK"
      },
      "source": [
        "## 3. Analyze Each Neighborhood"
      ]
    },
    {
      "cell_type": "code",
      "metadata": {
        "id": "YOSOeWxxuaU5",
        "colab": {
          "base_uri": "https://localhost:8080/",
          "height": 447
        },
        "outputId": "180dd0be-583a-4a78-c73a-fdb31ceef630"
      },
      "source": [
        "# one hot encoding\n",
        "scarborough_onehot = pd.get_dummies(scarborough_venues[['Venue Category']], prefix=\"\", prefix_sep=\"\")\n",
        "\n",
        "# add neighborhood column back to dataframe\n",
        "scarborough_onehot['Neighborhood'] = scarborough_venues['Neighborhood'] \n",
        "\n",
        "# move neighborhood column to the first column\n",
        "fixed_columns = [scarborough_onehot.columns[-1]] + list(scarborough_onehot.columns[:-1])\n",
        "scarborough_onehot = scarborough_onehot[fixed_columns]\n",
        "\n",
        "scarborough_onehot.head()"
      ],
      "execution_count": null,
      "outputs": [
        {
          "output_type": "execute_result",
          "data": {
            "text/html": [
              "<div>\n",
              "<style scoped>\n",
              "    .dataframe tbody tr th:only-of-type {\n",
              "        vertical-align: middle;\n",
              "    }\n",
              "\n",
              "    .dataframe tbody tr th {\n",
              "        vertical-align: top;\n",
              "    }\n",
              "\n",
              "    .dataframe thead th {\n",
              "        text-align: right;\n",
              "    }\n",
              "</style>\n",
              "<table border=\"1\" class=\"dataframe\">\n",
              "  <thead>\n",
              "    <tr style=\"text-align: right;\">\n",
              "      <th></th>\n",
              "      <th>Neighborhood</th>\n",
              "      <th>American Restaurant</th>\n",
              "      <th>Athletics &amp; Sports</th>\n",
              "      <th>Auto Garage</th>\n",
              "      <th>Bakery</th>\n",
              "      <th>Bank</th>\n",
              "      <th>Bar</th>\n",
              "      <th>Breakfast Spot</th>\n",
              "      <th>Bus Line</th>\n",
              "      <th>Bus Station</th>\n",
              "      <th>Café</th>\n",
              "      <th>Caribbean Restaurant</th>\n",
              "      <th>Chinese Restaurant</th>\n",
              "      <th>Coffee Shop</th>\n",
              "      <th>College Stadium</th>\n",
              "      <th>Department Store</th>\n",
              "      <th>Discount Store</th>\n",
              "      <th>Electronics Store</th>\n",
              "      <th>Fast Food Restaurant</th>\n",
              "      <th>Fried Chicken Joint</th>\n",
              "      <th>Gas Station</th>\n",
              "      <th>General Entertainment</th>\n",
              "      <th>Grocery Store</th>\n",
              "      <th>Hakka Restaurant</th>\n",
              "      <th>History Museum</th>\n",
              "      <th>Hobby Shop</th>\n",
              "      <th>Ice Cream Shop</th>\n",
              "      <th>Indian Restaurant</th>\n",
              "      <th>Intersection</th>\n",
              "      <th>Italian Restaurant</th>\n",
              "      <th>Korean Restaurant</th>\n",
              "      <th>Latin American Restaurant</th>\n",
              "      <th>Light Rail Station</th>\n",
              "      <th>Lounge</th>\n",
              "      <th>Medical Center</th>\n",
              "      <th>Metro Station</th>\n",
              "      <th>Mexican Restaurant</th>\n",
              "      <th>Middle Eastern Restaurant</th>\n",
              "      <th>Motel</th>\n",
              "      <th>Noodle House</th>\n",
              "      <th>Park</th>\n",
              "      <th>Pet Store</th>\n",
              "      <th>Pharmacy</th>\n",
              "      <th>Pizza Place</th>\n",
              "      <th>Playground</th>\n",
              "      <th>Rental Car Location</th>\n",
              "      <th>Restaurant</th>\n",
              "      <th>Sandwich Place</th>\n",
              "      <th>Shopping Mall</th>\n",
              "      <th>Skating Rink</th>\n",
              "      <th>Soccer Field</th>\n",
              "      <th>Thai Restaurant</th>\n",
              "      <th>Vietnamese Restaurant</th>\n",
              "    </tr>\n",
              "  </thead>\n",
              "  <tbody>\n",
              "    <tr>\n",
              "      <th>0</th>\n",
              "      <td>Malvern, Rouge</td>\n",
              "      <td>0</td>\n",
              "      <td>0</td>\n",
              "      <td>0</td>\n",
              "      <td>0</td>\n",
              "      <td>0</td>\n",
              "      <td>0</td>\n",
              "      <td>0</td>\n",
              "      <td>0</td>\n",
              "      <td>0</td>\n",
              "      <td>0</td>\n",
              "      <td>0</td>\n",
              "      <td>0</td>\n",
              "      <td>0</td>\n",
              "      <td>0</td>\n",
              "      <td>0</td>\n",
              "      <td>0</td>\n",
              "      <td>0</td>\n",
              "      <td>1</td>\n",
              "      <td>0</td>\n",
              "      <td>0</td>\n",
              "      <td>0</td>\n",
              "      <td>0</td>\n",
              "      <td>0</td>\n",
              "      <td>0</td>\n",
              "      <td>0</td>\n",
              "      <td>0</td>\n",
              "      <td>0</td>\n",
              "      <td>0</td>\n",
              "      <td>0</td>\n",
              "      <td>0</td>\n",
              "      <td>0</td>\n",
              "      <td>0</td>\n",
              "      <td>0</td>\n",
              "      <td>0</td>\n",
              "      <td>0</td>\n",
              "      <td>0</td>\n",
              "      <td>0</td>\n",
              "      <td>0</td>\n",
              "      <td>0</td>\n",
              "      <td>0</td>\n",
              "      <td>0</td>\n",
              "      <td>0</td>\n",
              "      <td>0</td>\n",
              "      <td>0</td>\n",
              "      <td>0</td>\n",
              "      <td>0</td>\n",
              "      <td>0</td>\n",
              "      <td>0</td>\n",
              "      <td>0</td>\n",
              "      <td>0</td>\n",
              "      <td>0</td>\n",
              "      <td>0</td>\n",
              "    </tr>\n",
              "    <tr>\n",
              "      <th>1</th>\n",
              "      <td>Rouge Hill, Port Union, Highland Creek</td>\n",
              "      <td>0</td>\n",
              "      <td>0</td>\n",
              "      <td>0</td>\n",
              "      <td>0</td>\n",
              "      <td>0</td>\n",
              "      <td>1</td>\n",
              "      <td>0</td>\n",
              "      <td>0</td>\n",
              "      <td>0</td>\n",
              "      <td>0</td>\n",
              "      <td>0</td>\n",
              "      <td>0</td>\n",
              "      <td>0</td>\n",
              "      <td>0</td>\n",
              "      <td>0</td>\n",
              "      <td>0</td>\n",
              "      <td>0</td>\n",
              "      <td>0</td>\n",
              "      <td>0</td>\n",
              "      <td>0</td>\n",
              "      <td>0</td>\n",
              "      <td>0</td>\n",
              "      <td>0</td>\n",
              "      <td>0</td>\n",
              "      <td>0</td>\n",
              "      <td>0</td>\n",
              "      <td>0</td>\n",
              "      <td>0</td>\n",
              "      <td>0</td>\n",
              "      <td>0</td>\n",
              "      <td>0</td>\n",
              "      <td>0</td>\n",
              "      <td>0</td>\n",
              "      <td>0</td>\n",
              "      <td>0</td>\n",
              "      <td>0</td>\n",
              "      <td>0</td>\n",
              "      <td>0</td>\n",
              "      <td>0</td>\n",
              "      <td>0</td>\n",
              "      <td>0</td>\n",
              "      <td>0</td>\n",
              "      <td>0</td>\n",
              "      <td>0</td>\n",
              "      <td>0</td>\n",
              "      <td>0</td>\n",
              "      <td>0</td>\n",
              "      <td>0</td>\n",
              "      <td>0</td>\n",
              "      <td>0</td>\n",
              "      <td>0</td>\n",
              "      <td>0</td>\n",
              "    </tr>\n",
              "    <tr>\n",
              "      <th>2</th>\n",
              "      <td>Rouge Hill, Port Union, Highland Creek</td>\n",
              "      <td>0</td>\n",
              "      <td>0</td>\n",
              "      <td>0</td>\n",
              "      <td>0</td>\n",
              "      <td>0</td>\n",
              "      <td>0</td>\n",
              "      <td>0</td>\n",
              "      <td>0</td>\n",
              "      <td>0</td>\n",
              "      <td>0</td>\n",
              "      <td>0</td>\n",
              "      <td>0</td>\n",
              "      <td>0</td>\n",
              "      <td>0</td>\n",
              "      <td>0</td>\n",
              "      <td>0</td>\n",
              "      <td>0</td>\n",
              "      <td>0</td>\n",
              "      <td>0</td>\n",
              "      <td>0</td>\n",
              "      <td>0</td>\n",
              "      <td>0</td>\n",
              "      <td>0</td>\n",
              "      <td>1</td>\n",
              "      <td>0</td>\n",
              "      <td>0</td>\n",
              "      <td>0</td>\n",
              "      <td>0</td>\n",
              "      <td>0</td>\n",
              "      <td>0</td>\n",
              "      <td>0</td>\n",
              "      <td>0</td>\n",
              "      <td>0</td>\n",
              "      <td>0</td>\n",
              "      <td>0</td>\n",
              "      <td>0</td>\n",
              "      <td>0</td>\n",
              "      <td>0</td>\n",
              "      <td>0</td>\n",
              "      <td>0</td>\n",
              "      <td>0</td>\n",
              "      <td>0</td>\n",
              "      <td>0</td>\n",
              "      <td>0</td>\n",
              "      <td>0</td>\n",
              "      <td>0</td>\n",
              "      <td>0</td>\n",
              "      <td>0</td>\n",
              "      <td>0</td>\n",
              "      <td>0</td>\n",
              "      <td>0</td>\n",
              "      <td>0</td>\n",
              "    </tr>\n",
              "    <tr>\n",
              "      <th>3</th>\n",
              "      <td>Guildwood, Morningside, West Hill</td>\n",
              "      <td>0</td>\n",
              "      <td>0</td>\n",
              "      <td>0</td>\n",
              "      <td>0</td>\n",
              "      <td>1</td>\n",
              "      <td>0</td>\n",
              "      <td>0</td>\n",
              "      <td>0</td>\n",
              "      <td>0</td>\n",
              "      <td>0</td>\n",
              "      <td>0</td>\n",
              "      <td>0</td>\n",
              "      <td>0</td>\n",
              "      <td>0</td>\n",
              "      <td>0</td>\n",
              "      <td>0</td>\n",
              "      <td>0</td>\n",
              "      <td>0</td>\n",
              "      <td>0</td>\n",
              "      <td>0</td>\n",
              "      <td>0</td>\n",
              "      <td>0</td>\n",
              "      <td>0</td>\n",
              "      <td>0</td>\n",
              "      <td>0</td>\n",
              "      <td>0</td>\n",
              "      <td>0</td>\n",
              "      <td>0</td>\n",
              "      <td>0</td>\n",
              "      <td>0</td>\n",
              "      <td>0</td>\n",
              "      <td>0</td>\n",
              "      <td>0</td>\n",
              "      <td>0</td>\n",
              "      <td>0</td>\n",
              "      <td>0</td>\n",
              "      <td>0</td>\n",
              "      <td>0</td>\n",
              "      <td>0</td>\n",
              "      <td>0</td>\n",
              "      <td>0</td>\n",
              "      <td>0</td>\n",
              "      <td>0</td>\n",
              "      <td>0</td>\n",
              "      <td>0</td>\n",
              "      <td>0</td>\n",
              "      <td>0</td>\n",
              "      <td>0</td>\n",
              "      <td>0</td>\n",
              "      <td>0</td>\n",
              "      <td>0</td>\n",
              "      <td>0</td>\n",
              "    </tr>\n",
              "    <tr>\n",
              "      <th>4</th>\n",
              "      <td>Guildwood, Morningside, West Hill</td>\n",
              "      <td>0</td>\n",
              "      <td>0</td>\n",
              "      <td>0</td>\n",
              "      <td>0</td>\n",
              "      <td>0</td>\n",
              "      <td>0</td>\n",
              "      <td>0</td>\n",
              "      <td>0</td>\n",
              "      <td>0</td>\n",
              "      <td>0</td>\n",
              "      <td>0</td>\n",
              "      <td>0</td>\n",
              "      <td>0</td>\n",
              "      <td>0</td>\n",
              "      <td>0</td>\n",
              "      <td>0</td>\n",
              "      <td>1</td>\n",
              "      <td>0</td>\n",
              "      <td>0</td>\n",
              "      <td>0</td>\n",
              "      <td>0</td>\n",
              "      <td>0</td>\n",
              "      <td>0</td>\n",
              "      <td>0</td>\n",
              "      <td>0</td>\n",
              "      <td>0</td>\n",
              "      <td>0</td>\n",
              "      <td>0</td>\n",
              "      <td>0</td>\n",
              "      <td>0</td>\n",
              "      <td>0</td>\n",
              "      <td>0</td>\n",
              "      <td>0</td>\n",
              "      <td>0</td>\n",
              "      <td>0</td>\n",
              "      <td>0</td>\n",
              "      <td>0</td>\n",
              "      <td>0</td>\n",
              "      <td>0</td>\n",
              "      <td>0</td>\n",
              "      <td>0</td>\n",
              "      <td>0</td>\n",
              "      <td>0</td>\n",
              "      <td>0</td>\n",
              "      <td>0</td>\n",
              "      <td>0</td>\n",
              "      <td>0</td>\n",
              "      <td>0</td>\n",
              "      <td>0</td>\n",
              "      <td>0</td>\n",
              "      <td>0</td>\n",
              "      <td>0</td>\n",
              "    </tr>\n",
              "  </tbody>\n",
              "</table>\n",
              "</div>"
            ],
            "text/plain": [
              "                             Neighborhood  American Restaurant  \\\n",
              "0                          Malvern, Rouge                    0   \n",
              "1  Rouge Hill, Port Union, Highland Creek                    0   \n",
              "2  Rouge Hill, Port Union, Highland Creek                    0   \n",
              "3       Guildwood, Morningside, West Hill                    0   \n",
              "4       Guildwood, Morningside, West Hill                    0   \n",
              "\n",
              "   Athletics & Sports  Auto Garage  Bakery  Bank  Bar  Breakfast Spot  \\\n",
              "0                   0            0       0     0    0               0   \n",
              "1                   0            0       0     0    1               0   \n",
              "2                   0            0       0     0    0               0   \n",
              "3                   0            0       0     1    0               0   \n",
              "4                   0            0       0     0    0               0   \n",
              "\n",
              "   Bus Line  Bus Station  Café  Caribbean Restaurant  Chinese Restaurant  \\\n",
              "0         0            0     0                     0                   0   \n",
              "1         0            0     0                     0                   0   \n",
              "2         0            0     0                     0                   0   \n",
              "3         0            0     0                     0                   0   \n",
              "4         0            0     0                     0                   0   \n",
              "\n",
              "   Coffee Shop  College Stadium  Department Store  Discount Store  \\\n",
              "0            0                0                 0               0   \n",
              "1            0                0                 0               0   \n",
              "2            0                0                 0               0   \n",
              "3            0                0                 0               0   \n",
              "4            0                0                 0               0   \n",
              "\n",
              "   Electronics Store  Fast Food Restaurant  Fried Chicken Joint  Gas Station  \\\n",
              "0                  0                     1                    0            0   \n",
              "1                  0                     0                    0            0   \n",
              "2                  0                     0                    0            0   \n",
              "3                  0                     0                    0            0   \n",
              "4                  1                     0                    0            0   \n",
              "\n",
              "   General Entertainment  Grocery Store  Hakka Restaurant  History Museum  \\\n",
              "0                      0              0                 0               0   \n",
              "1                      0              0                 0               0   \n",
              "2                      0              0                 0               1   \n",
              "3                      0              0                 0               0   \n",
              "4                      0              0                 0               0   \n",
              "\n",
              "   Hobby Shop  Ice Cream Shop  Indian Restaurant  Intersection  \\\n",
              "0           0               0                  0             0   \n",
              "1           0               0                  0             0   \n",
              "2           0               0                  0             0   \n",
              "3           0               0                  0             0   \n",
              "4           0               0                  0             0   \n",
              "\n",
              "   Italian Restaurant  Korean Restaurant  Latin American Restaurant  \\\n",
              "0                   0                  0                          0   \n",
              "1                   0                  0                          0   \n",
              "2                   0                  0                          0   \n",
              "3                   0                  0                          0   \n",
              "4                   0                  0                          0   \n",
              "\n",
              "   Light Rail Station  Lounge  Medical Center  Metro Station  \\\n",
              "0                   0       0               0              0   \n",
              "1                   0       0               0              0   \n",
              "2                   0       0               0              0   \n",
              "3                   0       0               0              0   \n",
              "4                   0       0               0              0   \n",
              "\n",
              "   Mexican Restaurant  Middle Eastern Restaurant  Motel  Noodle House  Park  \\\n",
              "0                   0                          0      0             0     0   \n",
              "1                   0                          0      0             0     0   \n",
              "2                   0                          0      0             0     0   \n",
              "3                   0                          0      0             0     0   \n",
              "4                   0                          0      0             0     0   \n",
              "\n",
              "   Pet Store  Pharmacy  Pizza Place  Playground  Rental Car Location  \\\n",
              "0          0         0            0           0                    0   \n",
              "1          0         0            0           0                    0   \n",
              "2          0         0            0           0                    0   \n",
              "3          0         0            0           0                    0   \n",
              "4          0         0            0           0                    0   \n",
              "\n",
              "   Restaurant  Sandwich Place  Shopping Mall  Skating Rink  Soccer Field  \\\n",
              "0           0               0              0             0             0   \n",
              "1           0               0              0             0             0   \n",
              "2           0               0              0             0             0   \n",
              "3           0               0              0             0             0   \n",
              "4           0               0              0             0             0   \n",
              "\n",
              "   Thai Restaurant  Vietnamese Restaurant  \n",
              "0                0                      0  \n",
              "1                0                      0  \n",
              "2                0                      0  \n",
              "3                0                      0  \n",
              "4                0                      0  "
            ]
          },
          "metadata": {
            "tags": []
          },
          "execution_count": 59
        }
      ]
    },
    {
      "cell_type": "markdown",
      "metadata": {
        "id": "1l-QBQyz5WsQ"
      },
      "source": [
        "> And let's examine the new dataframe size."
      ]
    },
    {
      "cell_type": "code",
      "metadata": {
        "id": "WsCJBgcFutTa",
        "colab": {
          "base_uri": "https://localhost:8080/",
          "height": 35
        },
        "outputId": "7eba0f27-8dfe-4d22-99f1-2da981190784"
      },
      "source": [
        "scarborough_onehot.shape"
      ],
      "execution_count": null,
      "outputs": [
        {
          "output_type": "execute_result",
          "data": {
            "text/plain": [
              "(92, 53)"
            ]
          },
          "metadata": {
            "tags": []
          },
          "execution_count": 60
        }
      ]
    },
    {
      "cell_type": "markdown",
      "metadata": {
        "id": "Hv_dNpjG5TyA"
      },
      "source": [
        "> Next, let's group rows by neighborhood and by taking the mean of the frequency of occurrence of each category"
      ]
    },
    {
      "cell_type": "code",
      "metadata": {
        "id": "LajgeBinuyPY",
        "colab": {
          "base_uri": "https://localhost:8080/",
          "height": 1000
        },
        "outputId": "98616705-dcd1-471d-93d8-710745440b2e"
      },
      "source": [
        "scarborough_grouped = scarborough_onehot.groupby('Neighborhood').mean().reset_index()\n",
        "scarborough_grouped"
      ],
      "execution_count": null,
      "outputs": [
        {
          "output_type": "execute_result",
          "data": {
            "text/html": [
              "<div>\n",
              "<style scoped>\n",
              "    .dataframe tbody tr th:only-of-type {\n",
              "        vertical-align: middle;\n",
              "    }\n",
              "\n",
              "    .dataframe tbody tr th {\n",
              "        vertical-align: top;\n",
              "    }\n",
              "\n",
              "    .dataframe thead th {\n",
              "        text-align: right;\n",
              "    }\n",
              "</style>\n",
              "<table border=\"1\" class=\"dataframe\">\n",
              "  <thead>\n",
              "    <tr style=\"text-align: right;\">\n",
              "      <th></th>\n",
              "      <th>Neighborhood</th>\n",
              "      <th>American Restaurant</th>\n",
              "      <th>Athletics &amp; Sports</th>\n",
              "      <th>Auto Garage</th>\n",
              "      <th>Bakery</th>\n",
              "      <th>Bank</th>\n",
              "      <th>Bar</th>\n",
              "      <th>Breakfast Spot</th>\n",
              "      <th>Bus Line</th>\n",
              "      <th>Bus Station</th>\n",
              "      <th>Café</th>\n",
              "      <th>Caribbean Restaurant</th>\n",
              "      <th>Chinese Restaurant</th>\n",
              "      <th>Coffee Shop</th>\n",
              "      <th>College Stadium</th>\n",
              "      <th>Department Store</th>\n",
              "      <th>Discount Store</th>\n",
              "      <th>Electronics Store</th>\n",
              "      <th>Fast Food Restaurant</th>\n",
              "      <th>Fried Chicken Joint</th>\n",
              "      <th>Gas Station</th>\n",
              "      <th>General Entertainment</th>\n",
              "      <th>Grocery Store</th>\n",
              "      <th>Hakka Restaurant</th>\n",
              "      <th>History Museum</th>\n",
              "      <th>Hobby Shop</th>\n",
              "      <th>Ice Cream Shop</th>\n",
              "      <th>Indian Restaurant</th>\n",
              "      <th>Intersection</th>\n",
              "      <th>Italian Restaurant</th>\n",
              "      <th>Korean Restaurant</th>\n",
              "      <th>Latin American Restaurant</th>\n",
              "      <th>Light Rail Station</th>\n",
              "      <th>Lounge</th>\n",
              "      <th>Medical Center</th>\n",
              "      <th>Metro Station</th>\n",
              "      <th>Mexican Restaurant</th>\n",
              "      <th>Middle Eastern Restaurant</th>\n",
              "      <th>Motel</th>\n",
              "      <th>Noodle House</th>\n",
              "      <th>Park</th>\n",
              "      <th>Pet Store</th>\n",
              "      <th>Pharmacy</th>\n",
              "      <th>Pizza Place</th>\n",
              "      <th>Playground</th>\n",
              "      <th>Rental Car Location</th>\n",
              "      <th>Restaurant</th>\n",
              "      <th>Sandwich Place</th>\n",
              "      <th>Shopping Mall</th>\n",
              "      <th>Skating Rink</th>\n",
              "      <th>Soccer Field</th>\n",
              "      <th>Thai Restaurant</th>\n",
              "      <th>Vietnamese Restaurant</th>\n",
              "    </tr>\n",
              "  </thead>\n",
              "  <tbody>\n",
              "    <tr>\n",
              "      <th>0</th>\n",
              "      <td>Agincourt</td>\n",
              "      <td>0.000000</td>\n",
              "      <td>0.000</td>\n",
              "      <td>0.000000</td>\n",
              "      <td>0.000000</td>\n",
              "      <td>0.000000</td>\n",
              "      <td>0.0</td>\n",
              "      <td>0.250000</td>\n",
              "      <td>0.0</td>\n",
              "      <td>0.00</td>\n",
              "      <td>0.00</td>\n",
              "      <td>0.000</td>\n",
              "      <td>0.000000</td>\n",
              "      <td>0.000000</td>\n",
              "      <td>0.00</td>\n",
              "      <td>0.00</td>\n",
              "      <td>0.000000</td>\n",
              "      <td>0.000000</td>\n",
              "      <td>0.000000</td>\n",
              "      <td>0.000000</td>\n",
              "      <td>0.000000</td>\n",
              "      <td>0.00</td>\n",
              "      <td>0.000000</td>\n",
              "      <td>0.000</td>\n",
              "      <td>0.0</td>\n",
              "      <td>0.00</td>\n",
              "      <td>0.0</td>\n",
              "      <td>0.000000</td>\n",
              "      <td>0.000000</td>\n",
              "      <td>0.000000</td>\n",
              "      <td>0.00</td>\n",
              "      <td>0.25</td>\n",
              "      <td>0.000000</td>\n",
              "      <td>0.25</td>\n",
              "      <td>0.000</td>\n",
              "      <td>0.0</td>\n",
              "      <td>0.000</td>\n",
              "      <td>0.000000</td>\n",
              "      <td>0.000000</td>\n",
              "      <td>0.000000</td>\n",
              "      <td>0.0</td>\n",
              "      <td>0.000000</td>\n",
              "      <td>0.000000</td>\n",
              "      <td>0.000000</td>\n",
              "      <td>0.0</td>\n",
              "      <td>0.000</td>\n",
              "      <td>0.000</td>\n",
              "      <td>0.000000</td>\n",
              "      <td>0.000000</td>\n",
              "      <td>0.25</td>\n",
              "      <td>0.0</td>\n",
              "      <td>0.000000</td>\n",
              "      <td>0.000000</td>\n",
              "    </tr>\n",
              "    <tr>\n",
              "      <th>1</th>\n",
              "      <td>Birch Cliff, Cliffside West</td>\n",
              "      <td>0.000000</td>\n",
              "      <td>0.000</td>\n",
              "      <td>0.000000</td>\n",
              "      <td>0.000000</td>\n",
              "      <td>0.000000</td>\n",
              "      <td>0.0</td>\n",
              "      <td>0.000000</td>\n",
              "      <td>0.0</td>\n",
              "      <td>0.00</td>\n",
              "      <td>0.25</td>\n",
              "      <td>0.000</td>\n",
              "      <td>0.000000</td>\n",
              "      <td>0.000000</td>\n",
              "      <td>0.25</td>\n",
              "      <td>0.00</td>\n",
              "      <td>0.000000</td>\n",
              "      <td>0.000000</td>\n",
              "      <td>0.000000</td>\n",
              "      <td>0.000000</td>\n",
              "      <td>0.000000</td>\n",
              "      <td>0.25</td>\n",
              "      <td>0.000000</td>\n",
              "      <td>0.000</td>\n",
              "      <td>0.0</td>\n",
              "      <td>0.00</td>\n",
              "      <td>0.0</td>\n",
              "      <td>0.000000</td>\n",
              "      <td>0.000000</td>\n",
              "      <td>0.000000</td>\n",
              "      <td>0.00</td>\n",
              "      <td>0.00</td>\n",
              "      <td>0.000000</td>\n",
              "      <td>0.00</td>\n",
              "      <td>0.000</td>\n",
              "      <td>0.0</td>\n",
              "      <td>0.000</td>\n",
              "      <td>0.000000</td>\n",
              "      <td>0.000000</td>\n",
              "      <td>0.000000</td>\n",
              "      <td>0.0</td>\n",
              "      <td>0.000000</td>\n",
              "      <td>0.000000</td>\n",
              "      <td>0.000000</td>\n",
              "      <td>0.0</td>\n",
              "      <td>0.000</td>\n",
              "      <td>0.000</td>\n",
              "      <td>0.000000</td>\n",
              "      <td>0.000000</td>\n",
              "      <td>0.25</td>\n",
              "      <td>0.0</td>\n",
              "      <td>0.000000</td>\n",
              "      <td>0.000000</td>\n",
              "    </tr>\n",
              "    <tr>\n",
              "      <th>2</th>\n",
              "      <td>Cedarbrae</td>\n",
              "      <td>0.000000</td>\n",
              "      <td>0.125</td>\n",
              "      <td>0.000000</td>\n",
              "      <td>0.125000</td>\n",
              "      <td>0.125000</td>\n",
              "      <td>0.0</td>\n",
              "      <td>0.000000</td>\n",
              "      <td>0.0</td>\n",
              "      <td>0.00</td>\n",
              "      <td>0.00</td>\n",
              "      <td>0.125</td>\n",
              "      <td>0.000000</td>\n",
              "      <td>0.000000</td>\n",
              "      <td>0.00</td>\n",
              "      <td>0.00</td>\n",
              "      <td>0.000000</td>\n",
              "      <td>0.000000</td>\n",
              "      <td>0.000000</td>\n",
              "      <td>0.125000</td>\n",
              "      <td>0.125000</td>\n",
              "      <td>0.00</td>\n",
              "      <td>0.000000</td>\n",
              "      <td>0.125</td>\n",
              "      <td>0.0</td>\n",
              "      <td>0.00</td>\n",
              "      <td>0.0</td>\n",
              "      <td>0.000000</td>\n",
              "      <td>0.000000</td>\n",
              "      <td>0.000000</td>\n",
              "      <td>0.00</td>\n",
              "      <td>0.00</td>\n",
              "      <td>0.000000</td>\n",
              "      <td>0.00</td>\n",
              "      <td>0.000</td>\n",
              "      <td>0.0</td>\n",
              "      <td>0.000</td>\n",
              "      <td>0.000000</td>\n",
              "      <td>0.000000</td>\n",
              "      <td>0.000000</td>\n",
              "      <td>0.0</td>\n",
              "      <td>0.000000</td>\n",
              "      <td>0.000000</td>\n",
              "      <td>0.000000</td>\n",
              "      <td>0.0</td>\n",
              "      <td>0.000</td>\n",
              "      <td>0.000</td>\n",
              "      <td>0.000000</td>\n",
              "      <td>0.000000</td>\n",
              "      <td>0.00</td>\n",
              "      <td>0.0</td>\n",
              "      <td>0.125000</td>\n",
              "      <td>0.000000</td>\n",
              "    </tr>\n",
              "    <tr>\n",
              "      <th>3</th>\n",
              "      <td>Clarks Corners, Tam O'Shanter, Sullivan</td>\n",
              "      <td>0.000000</td>\n",
              "      <td>0.000</td>\n",
              "      <td>0.000000</td>\n",
              "      <td>0.000000</td>\n",
              "      <td>0.076923</td>\n",
              "      <td>0.0</td>\n",
              "      <td>0.000000</td>\n",
              "      <td>0.0</td>\n",
              "      <td>0.00</td>\n",
              "      <td>0.00</td>\n",
              "      <td>0.000</td>\n",
              "      <td>0.076923</td>\n",
              "      <td>0.000000</td>\n",
              "      <td>0.00</td>\n",
              "      <td>0.00</td>\n",
              "      <td>0.000000</td>\n",
              "      <td>0.000000</td>\n",
              "      <td>0.153846</td>\n",
              "      <td>0.076923</td>\n",
              "      <td>0.076923</td>\n",
              "      <td>0.00</td>\n",
              "      <td>0.000000</td>\n",
              "      <td>0.000</td>\n",
              "      <td>0.0</td>\n",
              "      <td>0.00</td>\n",
              "      <td>0.0</td>\n",
              "      <td>0.000000</td>\n",
              "      <td>0.000000</td>\n",
              "      <td>0.076923</td>\n",
              "      <td>0.00</td>\n",
              "      <td>0.00</td>\n",
              "      <td>0.000000</td>\n",
              "      <td>0.00</td>\n",
              "      <td>0.000</td>\n",
              "      <td>0.0</td>\n",
              "      <td>0.000</td>\n",
              "      <td>0.000000</td>\n",
              "      <td>0.000000</td>\n",
              "      <td>0.076923</td>\n",
              "      <td>0.0</td>\n",
              "      <td>0.000000</td>\n",
              "      <td>0.153846</td>\n",
              "      <td>0.153846</td>\n",
              "      <td>0.0</td>\n",
              "      <td>0.000</td>\n",
              "      <td>0.000</td>\n",
              "      <td>0.000000</td>\n",
              "      <td>0.000000</td>\n",
              "      <td>0.00</td>\n",
              "      <td>0.0</td>\n",
              "      <td>0.076923</td>\n",
              "      <td>0.000000</td>\n",
              "    </tr>\n",
              "    <tr>\n",
              "      <th>4</th>\n",
              "      <td>Cliffside, Cliffcrest, Scarborough Village West</td>\n",
              "      <td>0.333333</td>\n",
              "      <td>0.000</td>\n",
              "      <td>0.000000</td>\n",
              "      <td>0.000000</td>\n",
              "      <td>0.000000</td>\n",
              "      <td>0.0</td>\n",
              "      <td>0.000000</td>\n",
              "      <td>0.0</td>\n",
              "      <td>0.00</td>\n",
              "      <td>0.00</td>\n",
              "      <td>0.000</td>\n",
              "      <td>0.000000</td>\n",
              "      <td>0.000000</td>\n",
              "      <td>0.00</td>\n",
              "      <td>0.00</td>\n",
              "      <td>0.000000</td>\n",
              "      <td>0.000000</td>\n",
              "      <td>0.000000</td>\n",
              "      <td>0.000000</td>\n",
              "      <td>0.000000</td>\n",
              "      <td>0.00</td>\n",
              "      <td>0.000000</td>\n",
              "      <td>0.000</td>\n",
              "      <td>0.0</td>\n",
              "      <td>0.00</td>\n",
              "      <td>0.0</td>\n",
              "      <td>0.000000</td>\n",
              "      <td>0.333333</td>\n",
              "      <td>0.000000</td>\n",
              "      <td>0.00</td>\n",
              "      <td>0.00</td>\n",
              "      <td>0.000000</td>\n",
              "      <td>0.00</td>\n",
              "      <td>0.000</td>\n",
              "      <td>0.0</td>\n",
              "      <td>0.000</td>\n",
              "      <td>0.000000</td>\n",
              "      <td>0.333333</td>\n",
              "      <td>0.000000</td>\n",
              "      <td>0.0</td>\n",
              "      <td>0.000000</td>\n",
              "      <td>0.000000</td>\n",
              "      <td>0.000000</td>\n",
              "      <td>0.0</td>\n",
              "      <td>0.000</td>\n",
              "      <td>0.000</td>\n",
              "      <td>0.000000</td>\n",
              "      <td>0.000000</td>\n",
              "      <td>0.00</td>\n",
              "      <td>0.0</td>\n",
              "      <td>0.000000</td>\n",
              "      <td>0.000000</td>\n",
              "    </tr>\n",
              "    <tr>\n",
              "      <th>5</th>\n",
              "      <td>Dorset Park, Wexford Heights, Scarborough Town...</td>\n",
              "      <td>0.000000</td>\n",
              "      <td>0.000</td>\n",
              "      <td>0.000000</td>\n",
              "      <td>0.000000</td>\n",
              "      <td>0.000000</td>\n",
              "      <td>0.0</td>\n",
              "      <td>0.000000</td>\n",
              "      <td>0.0</td>\n",
              "      <td>0.00</td>\n",
              "      <td>0.00</td>\n",
              "      <td>0.000</td>\n",
              "      <td>0.166667</td>\n",
              "      <td>0.000000</td>\n",
              "      <td>0.00</td>\n",
              "      <td>0.00</td>\n",
              "      <td>0.000000</td>\n",
              "      <td>0.000000</td>\n",
              "      <td>0.000000</td>\n",
              "      <td>0.000000</td>\n",
              "      <td>0.000000</td>\n",
              "      <td>0.00</td>\n",
              "      <td>0.000000</td>\n",
              "      <td>0.000</td>\n",
              "      <td>0.0</td>\n",
              "      <td>0.00</td>\n",
              "      <td>0.0</td>\n",
              "      <td>0.333333</td>\n",
              "      <td>0.000000</td>\n",
              "      <td>0.000000</td>\n",
              "      <td>0.00</td>\n",
              "      <td>0.00</td>\n",
              "      <td>0.166667</td>\n",
              "      <td>0.00</td>\n",
              "      <td>0.000</td>\n",
              "      <td>0.0</td>\n",
              "      <td>0.000</td>\n",
              "      <td>0.000000</td>\n",
              "      <td>0.000000</td>\n",
              "      <td>0.000000</td>\n",
              "      <td>0.0</td>\n",
              "      <td>0.166667</td>\n",
              "      <td>0.000000</td>\n",
              "      <td>0.000000</td>\n",
              "      <td>0.0</td>\n",
              "      <td>0.000</td>\n",
              "      <td>0.000</td>\n",
              "      <td>0.000000</td>\n",
              "      <td>0.000000</td>\n",
              "      <td>0.00</td>\n",
              "      <td>0.0</td>\n",
              "      <td>0.000000</td>\n",
              "      <td>0.166667</td>\n",
              "    </tr>\n",
              "    <tr>\n",
              "      <th>6</th>\n",
              "      <td>Golden Mile, Clairlea, Oakridge</td>\n",
              "      <td>0.000000</td>\n",
              "      <td>0.000</td>\n",
              "      <td>0.000000</td>\n",
              "      <td>0.200000</td>\n",
              "      <td>0.000000</td>\n",
              "      <td>0.0</td>\n",
              "      <td>0.000000</td>\n",
              "      <td>0.2</td>\n",
              "      <td>0.10</td>\n",
              "      <td>0.00</td>\n",
              "      <td>0.000</td>\n",
              "      <td>0.000000</td>\n",
              "      <td>0.000000</td>\n",
              "      <td>0.00</td>\n",
              "      <td>0.00</td>\n",
              "      <td>0.000000</td>\n",
              "      <td>0.000000</td>\n",
              "      <td>0.000000</td>\n",
              "      <td>0.000000</td>\n",
              "      <td>0.000000</td>\n",
              "      <td>0.00</td>\n",
              "      <td>0.000000</td>\n",
              "      <td>0.000</td>\n",
              "      <td>0.0</td>\n",
              "      <td>0.00</td>\n",
              "      <td>0.1</td>\n",
              "      <td>0.000000</td>\n",
              "      <td>0.100000</td>\n",
              "      <td>0.000000</td>\n",
              "      <td>0.00</td>\n",
              "      <td>0.00</td>\n",
              "      <td>0.000000</td>\n",
              "      <td>0.00</td>\n",
              "      <td>0.000</td>\n",
              "      <td>0.1</td>\n",
              "      <td>0.000</td>\n",
              "      <td>0.000000</td>\n",
              "      <td>0.000000</td>\n",
              "      <td>0.000000</td>\n",
              "      <td>0.1</td>\n",
              "      <td>0.000000</td>\n",
              "      <td>0.000000</td>\n",
              "      <td>0.000000</td>\n",
              "      <td>0.0</td>\n",
              "      <td>0.000</td>\n",
              "      <td>0.000</td>\n",
              "      <td>0.000000</td>\n",
              "      <td>0.000000</td>\n",
              "      <td>0.00</td>\n",
              "      <td>0.1</td>\n",
              "      <td>0.000000</td>\n",
              "      <td>0.000000</td>\n",
              "    </tr>\n",
              "    <tr>\n",
              "      <th>7</th>\n",
              "      <td>Guildwood, Morningside, West Hill</td>\n",
              "      <td>0.000000</td>\n",
              "      <td>0.000</td>\n",
              "      <td>0.000000</td>\n",
              "      <td>0.000000</td>\n",
              "      <td>0.125000</td>\n",
              "      <td>0.0</td>\n",
              "      <td>0.125000</td>\n",
              "      <td>0.0</td>\n",
              "      <td>0.00</td>\n",
              "      <td>0.00</td>\n",
              "      <td>0.000</td>\n",
              "      <td>0.000000</td>\n",
              "      <td>0.000000</td>\n",
              "      <td>0.00</td>\n",
              "      <td>0.00</td>\n",
              "      <td>0.000000</td>\n",
              "      <td>0.125000</td>\n",
              "      <td>0.000000</td>\n",
              "      <td>0.000000</td>\n",
              "      <td>0.000000</td>\n",
              "      <td>0.00</td>\n",
              "      <td>0.000000</td>\n",
              "      <td>0.000</td>\n",
              "      <td>0.0</td>\n",
              "      <td>0.00</td>\n",
              "      <td>0.0</td>\n",
              "      <td>0.000000</td>\n",
              "      <td>0.125000</td>\n",
              "      <td>0.000000</td>\n",
              "      <td>0.00</td>\n",
              "      <td>0.00</td>\n",
              "      <td>0.000000</td>\n",
              "      <td>0.00</td>\n",
              "      <td>0.125</td>\n",
              "      <td>0.0</td>\n",
              "      <td>0.125</td>\n",
              "      <td>0.000000</td>\n",
              "      <td>0.000000</td>\n",
              "      <td>0.000000</td>\n",
              "      <td>0.0</td>\n",
              "      <td>0.000000</td>\n",
              "      <td>0.000000</td>\n",
              "      <td>0.000000</td>\n",
              "      <td>0.0</td>\n",
              "      <td>0.125</td>\n",
              "      <td>0.125</td>\n",
              "      <td>0.000000</td>\n",
              "      <td>0.000000</td>\n",
              "      <td>0.00</td>\n",
              "      <td>0.0</td>\n",
              "      <td>0.000000</td>\n",
              "      <td>0.000000</td>\n",
              "    </tr>\n",
              "    <tr>\n",
              "      <th>8</th>\n",
              "      <td>Kennedy Park, Ionview, East Birchmount Park</td>\n",
              "      <td>0.000000</td>\n",
              "      <td>0.000</td>\n",
              "      <td>0.000000</td>\n",
              "      <td>0.000000</td>\n",
              "      <td>0.000000</td>\n",
              "      <td>0.0</td>\n",
              "      <td>0.000000</td>\n",
              "      <td>0.0</td>\n",
              "      <td>0.25</td>\n",
              "      <td>0.00</td>\n",
              "      <td>0.000</td>\n",
              "      <td>0.000000</td>\n",
              "      <td>0.250000</td>\n",
              "      <td>0.00</td>\n",
              "      <td>0.25</td>\n",
              "      <td>0.000000</td>\n",
              "      <td>0.000000</td>\n",
              "      <td>0.000000</td>\n",
              "      <td>0.000000</td>\n",
              "      <td>0.000000</td>\n",
              "      <td>0.00</td>\n",
              "      <td>0.000000</td>\n",
              "      <td>0.000</td>\n",
              "      <td>0.0</td>\n",
              "      <td>0.25</td>\n",
              "      <td>0.0</td>\n",
              "      <td>0.000000</td>\n",
              "      <td>0.000000</td>\n",
              "      <td>0.000000</td>\n",
              "      <td>0.00</td>\n",
              "      <td>0.00</td>\n",
              "      <td>0.000000</td>\n",
              "      <td>0.00</td>\n",
              "      <td>0.000</td>\n",
              "      <td>0.0</td>\n",
              "      <td>0.000</td>\n",
              "      <td>0.000000</td>\n",
              "      <td>0.000000</td>\n",
              "      <td>0.000000</td>\n",
              "      <td>0.0</td>\n",
              "      <td>0.000000</td>\n",
              "      <td>0.000000</td>\n",
              "      <td>0.000000</td>\n",
              "      <td>0.0</td>\n",
              "      <td>0.000</td>\n",
              "      <td>0.000</td>\n",
              "      <td>0.000000</td>\n",
              "      <td>0.000000</td>\n",
              "      <td>0.00</td>\n",
              "      <td>0.0</td>\n",
              "      <td>0.000000</td>\n",
              "      <td>0.000000</td>\n",
              "    </tr>\n",
              "    <tr>\n",
              "      <th>9</th>\n",
              "      <td>Malvern, Rouge</td>\n",
              "      <td>0.000000</td>\n",
              "      <td>0.000</td>\n",
              "      <td>0.000000</td>\n",
              "      <td>0.000000</td>\n",
              "      <td>0.000000</td>\n",
              "      <td>0.0</td>\n",
              "      <td>0.000000</td>\n",
              "      <td>0.0</td>\n",
              "      <td>0.00</td>\n",
              "      <td>0.00</td>\n",
              "      <td>0.000</td>\n",
              "      <td>0.000000</td>\n",
              "      <td>0.000000</td>\n",
              "      <td>0.00</td>\n",
              "      <td>0.00</td>\n",
              "      <td>0.000000</td>\n",
              "      <td>0.000000</td>\n",
              "      <td>1.000000</td>\n",
              "      <td>0.000000</td>\n",
              "      <td>0.000000</td>\n",
              "      <td>0.00</td>\n",
              "      <td>0.000000</td>\n",
              "      <td>0.000</td>\n",
              "      <td>0.0</td>\n",
              "      <td>0.00</td>\n",
              "      <td>0.0</td>\n",
              "      <td>0.000000</td>\n",
              "      <td>0.000000</td>\n",
              "      <td>0.000000</td>\n",
              "      <td>0.00</td>\n",
              "      <td>0.00</td>\n",
              "      <td>0.000000</td>\n",
              "      <td>0.00</td>\n",
              "      <td>0.000</td>\n",
              "      <td>0.0</td>\n",
              "      <td>0.000</td>\n",
              "      <td>0.000000</td>\n",
              "      <td>0.000000</td>\n",
              "      <td>0.000000</td>\n",
              "      <td>0.0</td>\n",
              "      <td>0.000000</td>\n",
              "      <td>0.000000</td>\n",
              "      <td>0.000000</td>\n",
              "      <td>0.0</td>\n",
              "      <td>0.000</td>\n",
              "      <td>0.000</td>\n",
              "      <td>0.000000</td>\n",
              "      <td>0.000000</td>\n",
              "      <td>0.00</td>\n",
              "      <td>0.0</td>\n",
              "      <td>0.000000</td>\n",
              "      <td>0.000000</td>\n",
              "    </tr>\n",
              "    <tr>\n",
              "      <th>10</th>\n",
              "      <td>Milliken, Agincourt North, Steeles East, L'Amo...</td>\n",
              "      <td>0.000000</td>\n",
              "      <td>0.000</td>\n",
              "      <td>0.000000</td>\n",
              "      <td>0.000000</td>\n",
              "      <td>0.000000</td>\n",
              "      <td>0.0</td>\n",
              "      <td>0.000000</td>\n",
              "      <td>0.0</td>\n",
              "      <td>0.00</td>\n",
              "      <td>0.00</td>\n",
              "      <td>0.000</td>\n",
              "      <td>0.000000</td>\n",
              "      <td>0.000000</td>\n",
              "      <td>0.00</td>\n",
              "      <td>0.00</td>\n",
              "      <td>0.000000</td>\n",
              "      <td>0.000000</td>\n",
              "      <td>0.000000</td>\n",
              "      <td>0.000000</td>\n",
              "      <td>0.000000</td>\n",
              "      <td>0.00</td>\n",
              "      <td>0.000000</td>\n",
              "      <td>0.000</td>\n",
              "      <td>0.0</td>\n",
              "      <td>0.00</td>\n",
              "      <td>0.0</td>\n",
              "      <td>0.000000</td>\n",
              "      <td>0.000000</td>\n",
              "      <td>0.000000</td>\n",
              "      <td>0.00</td>\n",
              "      <td>0.00</td>\n",
              "      <td>0.000000</td>\n",
              "      <td>0.00</td>\n",
              "      <td>0.000</td>\n",
              "      <td>0.0</td>\n",
              "      <td>0.000</td>\n",
              "      <td>0.000000</td>\n",
              "      <td>0.000000</td>\n",
              "      <td>0.000000</td>\n",
              "      <td>0.5</td>\n",
              "      <td>0.000000</td>\n",
              "      <td>0.000000</td>\n",
              "      <td>0.000000</td>\n",
              "      <td>0.5</td>\n",
              "      <td>0.000</td>\n",
              "      <td>0.000</td>\n",
              "      <td>0.000000</td>\n",
              "      <td>0.000000</td>\n",
              "      <td>0.00</td>\n",
              "      <td>0.0</td>\n",
              "      <td>0.000000</td>\n",
              "      <td>0.000000</td>\n",
              "    </tr>\n",
              "    <tr>\n",
              "      <th>11</th>\n",
              "      <td>Rouge Hill, Port Union, Highland Creek</td>\n",
              "      <td>0.000000</td>\n",
              "      <td>0.000</td>\n",
              "      <td>0.000000</td>\n",
              "      <td>0.000000</td>\n",
              "      <td>0.000000</td>\n",
              "      <td>0.5</td>\n",
              "      <td>0.000000</td>\n",
              "      <td>0.0</td>\n",
              "      <td>0.00</td>\n",
              "      <td>0.00</td>\n",
              "      <td>0.000</td>\n",
              "      <td>0.000000</td>\n",
              "      <td>0.000000</td>\n",
              "      <td>0.00</td>\n",
              "      <td>0.00</td>\n",
              "      <td>0.000000</td>\n",
              "      <td>0.000000</td>\n",
              "      <td>0.000000</td>\n",
              "      <td>0.000000</td>\n",
              "      <td>0.000000</td>\n",
              "      <td>0.00</td>\n",
              "      <td>0.000000</td>\n",
              "      <td>0.000</td>\n",
              "      <td>0.5</td>\n",
              "      <td>0.00</td>\n",
              "      <td>0.0</td>\n",
              "      <td>0.000000</td>\n",
              "      <td>0.000000</td>\n",
              "      <td>0.000000</td>\n",
              "      <td>0.00</td>\n",
              "      <td>0.00</td>\n",
              "      <td>0.000000</td>\n",
              "      <td>0.00</td>\n",
              "      <td>0.000</td>\n",
              "      <td>0.0</td>\n",
              "      <td>0.000</td>\n",
              "      <td>0.000000</td>\n",
              "      <td>0.000000</td>\n",
              "      <td>0.000000</td>\n",
              "      <td>0.0</td>\n",
              "      <td>0.000000</td>\n",
              "      <td>0.000000</td>\n",
              "      <td>0.000000</td>\n",
              "      <td>0.0</td>\n",
              "      <td>0.000</td>\n",
              "      <td>0.000</td>\n",
              "      <td>0.000000</td>\n",
              "      <td>0.000000</td>\n",
              "      <td>0.00</td>\n",
              "      <td>0.0</td>\n",
              "      <td>0.000000</td>\n",
              "      <td>0.000000</td>\n",
              "    </tr>\n",
              "    <tr>\n",
              "      <th>12</th>\n",
              "      <td>Scarborough Village</td>\n",
              "      <td>0.000000</td>\n",
              "      <td>0.000</td>\n",
              "      <td>0.000000</td>\n",
              "      <td>0.000000</td>\n",
              "      <td>0.000000</td>\n",
              "      <td>0.0</td>\n",
              "      <td>0.000000</td>\n",
              "      <td>0.0</td>\n",
              "      <td>0.00</td>\n",
              "      <td>0.00</td>\n",
              "      <td>0.000</td>\n",
              "      <td>0.000000</td>\n",
              "      <td>0.000000</td>\n",
              "      <td>0.00</td>\n",
              "      <td>0.00</td>\n",
              "      <td>0.000000</td>\n",
              "      <td>0.000000</td>\n",
              "      <td>0.000000</td>\n",
              "      <td>0.000000</td>\n",
              "      <td>0.000000</td>\n",
              "      <td>0.00</td>\n",
              "      <td>0.000000</td>\n",
              "      <td>0.000</td>\n",
              "      <td>0.0</td>\n",
              "      <td>0.00</td>\n",
              "      <td>0.0</td>\n",
              "      <td>0.000000</td>\n",
              "      <td>0.000000</td>\n",
              "      <td>0.000000</td>\n",
              "      <td>0.00</td>\n",
              "      <td>0.00</td>\n",
              "      <td>0.000000</td>\n",
              "      <td>0.00</td>\n",
              "      <td>0.000</td>\n",
              "      <td>0.0</td>\n",
              "      <td>0.000</td>\n",
              "      <td>0.000000</td>\n",
              "      <td>0.000000</td>\n",
              "      <td>0.000000</td>\n",
              "      <td>0.0</td>\n",
              "      <td>0.000000</td>\n",
              "      <td>0.000000</td>\n",
              "      <td>0.000000</td>\n",
              "      <td>1.0</td>\n",
              "      <td>0.000</td>\n",
              "      <td>0.000</td>\n",
              "      <td>0.000000</td>\n",
              "      <td>0.000000</td>\n",
              "      <td>0.00</td>\n",
              "      <td>0.0</td>\n",
              "      <td>0.000000</td>\n",
              "      <td>0.000000</td>\n",
              "    </tr>\n",
              "    <tr>\n",
              "      <th>13</th>\n",
              "      <td>Steeles West, L'Amoreaux West</td>\n",
              "      <td>0.000000</td>\n",
              "      <td>0.000</td>\n",
              "      <td>0.000000</td>\n",
              "      <td>0.000000</td>\n",
              "      <td>0.066667</td>\n",
              "      <td>0.0</td>\n",
              "      <td>0.066667</td>\n",
              "      <td>0.0</td>\n",
              "      <td>0.00</td>\n",
              "      <td>0.00</td>\n",
              "      <td>0.000</td>\n",
              "      <td>0.133333</td>\n",
              "      <td>0.066667</td>\n",
              "      <td>0.00</td>\n",
              "      <td>0.00</td>\n",
              "      <td>0.066667</td>\n",
              "      <td>0.066667</td>\n",
              "      <td>0.133333</td>\n",
              "      <td>0.000000</td>\n",
              "      <td>0.000000</td>\n",
              "      <td>0.00</td>\n",
              "      <td>0.133333</td>\n",
              "      <td>0.000</td>\n",
              "      <td>0.0</td>\n",
              "      <td>0.00</td>\n",
              "      <td>0.0</td>\n",
              "      <td>0.066667</td>\n",
              "      <td>0.000000</td>\n",
              "      <td>0.000000</td>\n",
              "      <td>0.00</td>\n",
              "      <td>0.00</td>\n",
              "      <td>0.000000</td>\n",
              "      <td>0.00</td>\n",
              "      <td>0.000</td>\n",
              "      <td>0.0</td>\n",
              "      <td>0.000</td>\n",
              "      <td>0.000000</td>\n",
              "      <td>0.000000</td>\n",
              "      <td>0.000000</td>\n",
              "      <td>0.0</td>\n",
              "      <td>0.000000</td>\n",
              "      <td>0.066667</td>\n",
              "      <td>0.066667</td>\n",
              "      <td>0.0</td>\n",
              "      <td>0.000</td>\n",
              "      <td>0.000</td>\n",
              "      <td>0.066667</td>\n",
              "      <td>0.000000</td>\n",
              "      <td>0.00</td>\n",
              "      <td>0.0</td>\n",
              "      <td>0.000000</td>\n",
              "      <td>0.000000</td>\n",
              "    </tr>\n",
              "    <tr>\n",
              "      <th>14</th>\n",
              "      <td>Wexford, Maryvale</td>\n",
              "      <td>0.000000</td>\n",
              "      <td>0.000</td>\n",
              "      <td>0.142857</td>\n",
              "      <td>0.142857</td>\n",
              "      <td>0.000000</td>\n",
              "      <td>0.0</td>\n",
              "      <td>0.142857</td>\n",
              "      <td>0.0</td>\n",
              "      <td>0.00</td>\n",
              "      <td>0.00</td>\n",
              "      <td>0.000</td>\n",
              "      <td>0.000000</td>\n",
              "      <td>0.000000</td>\n",
              "      <td>0.00</td>\n",
              "      <td>0.00</td>\n",
              "      <td>0.000000</td>\n",
              "      <td>0.000000</td>\n",
              "      <td>0.000000</td>\n",
              "      <td>0.000000</td>\n",
              "      <td>0.000000</td>\n",
              "      <td>0.00</td>\n",
              "      <td>0.000000</td>\n",
              "      <td>0.000</td>\n",
              "      <td>0.0</td>\n",
              "      <td>0.00</td>\n",
              "      <td>0.0</td>\n",
              "      <td>0.000000</td>\n",
              "      <td>0.000000</td>\n",
              "      <td>0.000000</td>\n",
              "      <td>0.00</td>\n",
              "      <td>0.00</td>\n",
              "      <td>0.000000</td>\n",
              "      <td>0.00</td>\n",
              "      <td>0.000</td>\n",
              "      <td>0.0</td>\n",
              "      <td>0.000</td>\n",
              "      <td>0.142857</td>\n",
              "      <td>0.000000</td>\n",
              "      <td>0.000000</td>\n",
              "      <td>0.0</td>\n",
              "      <td>0.000000</td>\n",
              "      <td>0.000000</td>\n",
              "      <td>0.000000</td>\n",
              "      <td>0.0</td>\n",
              "      <td>0.000</td>\n",
              "      <td>0.000</td>\n",
              "      <td>0.142857</td>\n",
              "      <td>0.142857</td>\n",
              "      <td>0.00</td>\n",
              "      <td>0.0</td>\n",
              "      <td>0.000000</td>\n",
              "      <td>0.142857</td>\n",
              "    </tr>\n",
              "    <tr>\n",
              "      <th>15</th>\n",
              "      <td>Woburn</td>\n",
              "      <td>0.000000</td>\n",
              "      <td>0.000</td>\n",
              "      <td>0.000000</td>\n",
              "      <td>0.000000</td>\n",
              "      <td>0.000000</td>\n",
              "      <td>0.0</td>\n",
              "      <td>0.000000</td>\n",
              "      <td>0.0</td>\n",
              "      <td>0.00</td>\n",
              "      <td>0.00</td>\n",
              "      <td>0.000</td>\n",
              "      <td>0.000000</td>\n",
              "      <td>0.500000</td>\n",
              "      <td>0.00</td>\n",
              "      <td>0.00</td>\n",
              "      <td>0.000000</td>\n",
              "      <td>0.000000</td>\n",
              "      <td>0.000000</td>\n",
              "      <td>0.000000</td>\n",
              "      <td>0.000000</td>\n",
              "      <td>0.00</td>\n",
              "      <td>0.000000</td>\n",
              "      <td>0.000</td>\n",
              "      <td>0.0</td>\n",
              "      <td>0.00</td>\n",
              "      <td>0.0</td>\n",
              "      <td>0.000000</td>\n",
              "      <td>0.000000</td>\n",
              "      <td>0.000000</td>\n",
              "      <td>0.25</td>\n",
              "      <td>0.00</td>\n",
              "      <td>0.000000</td>\n",
              "      <td>0.00</td>\n",
              "      <td>0.000</td>\n",
              "      <td>0.0</td>\n",
              "      <td>0.000</td>\n",
              "      <td>0.000000</td>\n",
              "      <td>0.000000</td>\n",
              "      <td>0.000000</td>\n",
              "      <td>0.0</td>\n",
              "      <td>0.000000</td>\n",
              "      <td>0.250000</td>\n",
              "      <td>0.000000</td>\n",
              "      <td>0.0</td>\n",
              "      <td>0.000</td>\n",
              "      <td>0.000</td>\n",
              "      <td>0.000000</td>\n",
              "      <td>0.000000</td>\n",
              "      <td>0.00</td>\n",
              "      <td>0.0</td>\n",
              "      <td>0.000000</td>\n",
              "      <td>0.000000</td>\n",
              "    </tr>\n",
              "  </tbody>\n",
              "</table>\n",
              "</div>"
            ],
            "text/plain": [
              "                                         Neighborhood  American Restaurant  \\\n",
              "0                                           Agincourt             0.000000   \n",
              "1                         Birch Cliff, Cliffside West             0.000000   \n",
              "2                                           Cedarbrae             0.000000   \n",
              "3             Clarks Corners, Tam O'Shanter, Sullivan             0.000000   \n",
              "4     Cliffside, Cliffcrest, Scarborough Village West             0.333333   \n",
              "5   Dorset Park, Wexford Heights, Scarborough Town...             0.000000   \n",
              "6                     Golden Mile, Clairlea, Oakridge             0.000000   \n",
              "7                   Guildwood, Morningside, West Hill             0.000000   \n",
              "8         Kennedy Park, Ionview, East Birchmount Park             0.000000   \n",
              "9                                      Malvern, Rouge             0.000000   \n",
              "10  Milliken, Agincourt North, Steeles East, L'Amo...             0.000000   \n",
              "11             Rouge Hill, Port Union, Highland Creek             0.000000   \n",
              "12                                Scarborough Village             0.000000   \n",
              "13                      Steeles West, L'Amoreaux West             0.000000   \n",
              "14                                  Wexford, Maryvale             0.000000   \n",
              "15                                             Woburn             0.000000   \n",
              "\n",
              "    Athletics & Sports  Auto Garage    Bakery      Bank  Bar  Breakfast Spot  \\\n",
              "0                0.000     0.000000  0.000000  0.000000  0.0        0.250000   \n",
              "1                0.000     0.000000  0.000000  0.000000  0.0        0.000000   \n",
              "2                0.125     0.000000  0.125000  0.125000  0.0        0.000000   \n",
              "3                0.000     0.000000  0.000000  0.076923  0.0        0.000000   \n",
              "4                0.000     0.000000  0.000000  0.000000  0.0        0.000000   \n",
              "5                0.000     0.000000  0.000000  0.000000  0.0        0.000000   \n",
              "6                0.000     0.000000  0.200000  0.000000  0.0        0.000000   \n",
              "7                0.000     0.000000  0.000000  0.125000  0.0        0.125000   \n",
              "8                0.000     0.000000  0.000000  0.000000  0.0        0.000000   \n",
              "9                0.000     0.000000  0.000000  0.000000  0.0        0.000000   \n",
              "10               0.000     0.000000  0.000000  0.000000  0.0        0.000000   \n",
              "11               0.000     0.000000  0.000000  0.000000  0.5        0.000000   \n",
              "12               0.000     0.000000  0.000000  0.000000  0.0        0.000000   \n",
              "13               0.000     0.000000  0.000000  0.066667  0.0        0.066667   \n",
              "14               0.000     0.142857  0.142857  0.000000  0.0        0.142857   \n",
              "15               0.000     0.000000  0.000000  0.000000  0.0        0.000000   \n",
              "\n",
              "    Bus Line  Bus Station  Café  Caribbean Restaurant  Chinese Restaurant  \\\n",
              "0        0.0         0.00  0.00                 0.000            0.000000   \n",
              "1        0.0         0.00  0.25                 0.000            0.000000   \n",
              "2        0.0         0.00  0.00                 0.125            0.000000   \n",
              "3        0.0         0.00  0.00                 0.000            0.076923   \n",
              "4        0.0         0.00  0.00                 0.000            0.000000   \n",
              "5        0.0         0.00  0.00                 0.000            0.166667   \n",
              "6        0.2         0.10  0.00                 0.000            0.000000   \n",
              "7        0.0         0.00  0.00                 0.000            0.000000   \n",
              "8        0.0         0.25  0.00                 0.000            0.000000   \n",
              "9        0.0         0.00  0.00                 0.000            0.000000   \n",
              "10       0.0         0.00  0.00                 0.000            0.000000   \n",
              "11       0.0         0.00  0.00                 0.000            0.000000   \n",
              "12       0.0         0.00  0.00                 0.000            0.000000   \n",
              "13       0.0         0.00  0.00                 0.000            0.133333   \n",
              "14       0.0         0.00  0.00                 0.000            0.000000   \n",
              "15       0.0         0.00  0.00                 0.000            0.000000   \n",
              "\n",
              "    Coffee Shop  College Stadium  Department Store  Discount Store  \\\n",
              "0      0.000000             0.00              0.00        0.000000   \n",
              "1      0.000000             0.25              0.00        0.000000   \n",
              "2      0.000000             0.00              0.00        0.000000   \n",
              "3      0.000000             0.00              0.00        0.000000   \n",
              "4      0.000000             0.00              0.00        0.000000   \n",
              "5      0.000000             0.00              0.00        0.000000   \n",
              "6      0.000000             0.00              0.00        0.000000   \n",
              "7      0.000000             0.00              0.00        0.000000   \n",
              "8      0.250000             0.00              0.25        0.000000   \n",
              "9      0.000000             0.00              0.00        0.000000   \n",
              "10     0.000000             0.00              0.00        0.000000   \n",
              "11     0.000000             0.00              0.00        0.000000   \n",
              "12     0.000000             0.00              0.00        0.000000   \n",
              "13     0.066667             0.00              0.00        0.066667   \n",
              "14     0.000000             0.00              0.00        0.000000   \n",
              "15     0.500000             0.00              0.00        0.000000   \n",
              "\n",
              "    Electronics Store  Fast Food Restaurant  Fried Chicken Joint  Gas Station  \\\n",
              "0            0.000000              0.000000             0.000000     0.000000   \n",
              "1            0.000000              0.000000             0.000000     0.000000   \n",
              "2            0.000000              0.000000             0.125000     0.125000   \n",
              "3            0.000000              0.153846             0.076923     0.076923   \n",
              "4            0.000000              0.000000             0.000000     0.000000   \n",
              "5            0.000000              0.000000             0.000000     0.000000   \n",
              "6            0.000000              0.000000             0.000000     0.000000   \n",
              "7            0.125000              0.000000             0.000000     0.000000   \n",
              "8            0.000000              0.000000             0.000000     0.000000   \n",
              "9            0.000000              1.000000             0.000000     0.000000   \n",
              "10           0.000000              0.000000             0.000000     0.000000   \n",
              "11           0.000000              0.000000             0.000000     0.000000   \n",
              "12           0.000000              0.000000             0.000000     0.000000   \n",
              "13           0.066667              0.133333             0.000000     0.000000   \n",
              "14           0.000000              0.000000             0.000000     0.000000   \n",
              "15           0.000000              0.000000             0.000000     0.000000   \n",
              "\n",
              "    General Entertainment  Grocery Store  Hakka Restaurant  History Museum  \\\n",
              "0                    0.00       0.000000             0.000             0.0   \n",
              "1                    0.25       0.000000             0.000             0.0   \n",
              "2                    0.00       0.000000             0.125             0.0   \n",
              "3                    0.00       0.000000             0.000             0.0   \n",
              "4                    0.00       0.000000             0.000             0.0   \n",
              "5                    0.00       0.000000             0.000             0.0   \n",
              "6                    0.00       0.000000             0.000             0.0   \n",
              "7                    0.00       0.000000             0.000             0.0   \n",
              "8                    0.00       0.000000             0.000             0.0   \n",
              "9                    0.00       0.000000             0.000             0.0   \n",
              "10                   0.00       0.000000             0.000             0.0   \n",
              "11                   0.00       0.000000             0.000             0.5   \n",
              "12                   0.00       0.000000             0.000             0.0   \n",
              "13                   0.00       0.133333             0.000             0.0   \n",
              "14                   0.00       0.000000             0.000             0.0   \n",
              "15                   0.00       0.000000             0.000             0.0   \n",
              "\n",
              "    Hobby Shop  Ice Cream Shop  Indian Restaurant  Intersection  \\\n",
              "0         0.00             0.0           0.000000      0.000000   \n",
              "1         0.00             0.0           0.000000      0.000000   \n",
              "2         0.00             0.0           0.000000      0.000000   \n",
              "3         0.00             0.0           0.000000      0.000000   \n",
              "4         0.00             0.0           0.000000      0.333333   \n",
              "5         0.00             0.0           0.333333      0.000000   \n",
              "6         0.00             0.1           0.000000      0.100000   \n",
              "7         0.00             0.0           0.000000      0.125000   \n",
              "8         0.25             0.0           0.000000      0.000000   \n",
              "9         0.00             0.0           0.000000      0.000000   \n",
              "10        0.00             0.0           0.000000      0.000000   \n",
              "11        0.00             0.0           0.000000      0.000000   \n",
              "12        0.00             0.0           0.000000      0.000000   \n",
              "13        0.00             0.0           0.066667      0.000000   \n",
              "14        0.00             0.0           0.000000      0.000000   \n",
              "15        0.00             0.0           0.000000      0.000000   \n",
              "\n",
              "    Italian Restaurant  Korean Restaurant  Latin American Restaurant  \\\n",
              "0             0.000000               0.00                       0.25   \n",
              "1             0.000000               0.00                       0.00   \n",
              "2             0.000000               0.00                       0.00   \n",
              "3             0.076923               0.00                       0.00   \n",
              "4             0.000000               0.00                       0.00   \n",
              "5             0.000000               0.00                       0.00   \n",
              "6             0.000000               0.00                       0.00   \n",
              "7             0.000000               0.00                       0.00   \n",
              "8             0.000000               0.00                       0.00   \n",
              "9             0.000000               0.00                       0.00   \n",
              "10            0.000000               0.00                       0.00   \n",
              "11            0.000000               0.00                       0.00   \n",
              "12            0.000000               0.00                       0.00   \n",
              "13            0.000000               0.00                       0.00   \n",
              "14            0.000000               0.00                       0.00   \n",
              "15            0.000000               0.25                       0.00   \n",
              "\n",
              "    Light Rail Station  Lounge  Medical Center  Metro Station  \\\n",
              "0             0.000000    0.25           0.000            0.0   \n",
              "1             0.000000    0.00           0.000            0.0   \n",
              "2             0.000000    0.00           0.000            0.0   \n",
              "3             0.000000    0.00           0.000            0.0   \n",
              "4             0.000000    0.00           0.000            0.0   \n",
              "5             0.166667    0.00           0.000            0.0   \n",
              "6             0.000000    0.00           0.000            0.1   \n",
              "7             0.000000    0.00           0.125            0.0   \n",
              "8             0.000000    0.00           0.000            0.0   \n",
              "9             0.000000    0.00           0.000            0.0   \n",
              "10            0.000000    0.00           0.000            0.0   \n",
              "11            0.000000    0.00           0.000            0.0   \n",
              "12            0.000000    0.00           0.000            0.0   \n",
              "13            0.000000    0.00           0.000            0.0   \n",
              "14            0.000000    0.00           0.000            0.0   \n",
              "15            0.000000    0.00           0.000            0.0   \n",
              "\n",
              "    Mexican Restaurant  Middle Eastern Restaurant     Motel  Noodle House  \\\n",
              "0                0.000                   0.000000  0.000000      0.000000   \n",
              "1                0.000                   0.000000  0.000000      0.000000   \n",
              "2                0.000                   0.000000  0.000000      0.000000   \n",
              "3                0.000                   0.000000  0.000000      0.076923   \n",
              "4                0.000                   0.000000  0.333333      0.000000   \n",
              "5                0.000                   0.000000  0.000000      0.000000   \n",
              "6                0.000                   0.000000  0.000000      0.000000   \n",
              "7                0.125                   0.000000  0.000000      0.000000   \n",
              "8                0.000                   0.000000  0.000000      0.000000   \n",
              "9                0.000                   0.000000  0.000000      0.000000   \n",
              "10               0.000                   0.000000  0.000000      0.000000   \n",
              "11               0.000                   0.000000  0.000000      0.000000   \n",
              "12               0.000                   0.000000  0.000000      0.000000   \n",
              "13               0.000                   0.000000  0.000000      0.000000   \n",
              "14               0.000                   0.142857  0.000000      0.000000   \n",
              "15               0.000                   0.000000  0.000000      0.000000   \n",
              "\n",
              "    Park  Pet Store  Pharmacy  Pizza Place  Playground  Rental Car Location  \\\n",
              "0    0.0   0.000000  0.000000     0.000000         0.0                0.000   \n",
              "1    0.0   0.000000  0.000000     0.000000         0.0                0.000   \n",
              "2    0.0   0.000000  0.000000     0.000000         0.0                0.000   \n",
              "3    0.0   0.000000  0.153846     0.153846         0.0                0.000   \n",
              "4    0.0   0.000000  0.000000     0.000000         0.0                0.000   \n",
              "5    0.0   0.166667  0.000000     0.000000         0.0                0.000   \n",
              "6    0.1   0.000000  0.000000     0.000000         0.0                0.000   \n",
              "7    0.0   0.000000  0.000000     0.000000         0.0                0.125   \n",
              "8    0.0   0.000000  0.000000     0.000000         0.0                0.000   \n",
              "9    0.0   0.000000  0.000000     0.000000         0.0                0.000   \n",
              "10   0.5   0.000000  0.000000     0.000000         0.5                0.000   \n",
              "11   0.0   0.000000  0.000000     0.000000         0.0                0.000   \n",
              "12   0.0   0.000000  0.000000     0.000000         1.0                0.000   \n",
              "13   0.0   0.000000  0.066667     0.066667         0.0                0.000   \n",
              "14   0.0   0.000000  0.000000     0.000000         0.0                0.000   \n",
              "15   0.0   0.000000  0.250000     0.000000         0.0                0.000   \n",
              "\n",
              "    Restaurant  Sandwich Place  Shopping Mall  Skating Rink  Soccer Field  \\\n",
              "0        0.000        0.000000       0.000000          0.25           0.0   \n",
              "1        0.000        0.000000       0.000000          0.25           0.0   \n",
              "2        0.000        0.000000       0.000000          0.00           0.0   \n",
              "3        0.000        0.000000       0.000000          0.00           0.0   \n",
              "4        0.000        0.000000       0.000000          0.00           0.0   \n",
              "5        0.000        0.000000       0.000000          0.00           0.0   \n",
              "6        0.000        0.000000       0.000000          0.00           0.1   \n",
              "7        0.125        0.000000       0.000000          0.00           0.0   \n",
              "8        0.000        0.000000       0.000000          0.00           0.0   \n",
              "9        0.000        0.000000       0.000000          0.00           0.0   \n",
              "10       0.000        0.000000       0.000000          0.00           0.0   \n",
              "11       0.000        0.000000       0.000000          0.00           0.0   \n",
              "12       0.000        0.000000       0.000000          0.00           0.0   \n",
              "13       0.000        0.066667       0.000000          0.00           0.0   \n",
              "14       0.000        0.142857       0.142857          0.00           0.0   \n",
              "15       0.000        0.000000       0.000000          0.00           0.0   \n",
              "\n",
              "    Thai Restaurant  Vietnamese Restaurant  \n",
              "0          0.000000               0.000000  \n",
              "1          0.000000               0.000000  \n",
              "2          0.125000               0.000000  \n",
              "3          0.076923               0.000000  \n",
              "4          0.000000               0.000000  \n",
              "5          0.000000               0.166667  \n",
              "6          0.000000               0.000000  \n",
              "7          0.000000               0.000000  \n",
              "8          0.000000               0.000000  \n",
              "9          0.000000               0.000000  \n",
              "10         0.000000               0.000000  \n",
              "11         0.000000               0.000000  \n",
              "12         0.000000               0.000000  \n",
              "13         0.000000               0.000000  \n",
              "14         0.000000               0.142857  \n",
              "15         0.000000               0.000000  "
            ]
          },
          "metadata": {
            "tags": []
          },
          "execution_count": 61
        }
      ]
    },
    {
      "cell_type": "markdown",
      "metadata": {
        "id": "sxNmEGjo5DQZ"
      },
      "source": [
        "> Let's confirm the new size"
      ]
    },
    {
      "cell_type": "code",
      "metadata": {
        "id": "Ph9C6tkbu6Dy",
        "colab": {
          "base_uri": "https://localhost:8080/",
          "height": 35
        },
        "outputId": "5f1b3cf7-9290-4a63-e034-27b9866cf516"
      },
      "source": [
        "scarborough_grouped.shape"
      ],
      "execution_count": null,
      "outputs": [
        {
          "output_type": "execute_result",
          "data": {
            "text/plain": [
              "(16, 53)"
            ]
          },
          "metadata": {
            "tags": []
          },
          "execution_count": 62
        }
      ]
    },
    {
      "cell_type": "markdown",
      "metadata": {
        "id": "uJQFHmVm5AdX"
      },
      "source": [
        "> Let's print each neighborhood along with the top 5 most common venues"
      ]
    },
    {
      "cell_type": "code",
      "metadata": {
        "id": "9kAGORUDvBXH",
        "colab": {
          "base_uri": "https://localhost:8080/",
          "height": 1000
        },
        "outputId": "391447d2-1e18-4c7d-98cd-bf0f25da8417"
      },
      "source": [
        "num_top_venues = 10\n",
        "\n",
        "for hood in scarborough_grouped['Neighborhood']:\n",
        "    print(\"----\"+hood+\"----\")\n",
        "    temp = scarborough_grouped[scarborough_grouped['Neighborhood'] == hood].T.reset_index()\n",
        "    temp.columns = ['venue','freq']\n",
        "    temp = temp.iloc[1:]\n",
        "    temp['freq'] = temp['freq'].astype(float)\n",
        "    temp = temp.round({'freq': 2})\n",
        "    print(temp.sort_values('freq', ascending=False).reset_index(drop=True).head(num_top_venues))\n",
        "    print('\\n')"
      ],
      "execution_count": null,
      "outputs": [
        {
          "output_type": "stream",
          "text": [
            "----Agincourt----\n",
            "                       venue  freq\n",
            "0  Latin American Restaurant  0.25\n",
            "1               Skating Rink  0.25\n",
            "2             Breakfast Spot  0.25\n",
            "3                     Lounge  0.25\n",
            "4        American Restaurant  0.00\n",
            "5                       Park  0.00\n",
            "6          Korean Restaurant  0.00\n",
            "7         Light Rail Station  0.00\n",
            "8             Medical Center  0.00\n",
            "9              Metro Station  0.00\n",
            "\n",
            "\n",
            "----Birch Cliff, Cliffside West----\n",
            "                       venue  freq\n",
            "0            College Stadium  0.25\n",
            "1               Skating Rink  0.25\n",
            "2      General Entertainment  0.25\n",
            "3                       Café  0.25\n",
            "4                       Park  0.00\n",
            "5  Latin American Restaurant  0.00\n",
            "6         Light Rail Station  0.00\n",
            "7                     Lounge  0.00\n",
            "8             Medical Center  0.00\n",
            "9              Metro Station  0.00\n",
            "\n",
            "\n",
            "----Cedarbrae----\n",
            "                  venue  freq\n",
            "0       Thai Restaurant  0.12\n",
            "1                Bakery  0.12\n",
            "2                  Bank  0.12\n",
            "3    Athletics & Sports  0.12\n",
            "4  Caribbean Restaurant  0.12\n",
            "5      Hakka Restaurant  0.12\n",
            "6           Gas Station  0.12\n",
            "7   Fried Chicken Joint  0.12\n",
            "8   American Restaurant  0.00\n",
            "9          Noodle House  0.00\n",
            "\n",
            "\n",
            "----Clarks Corners, Tam O'Shanter, Sullivan----\n",
            "                  venue  freq\n",
            "0  Fast Food Restaurant  0.15\n",
            "1              Pharmacy  0.15\n",
            "2           Pizza Place  0.15\n",
            "3   Fried Chicken Joint  0.08\n",
            "4          Noodle House  0.08\n",
            "5           Gas Station  0.08\n",
            "6    Chinese Restaurant  0.08\n",
            "7    Italian Restaurant  0.08\n",
            "8                  Bank  0.08\n",
            "9       Thai Restaurant  0.08\n",
            "\n",
            "\n",
            "----Cliffside, Cliffcrest, Scarborough Village West----\n",
            "                       venue  freq\n",
            "0        American Restaurant  0.33\n",
            "1                      Motel  0.33\n",
            "2               Intersection  0.33\n",
            "3               Soccer Field  0.00\n",
            "4            Thai Restaurant  0.00\n",
            "5         Italian Restaurant  0.00\n",
            "6          Korean Restaurant  0.00\n",
            "7  Latin American Restaurant  0.00\n",
            "8         Light Rail Station  0.00\n",
            "9                     Lounge  0.00\n",
            "\n",
            "\n",
            "----Dorset Park, Wexford Heights, Scarborough Town Centre----\n",
            "                   venue  freq\n",
            "0      Indian Restaurant  0.33\n",
            "1     Chinese Restaurant  0.17\n",
            "2              Pet Store  0.17\n",
            "3     Light Rail Station  0.17\n",
            "4  Vietnamese Restaurant  0.17\n",
            "5                    Bar  0.00\n",
            "6            Auto Garage  0.00\n",
            "7                 Bakery  0.00\n",
            "8                 Lounge  0.00\n",
            "9         Medical Center  0.00\n",
            "\n",
            "\n",
            "----Golden Mile, Clairlea, Oakridge----\n",
            "                       venue  freq\n",
            "0                     Bakery   0.2\n",
            "1                   Bus Line   0.2\n",
            "2               Intersection   0.1\n",
            "3                       Park   0.1\n",
            "4               Soccer Field   0.1\n",
            "5             Ice Cream Shop   0.1\n",
            "6                Bus Station   0.1\n",
            "7              Metro Station   0.1\n",
            "8  Latin American Restaurant   0.0\n",
            "9         Light Rail Station   0.0\n",
            "\n",
            "\n",
            "----Guildwood, Morningside, West Hill----\n",
            "                       venue  freq\n",
            "0               Intersection  0.12\n",
            "1          Electronics Store  0.12\n",
            "2                       Bank  0.12\n",
            "3             Breakfast Spot  0.12\n",
            "4             Medical Center  0.12\n",
            "5                 Restaurant  0.12\n",
            "6        Rental Car Location  0.12\n",
            "7         Mexican Restaurant  0.12\n",
            "8          Korean Restaurant  0.00\n",
            "9  Latin American Restaurant  0.00\n",
            "\n",
            "\n",
            "----Kennedy Park, Ionview, East Birchmount Park----\n",
            "                       venue  freq\n",
            "0           Department Store  0.25\n",
            "1                 Hobby Shop  0.25\n",
            "2                Bus Station  0.25\n",
            "3                Coffee Shop  0.25\n",
            "4                  Pet Store  0.00\n",
            "5  Latin American Restaurant  0.00\n",
            "6         Light Rail Station  0.00\n",
            "7                     Lounge  0.00\n",
            "8             Medical Center  0.00\n",
            "9              Metro Station  0.00\n",
            "\n",
            "\n",
            "----Malvern, Rouge----\n",
            "                       venue  freq\n",
            "0       Fast Food Restaurant   1.0\n",
            "1        American Restaurant   0.0\n",
            "2               Intersection   0.0\n",
            "3          Korean Restaurant   0.0\n",
            "4  Latin American Restaurant   0.0\n",
            "5         Light Rail Station   0.0\n",
            "6                     Lounge   0.0\n",
            "7             Medical Center   0.0\n",
            "8              Metro Station   0.0\n",
            "9         Mexican Restaurant   0.0\n",
            "\n",
            "\n",
            "----Milliken, Agincourt North, Steeles East, L'Amoreaux East----\n",
            "                       venue  freq\n",
            "0                       Park   0.5\n",
            "1                 Playground   0.5\n",
            "2               Noodle House   0.0\n",
            "3         Italian Restaurant   0.0\n",
            "4          Korean Restaurant   0.0\n",
            "5  Latin American Restaurant   0.0\n",
            "6         Light Rail Station   0.0\n",
            "7                     Lounge   0.0\n",
            "8             Medical Center   0.0\n",
            "9              Metro Station   0.0\n",
            "\n",
            "\n",
            "----Rouge Hill, Port Union, Highland Creek----\n",
            "                       venue  freq\n",
            "0             History Museum   0.5\n",
            "1                        Bar   0.5\n",
            "2        American Restaurant   0.0\n",
            "3                       Park   0.0\n",
            "4          Korean Restaurant   0.0\n",
            "5  Latin American Restaurant   0.0\n",
            "6         Light Rail Station   0.0\n",
            "7                     Lounge   0.0\n",
            "8             Medical Center   0.0\n",
            "9              Metro Station   0.0\n",
            "\n",
            "\n",
            "----Scarborough Village----\n",
            "                       venue  freq\n",
            "0                 Playground   1.0\n",
            "1        American Restaurant   0.0\n",
            "2               Noodle House   0.0\n",
            "3         Italian Restaurant   0.0\n",
            "4          Korean Restaurant   0.0\n",
            "5  Latin American Restaurant   0.0\n",
            "6         Light Rail Station   0.0\n",
            "7                     Lounge   0.0\n",
            "8             Medical Center   0.0\n",
            "9              Metro Station   0.0\n",
            "\n",
            "\n",
            "----Steeles West, L'Amoreaux West----\n",
            "                  venue  freq\n",
            "0    Chinese Restaurant  0.13\n",
            "1         Grocery Store  0.13\n",
            "2  Fast Food Restaurant  0.13\n",
            "3     Indian Restaurant  0.07\n",
            "4              Pharmacy  0.07\n",
            "5     Electronics Store  0.07\n",
            "6           Pizza Place  0.07\n",
            "7           Coffee Shop  0.07\n",
            "8        Discount Store  0.07\n",
            "9        Sandwich Place  0.07\n",
            "\n",
            "\n",
            "----Wexford, Maryvale----\n",
            "                       venue  freq\n",
            "0      Vietnamese Restaurant  0.14\n",
            "1                Auto Garage  0.14\n",
            "2                     Bakery  0.14\n",
            "3             Breakfast Spot  0.14\n",
            "4              Shopping Mall  0.14\n",
            "5             Sandwich Place  0.14\n",
            "6  Middle Eastern Restaurant  0.14\n",
            "7                       Park  0.00\n",
            "8  Latin American Restaurant  0.00\n",
            "9         Light Rail Station  0.00\n",
            "\n",
            "\n",
            "----Woburn----\n",
            "                       venue  freq\n",
            "0                Coffee Shop  0.50\n",
            "1          Korean Restaurant  0.25\n",
            "2                   Pharmacy  0.25\n",
            "3        American Restaurant  0.00\n",
            "4                       Park  0.00\n",
            "5  Latin American Restaurant  0.00\n",
            "6         Light Rail Station  0.00\n",
            "7                     Lounge  0.00\n",
            "8             Medical Center  0.00\n",
            "9              Metro Station  0.00\n",
            "\n",
            "\n"
          ],
          "name": "stdout"
        }
      ]
    },
    {
      "cell_type": "markdown",
      "metadata": {
        "id": "tb3oQ77c4xq5"
      },
      "source": [
        "Let's put that into a *pandas* dataframe"
      ]
    },
    {
      "cell_type": "markdown",
      "metadata": {
        "id": "H3u9Ry1W4xvQ"
      },
      "source": [
        "> First, let's write a function to sort the venues in descending order."
      ]
    },
    {
      "cell_type": "code",
      "metadata": {
        "id": "EoXo8UplvKkl"
      },
      "source": [
        "def return_most_common_venues(row, num_top_venues):\n",
        "    row_categories = row.iloc[1:]\n",
        "    row_categories_sorted = row_categories.sort_values(ascending=False)\n",
        "    \n",
        "    return row_categories_sorted.index.values[0:num_top_venues]"
      ],
      "execution_count": null,
      "outputs": []
    },
    {
      "cell_type": "code",
      "metadata": {
        "id": "YtmZPAaIvSwJ",
        "colab": {
          "base_uri": "https://localhost:8080/",
          "height": 375
        },
        "outputId": "04e71309-1128-46e8-cb11-82bcde7c92a1"
      },
      "source": [
        "num_top_venues = 10\n",
        "\n",
        "indicators = ['st', 'nd', 'rd']\n",
        "\n",
        "# create columns according to number of top venues\n",
        "columns = ['Neighborhood']\n",
        "for ind in np.arange(num_top_venues):\n",
        "    try:\n",
        "        columns.append('{}{} Most Common Venue'.format(ind+1, indicators[ind]))\n",
        "    except:\n",
        "        columns.append('{}th Most Common Venue'.format(ind+1))\n",
        "\n",
        "# create a new dataframe\n",
        "neighborhoods_venues_sorted = pd.DataFrame(columns=columns)\n",
        "neighborhoods_venues_sorted['Neighborhood'] = scarborough_grouped['Neighborhood']\n",
        "\n",
        "for ind in np.arange(scarborough_grouped.shape[0]):\n",
        "    neighborhoods_venues_sorted.iloc[ind, 1:] = return_most_common_venues(scarborough_grouped.iloc[ind, :], num_top_venues)\n",
        "\n",
        "neighborhoods_venues_sorted.head()"
      ],
      "execution_count": null,
      "outputs": [
        {
          "output_type": "execute_result",
          "data": {
            "text/html": [
              "<div>\n",
              "<style scoped>\n",
              "    .dataframe tbody tr th:only-of-type {\n",
              "        vertical-align: middle;\n",
              "    }\n",
              "\n",
              "    .dataframe tbody tr th {\n",
              "        vertical-align: top;\n",
              "    }\n",
              "\n",
              "    .dataframe thead th {\n",
              "        text-align: right;\n",
              "    }\n",
              "</style>\n",
              "<table border=\"1\" class=\"dataframe\">\n",
              "  <thead>\n",
              "    <tr style=\"text-align: right;\">\n",
              "      <th></th>\n",
              "      <th>Neighborhood</th>\n",
              "      <th>1st Most Common Venue</th>\n",
              "      <th>2nd Most Common Venue</th>\n",
              "      <th>3rd Most Common Venue</th>\n",
              "      <th>4th Most Common Venue</th>\n",
              "      <th>5th Most Common Venue</th>\n",
              "      <th>6th Most Common Venue</th>\n",
              "      <th>7th Most Common Venue</th>\n",
              "      <th>8th Most Common Venue</th>\n",
              "      <th>9th Most Common Venue</th>\n",
              "      <th>10th Most Common Venue</th>\n",
              "    </tr>\n",
              "  </thead>\n",
              "  <tbody>\n",
              "    <tr>\n",
              "      <th>0</th>\n",
              "      <td>Agincourt</td>\n",
              "      <td>Skating Rink</td>\n",
              "      <td>Latin American Restaurant</td>\n",
              "      <td>Breakfast Spot</td>\n",
              "      <td>Lounge</td>\n",
              "      <td>Vietnamese Restaurant</td>\n",
              "      <td>College Stadium</td>\n",
              "      <td>Grocery Store</td>\n",
              "      <td>General Entertainment</td>\n",
              "      <td>Gas Station</td>\n",
              "      <td>Fried Chicken Joint</td>\n",
              "    </tr>\n",
              "    <tr>\n",
              "      <th>1</th>\n",
              "      <td>Birch Cliff, Cliffside West</td>\n",
              "      <td>Skating Rink</td>\n",
              "      <td>General Entertainment</td>\n",
              "      <td>Café</td>\n",
              "      <td>College Stadium</td>\n",
              "      <td>Vietnamese Restaurant</td>\n",
              "      <td>Coffee Shop</td>\n",
              "      <td>Hakka Restaurant</td>\n",
              "      <td>Grocery Store</td>\n",
              "      <td>Gas Station</td>\n",
              "      <td>Fried Chicken Joint</td>\n",
              "    </tr>\n",
              "    <tr>\n",
              "      <th>2</th>\n",
              "      <td>Cedarbrae</td>\n",
              "      <td>Athletics &amp; Sports</td>\n",
              "      <td>Bakery</td>\n",
              "      <td>Bank</td>\n",
              "      <td>Hakka Restaurant</td>\n",
              "      <td>Gas Station</td>\n",
              "      <td>Fried Chicken Joint</td>\n",
              "      <td>Caribbean Restaurant</td>\n",
              "      <td>Thai Restaurant</td>\n",
              "      <td>Vietnamese Restaurant</td>\n",
              "      <td>Discount Store</td>\n",
              "    </tr>\n",
              "    <tr>\n",
              "      <th>3</th>\n",
              "      <td>Clarks Corners, Tam O'Shanter, Sullivan</td>\n",
              "      <td>Fast Food Restaurant</td>\n",
              "      <td>Pizza Place</td>\n",
              "      <td>Pharmacy</td>\n",
              "      <td>Thai Restaurant</td>\n",
              "      <td>Gas Station</td>\n",
              "      <td>Bank</td>\n",
              "      <td>Italian Restaurant</td>\n",
              "      <td>Fried Chicken Joint</td>\n",
              "      <td>Noodle House</td>\n",
              "      <td>Chinese Restaurant</td>\n",
              "    </tr>\n",
              "    <tr>\n",
              "      <th>4</th>\n",
              "      <td>Cliffside, Cliffcrest, Scarborough Village West</td>\n",
              "      <td>American Restaurant</td>\n",
              "      <td>Motel</td>\n",
              "      <td>Intersection</td>\n",
              "      <td>Hakka Restaurant</td>\n",
              "      <td>Grocery Store</td>\n",
              "      <td>General Entertainment</td>\n",
              "      <td>Gas Station</td>\n",
              "      <td>Fried Chicken Joint</td>\n",
              "      <td>Fast Food Restaurant</td>\n",
              "      <td>Electronics Store</td>\n",
              "    </tr>\n",
              "  </tbody>\n",
              "</table>\n",
              "</div>"
            ],
            "text/plain": [
              "                                      Neighborhood 1st Most Common Venue  \\\n",
              "0                                        Agincourt          Skating Rink   \n",
              "1                      Birch Cliff, Cliffside West          Skating Rink   \n",
              "2                                        Cedarbrae    Athletics & Sports   \n",
              "3          Clarks Corners, Tam O'Shanter, Sullivan  Fast Food Restaurant   \n",
              "4  Cliffside, Cliffcrest, Scarborough Village West   American Restaurant   \n",
              "\n",
              "       2nd Most Common Venue 3rd Most Common Venue 4th Most Common Venue  \\\n",
              "0  Latin American Restaurant        Breakfast Spot                Lounge   \n",
              "1      General Entertainment                  Café       College Stadium   \n",
              "2                     Bakery                  Bank      Hakka Restaurant   \n",
              "3                Pizza Place              Pharmacy       Thai Restaurant   \n",
              "4                      Motel          Intersection      Hakka Restaurant   \n",
              "\n",
              "   5th Most Common Venue  6th Most Common Venue 7th Most Common Venue  \\\n",
              "0  Vietnamese Restaurant        College Stadium         Grocery Store   \n",
              "1  Vietnamese Restaurant            Coffee Shop      Hakka Restaurant   \n",
              "2            Gas Station    Fried Chicken Joint  Caribbean Restaurant   \n",
              "3            Gas Station                   Bank    Italian Restaurant   \n",
              "4          Grocery Store  General Entertainment           Gas Station   \n",
              "\n",
              "   8th Most Common Venue  9th Most Common Venue 10th Most Common Venue  \n",
              "0  General Entertainment            Gas Station    Fried Chicken Joint  \n",
              "1          Grocery Store            Gas Station    Fried Chicken Joint  \n",
              "2        Thai Restaurant  Vietnamese Restaurant         Discount Store  \n",
              "3    Fried Chicken Joint           Noodle House     Chinese Restaurant  \n",
              "4    Fried Chicken Joint   Fast Food Restaurant      Electronics Store  "
            ]
          },
          "metadata": {
            "tags": []
          },
          "execution_count": 65
        }
      ]
    },
    {
      "cell_type": "markdown",
      "metadata": {
        "id": "8hFYDCQywNtE"
      },
      "source": [
        "## 4. Cluster Neighborhoods"
      ]
    },
    {
      "cell_type": "markdown",
      "metadata": {
        "id": "sG7RWKAuwRwK"
      },
      "source": [
        "> Run *k*-means to cluster the neighborhood into 5 clusters."
      ]
    },
    {
      "cell_type": "code",
      "metadata": {
        "id": "LAhhLQDYwOTJ",
        "colab": {
          "base_uri": "https://localhost:8080/",
          "height": 35
        },
        "outputId": "a7762256-8b1d-4899-b50e-c76d0dfe1c09"
      },
      "source": [
        "# set number of clusters\n",
        "kclusters = 5\n",
        "\n",
        "scarborough_grouped_clustering = scarborough_grouped.drop('Neighborhood', 1)\n",
        "\n",
        "# run k-means clustering\n",
        "kmeans = KMeans(n_clusters=kclusters, random_state=0).fit(scarborough_grouped_clustering)\n",
        "\n",
        "# check cluster labels generated for each row in the dataframe\n",
        "kmeans.labels_[0:10] "
      ],
      "execution_count": null,
      "outputs": [
        {
          "output_type": "execute_result",
          "data": {
            "text/plain": [
              "array([1, 1, 1, 1, 1, 1, 1, 1, 1, 3], dtype=int32)"
            ]
          },
          "metadata": {
            "tags": []
          },
          "execution_count": 66
        }
      ]
    },
    {
      "cell_type": "markdown",
      "metadata": {
        "id": "L2r9zHGu4dhD"
      },
      "source": [
        "> Let's create a new dataframe that includes the cluster as well as the top 10 venues for each neighborhood."
      ]
    },
    {
      "cell_type": "code",
      "metadata": {
        "id": "8wMJcOlPwdqv",
        "colab": {
          "base_uri": "https://localhost:8080/",
          "height": 465
        },
        "outputId": "958b2676-096b-4cfa-f5ed-dfed12ed3456"
      },
      "source": [
        "# add clustering labels\n",
        "neighborhoods_venues_sorted.insert(0, 'Cluster Labels', kmeans.labels_)\n",
        "\n",
        "scarborough_merged = scarborough_data\n",
        "\n",
        "# merge toronto_grouped with toronto_data to add latitude/longitude for each neighborhood\n",
        "scarborough_merged = scarborough_merged.join(neighborhoods_venues_sorted.set_index('Neighborhood'), on='Neighborhood')\n",
        "\n",
        "scarborough_merged.head() # check the last columns!"
      ],
      "execution_count": null,
      "outputs": [
        {
          "output_type": "execute_result",
          "data": {
            "text/html": [
              "<div>\n",
              "<style scoped>\n",
              "    .dataframe tbody tr th:only-of-type {\n",
              "        vertical-align: middle;\n",
              "    }\n",
              "\n",
              "    .dataframe tbody tr th {\n",
              "        vertical-align: top;\n",
              "    }\n",
              "\n",
              "    .dataframe thead th {\n",
              "        text-align: right;\n",
              "    }\n",
              "</style>\n",
              "<table border=\"1\" class=\"dataframe\">\n",
              "  <thead>\n",
              "    <tr style=\"text-align: right;\">\n",
              "      <th></th>\n",
              "      <th>Postal Code</th>\n",
              "      <th>Borough</th>\n",
              "      <th>Neighborhood</th>\n",
              "      <th>Latitude</th>\n",
              "      <th>Longitude</th>\n",
              "      <th>Cluster Labels</th>\n",
              "      <th>1st Most Common Venue</th>\n",
              "      <th>2nd Most Common Venue</th>\n",
              "      <th>3rd Most Common Venue</th>\n",
              "      <th>4th Most Common Venue</th>\n",
              "      <th>5th Most Common Venue</th>\n",
              "      <th>6th Most Common Venue</th>\n",
              "      <th>7th Most Common Venue</th>\n",
              "      <th>8th Most Common Venue</th>\n",
              "      <th>9th Most Common Venue</th>\n",
              "      <th>10th Most Common Venue</th>\n",
              "    </tr>\n",
              "  </thead>\n",
              "  <tbody>\n",
              "    <tr>\n",
              "      <th>0</th>\n",
              "      <td>M1B</td>\n",
              "      <td>Scarborough</td>\n",
              "      <td>Malvern, Rouge</td>\n",
              "      <td>43.806686</td>\n",
              "      <td>-79.194353</td>\n",
              "      <td>3.0</td>\n",
              "      <td>Fast Food Restaurant</td>\n",
              "      <td>Vietnamese Restaurant</td>\n",
              "      <td>Thai Restaurant</td>\n",
              "      <td>History Museum</td>\n",
              "      <td>Hakka Restaurant</td>\n",
              "      <td>Grocery Store</td>\n",
              "      <td>General Entertainment</td>\n",
              "      <td>Gas Station</td>\n",
              "      <td>Fried Chicken Joint</td>\n",
              "      <td>Electronics Store</td>\n",
              "    </tr>\n",
              "    <tr>\n",
              "      <th>1</th>\n",
              "      <td>M1C</td>\n",
              "      <td>Scarborough</td>\n",
              "      <td>Rouge Hill, Port Union, Highland Creek</td>\n",
              "      <td>43.784535</td>\n",
              "      <td>-79.160497</td>\n",
              "      <td>0.0</td>\n",
              "      <td>History Museum</td>\n",
              "      <td>Bar</td>\n",
              "      <td>Vietnamese Restaurant</td>\n",
              "      <td>College Stadium</td>\n",
              "      <td>Hakka Restaurant</td>\n",
              "      <td>Grocery Store</td>\n",
              "      <td>General Entertainment</td>\n",
              "      <td>Gas Station</td>\n",
              "      <td>Fried Chicken Joint</td>\n",
              "      <td>Fast Food Restaurant</td>\n",
              "    </tr>\n",
              "    <tr>\n",
              "      <th>2</th>\n",
              "      <td>M1E</td>\n",
              "      <td>Scarborough</td>\n",
              "      <td>Guildwood, Morningside, West Hill</td>\n",
              "      <td>43.763573</td>\n",
              "      <td>-79.188711</td>\n",
              "      <td>1.0</td>\n",
              "      <td>Mexican Restaurant</td>\n",
              "      <td>Intersection</td>\n",
              "      <td>Bank</td>\n",
              "      <td>Restaurant</td>\n",
              "      <td>Rental Car Location</td>\n",
              "      <td>Breakfast Spot</td>\n",
              "      <td>Electronics Store</td>\n",
              "      <td>Medical Center</td>\n",
              "      <td>Vietnamese Restaurant</td>\n",
              "      <td>General Entertainment</td>\n",
              "    </tr>\n",
              "    <tr>\n",
              "      <th>3</th>\n",
              "      <td>M1G</td>\n",
              "      <td>Scarborough</td>\n",
              "      <td>Woburn</td>\n",
              "      <td>43.770992</td>\n",
              "      <td>-79.216917</td>\n",
              "      <td>1.0</td>\n",
              "      <td>Coffee Shop</td>\n",
              "      <td>Korean Restaurant</td>\n",
              "      <td>Pharmacy</td>\n",
              "      <td>Vietnamese Restaurant</td>\n",
              "      <td>Hakka Restaurant</td>\n",
              "      <td>Grocery Store</td>\n",
              "      <td>General Entertainment</td>\n",
              "      <td>Gas Station</td>\n",
              "      <td>Fried Chicken Joint</td>\n",
              "      <td>Fast Food Restaurant</td>\n",
              "    </tr>\n",
              "    <tr>\n",
              "      <th>4</th>\n",
              "      <td>M1H</td>\n",
              "      <td>Scarborough</td>\n",
              "      <td>Cedarbrae</td>\n",
              "      <td>43.773136</td>\n",
              "      <td>-79.239476</td>\n",
              "      <td>1.0</td>\n",
              "      <td>Athletics &amp; Sports</td>\n",
              "      <td>Bakery</td>\n",
              "      <td>Bank</td>\n",
              "      <td>Hakka Restaurant</td>\n",
              "      <td>Gas Station</td>\n",
              "      <td>Fried Chicken Joint</td>\n",
              "      <td>Caribbean Restaurant</td>\n",
              "      <td>Thai Restaurant</td>\n",
              "      <td>Vietnamese Restaurant</td>\n",
              "      <td>Discount Store</td>\n",
              "    </tr>\n",
              "  </tbody>\n",
              "</table>\n",
              "</div>"
            ],
            "text/plain": [
              "  Postal Code      Borough                            Neighborhood   Latitude  \\\n",
              "0         M1B  Scarborough                          Malvern, Rouge  43.806686   \n",
              "1         M1C  Scarborough  Rouge Hill, Port Union, Highland Creek  43.784535   \n",
              "2         M1E  Scarborough       Guildwood, Morningside, West Hill  43.763573   \n",
              "3         M1G  Scarborough                                  Woburn  43.770992   \n",
              "4         M1H  Scarborough                               Cedarbrae  43.773136   \n",
              "\n",
              "   Longitude  Cluster Labels 1st Most Common Venue  2nd Most Common Venue  \\\n",
              "0 -79.194353             3.0  Fast Food Restaurant  Vietnamese Restaurant   \n",
              "1 -79.160497             0.0        History Museum                    Bar   \n",
              "2 -79.188711             1.0    Mexican Restaurant           Intersection   \n",
              "3 -79.216917             1.0           Coffee Shop      Korean Restaurant   \n",
              "4 -79.239476             1.0    Athletics & Sports                 Bakery   \n",
              "\n",
              "   3rd Most Common Venue  4th Most Common Venue 5th Most Common Venue  \\\n",
              "0        Thai Restaurant         History Museum      Hakka Restaurant   \n",
              "1  Vietnamese Restaurant        College Stadium      Hakka Restaurant   \n",
              "2                   Bank             Restaurant   Rental Car Location   \n",
              "3               Pharmacy  Vietnamese Restaurant      Hakka Restaurant   \n",
              "4                   Bank       Hakka Restaurant           Gas Station   \n",
              "\n",
              "  6th Most Common Venue  7th Most Common Venue 8th Most Common Venue  \\\n",
              "0         Grocery Store  General Entertainment           Gas Station   \n",
              "1         Grocery Store  General Entertainment           Gas Station   \n",
              "2        Breakfast Spot      Electronics Store        Medical Center   \n",
              "3         Grocery Store  General Entertainment           Gas Station   \n",
              "4   Fried Chicken Joint   Caribbean Restaurant       Thai Restaurant   \n",
              "\n",
              "   9th Most Common Venue 10th Most Common Venue  \n",
              "0    Fried Chicken Joint      Electronics Store  \n",
              "1    Fried Chicken Joint   Fast Food Restaurant  \n",
              "2  Vietnamese Restaurant  General Entertainment  \n",
              "3    Fried Chicken Joint   Fast Food Restaurant  \n",
              "4  Vietnamese Restaurant         Discount Store  "
            ]
          },
          "metadata": {
            "tags": []
          },
          "execution_count": 67
        }
      ]
    },
    {
      "cell_type": "code",
      "metadata": {
        "id": "Bz4YJ2H6zYDX"
      },
      "source": [
        "scarborough_merged = scarborough_merged.drop(16)\n",
        "#scarborough_merged"
      ],
      "execution_count": null,
      "outputs": []
    },
    {
      "cell_type": "code",
      "metadata": {
        "id": "NV2oYXRH011F",
        "colab": {
          "base_uri": "https://localhost:8080/",
          "height": 465
        },
        "outputId": "ca7170ac-169b-44f4-89f5-7192db18fb7d"
      },
      "source": [
        "scarborough_merged['Cluster Labels'] = scarborough_merged['Cluster Labels'].astype(int)\n",
        "scarborough_merged.head()"
      ],
      "execution_count": null,
      "outputs": [
        {
          "output_type": "execute_result",
          "data": {
            "text/html": [
              "<div>\n",
              "<style scoped>\n",
              "    .dataframe tbody tr th:only-of-type {\n",
              "        vertical-align: middle;\n",
              "    }\n",
              "\n",
              "    .dataframe tbody tr th {\n",
              "        vertical-align: top;\n",
              "    }\n",
              "\n",
              "    .dataframe thead th {\n",
              "        text-align: right;\n",
              "    }\n",
              "</style>\n",
              "<table border=\"1\" class=\"dataframe\">\n",
              "  <thead>\n",
              "    <tr style=\"text-align: right;\">\n",
              "      <th></th>\n",
              "      <th>Postal Code</th>\n",
              "      <th>Borough</th>\n",
              "      <th>Neighborhood</th>\n",
              "      <th>Latitude</th>\n",
              "      <th>Longitude</th>\n",
              "      <th>Cluster Labels</th>\n",
              "      <th>1st Most Common Venue</th>\n",
              "      <th>2nd Most Common Venue</th>\n",
              "      <th>3rd Most Common Venue</th>\n",
              "      <th>4th Most Common Venue</th>\n",
              "      <th>5th Most Common Venue</th>\n",
              "      <th>6th Most Common Venue</th>\n",
              "      <th>7th Most Common Venue</th>\n",
              "      <th>8th Most Common Venue</th>\n",
              "      <th>9th Most Common Venue</th>\n",
              "      <th>10th Most Common Venue</th>\n",
              "    </tr>\n",
              "  </thead>\n",
              "  <tbody>\n",
              "    <tr>\n",
              "      <th>0</th>\n",
              "      <td>M1B</td>\n",
              "      <td>Scarborough</td>\n",
              "      <td>Malvern, Rouge</td>\n",
              "      <td>43.806686</td>\n",
              "      <td>-79.194353</td>\n",
              "      <td>3</td>\n",
              "      <td>Fast Food Restaurant</td>\n",
              "      <td>Vietnamese Restaurant</td>\n",
              "      <td>Thai Restaurant</td>\n",
              "      <td>History Museum</td>\n",
              "      <td>Hakka Restaurant</td>\n",
              "      <td>Grocery Store</td>\n",
              "      <td>General Entertainment</td>\n",
              "      <td>Gas Station</td>\n",
              "      <td>Fried Chicken Joint</td>\n",
              "      <td>Electronics Store</td>\n",
              "    </tr>\n",
              "    <tr>\n",
              "      <th>1</th>\n",
              "      <td>M1C</td>\n",
              "      <td>Scarborough</td>\n",
              "      <td>Rouge Hill, Port Union, Highland Creek</td>\n",
              "      <td>43.784535</td>\n",
              "      <td>-79.160497</td>\n",
              "      <td>0</td>\n",
              "      <td>History Museum</td>\n",
              "      <td>Bar</td>\n",
              "      <td>Vietnamese Restaurant</td>\n",
              "      <td>College Stadium</td>\n",
              "      <td>Hakka Restaurant</td>\n",
              "      <td>Grocery Store</td>\n",
              "      <td>General Entertainment</td>\n",
              "      <td>Gas Station</td>\n",
              "      <td>Fried Chicken Joint</td>\n",
              "      <td>Fast Food Restaurant</td>\n",
              "    </tr>\n",
              "    <tr>\n",
              "      <th>2</th>\n",
              "      <td>M1E</td>\n",
              "      <td>Scarborough</td>\n",
              "      <td>Guildwood, Morningside, West Hill</td>\n",
              "      <td>43.763573</td>\n",
              "      <td>-79.188711</td>\n",
              "      <td>1</td>\n",
              "      <td>Mexican Restaurant</td>\n",
              "      <td>Intersection</td>\n",
              "      <td>Bank</td>\n",
              "      <td>Restaurant</td>\n",
              "      <td>Rental Car Location</td>\n",
              "      <td>Breakfast Spot</td>\n",
              "      <td>Electronics Store</td>\n",
              "      <td>Medical Center</td>\n",
              "      <td>Vietnamese Restaurant</td>\n",
              "      <td>General Entertainment</td>\n",
              "    </tr>\n",
              "    <tr>\n",
              "      <th>3</th>\n",
              "      <td>M1G</td>\n",
              "      <td>Scarborough</td>\n",
              "      <td>Woburn</td>\n",
              "      <td>43.770992</td>\n",
              "      <td>-79.216917</td>\n",
              "      <td>1</td>\n",
              "      <td>Coffee Shop</td>\n",
              "      <td>Korean Restaurant</td>\n",
              "      <td>Pharmacy</td>\n",
              "      <td>Vietnamese Restaurant</td>\n",
              "      <td>Hakka Restaurant</td>\n",
              "      <td>Grocery Store</td>\n",
              "      <td>General Entertainment</td>\n",
              "      <td>Gas Station</td>\n",
              "      <td>Fried Chicken Joint</td>\n",
              "      <td>Fast Food Restaurant</td>\n",
              "    </tr>\n",
              "    <tr>\n",
              "      <th>4</th>\n",
              "      <td>M1H</td>\n",
              "      <td>Scarborough</td>\n",
              "      <td>Cedarbrae</td>\n",
              "      <td>43.773136</td>\n",
              "      <td>-79.239476</td>\n",
              "      <td>1</td>\n",
              "      <td>Athletics &amp; Sports</td>\n",
              "      <td>Bakery</td>\n",
              "      <td>Bank</td>\n",
              "      <td>Hakka Restaurant</td>\n",
              "      <td>Gas Station</td>\n",
              "      <td>Fried Chicken Joint</td>\n",
              "      <td>Caribbean Restaurant</td>\n",
              "      <td>Thai Restaurant</td>\n",
              "      <td>Vietnamese Restaurant</td>\n",
              "      <td>Discount Store</td>\n",
              "    </tr>\n",
              "  </tbody>\n",
              "</table>\n",
              "</div>"
            ],
            "text/plain": [
              "  Postal Code      Borough                            Neighborhood   Latitude  \\\n",
              "0         M1B  Scarborough                          Malvern, Rouge  43.806686   \n",
              "1         M1C  Scarborough  Rouge Hill, Port Union, Highland Creek  43.784535   \n",
              "2         M1E  Scarborough       Guildwood, Morningside, West Hill  43.763573   \n",
              "3         M1G  Scarborough                                  Woburn  43.770992   \n",
              "4         M1H  Scarborough                               Cedarbrae  43.773136   \n",
              "\n",
              "   Longitude  Cluster Labels 1st Most Common Venue  2nd Most Common Venue  \\\n",
              "0 -79.194353               3  Fast Food Restaurant  Vietnamese Restaurant   \n",
              "1 -79.160497               0        History Museum                    Bar   \n",
              "2 -79.188711               1    Mexican Restaurant           Intersection   \n",
              "3 -79.216917               1           Coffee Shop      Korean Restaurant   \n",
              "4 -79.239476               1    Athletics & Sports                 Bakery   \n",
              "\n",
              "   3rd Most Common Venue  4th Most Common Venue 5th Most Common Venue  \\\n",
              "0        Thai Restaurant         History Museum      Hakka Restaurant   \n",
              "1  Vietnamese Restaurant        College Stadium      Hakka Restaurant   \n",
              "2                   Bank             Restaurant   Rental Car Location   \n",
              "3               Pharmacy  Vietnamese Restaurant      Hakka Restaurant   \n",
              "4                   Bank       Hakka Restaurant           Gas Station   \n",
              "\n",
              "  6th Most Common Venue  7th Most Common Venue 8th Most Common Venue  \\\n",
              "0         Grocery Store  General Entertainment           Gas Station   \n",
              "1         Grocery Store  General Entertainment           Gas Station   \n",
              "2        Breakfast Spot      Electronics Store        Medical Center   \n",
              "3         Grocery Store  General Entertainment           Gas Station   \n",
              "4   Fried Chicken Joint   Caribbean Restaurant       Thai Restaurant   \n",
              "\n",
              "   9th Most Common Venue 10th Most Common Venue  \n",
              "0    Fried Chicken Joint      Electronics Store  \n",
              "1    Fried Chicken Joint   Fast Food Restaurant  \n",
              "2  Vietnamese Restaurant  General Entertainment  \n",
              "3    Fried Chicken Joint   Fast Food Restaurant  \n",
              "4  Vietnamese Restaurant         Discount Store  "
            ]
          },
          "metadata": {
            "tags": []
          },
          "execution_count": 69
        }
      ]
    },
    {
      "cell_type": "markdown",
      "metadata": {
        "id": "r21RV59f4YbL"
      },
      "source": [
        "> Finally, let's visualize the resulting clusters"
      ]
    },
    {
      "cell_type": "code",
      "metadata": {
        "id": "2kEO1c8Gw0Yd",
        "colab": {
          "base_uri": "https://localhost:8080/",
          "height": 712
        },
        "outputId": "d5f657fd-5adb-4fc6-b048-afc44c4918e9"
      },
      "source": [
        "# create map\n",
        "map_clusters = folium.Map(location=[latitude, longitude], zoom_start=11)\n",
        "\n",
        "# set color scheme for the clusters\n",
        "x = np.arange(kclusters)\n",
        "ys = [i + x + (i*x)**2 for i in range(kclusters)]\n",
        "colors_array = cm.rainbow(np.linspace(0, 1, len(ys)))\n",
        "rainbow = [colors.rgb2hex(i) for i in colors_array]\n",
        "\n",
        "# add markers to the map\n",
        "markers_colors = []\n",
        "for lat, lon, poi, cluster in zip(scarborough_merged['Latitude'], scarborough_merged['Longitude'], scarborough_merged['Neighborhood'], scarborough_merged['Cluster Labels']):\n",
        "    label = folium.Popup(str(poi) + ' Cluster ' + str(cluster), parse_html=True)\n",
        "    folium.CircleMarker(\n",
        "        [lat, lon],\n",
        "        radius=5,\n",
        "        popup=label,\n",
        "        color=rainbow[cluster-1],\n",
        "        fill=True,\n",
        "        fill_color=rainbow[cluster-1],\n",
        "        fill_opacity=0.7).add_to(map_clusters)\n",
        "       \n",
        "map_clusters"
      ],
      "execution_count": null,
      "outputs": [
        {
          "output_type": "execute_result",
          "data": {
            "text/html": [
              "<div style=\"width:100%;\"><div style=\"position:relative;width:100%;height:0;padding-bottom:60%;\"><span style=\"color:#565656\">Make this Notebook Trusted to load map: File -> Trust Notebook</span><iframe src=\"about:blank\" style=\"position:absolute;width:100%;height:100%;left:0;top:0;border:none !important;\" data-html=PCFET0NUWVBFIGh0bWw+CjxoZWFkPiAgICAKICAgIDxtZXRhIGh0dHAtZXF1aXY9ImNvbnRlbnQtdHlwZSIgY29udGVudD0idGV4dC9odG1sOyBjaGFyc2V0PVVURi04IiAvPgogICAgPHNjcmlwdD5MX1BSRUZFUl9DQU5WQVM9ZmFsc2U7IExfTk9fVE9VQ0g9ZmFsc2U7IExfRElTQUJMRV8zRD1mYWxzZTs8L3NjcmlwdD4KICAgIDxzY3JpcHQgc3JjPSJodHRwczovL2Nkbi5qc2RlbGl2ci5uZXQvbnBtL2xlYWZsZXRAMS40LjAvZGlzdC9sZWFmbGV0LmpzIj48L3NjcmlwdD4KICAgIDxzY3JpcHQgc3JjPSJodHRwczovL2NvZGUuanF1ZXJ5LmNvbS9qcXVlcnktMS4xMi40Lm1pbi5qcyI+PC9zY3JpcHQ+CiAgICA8c2NyaXB0IHNyYz0iaHR0cHM6Ly9tYXhjZG4uYm9vdHN0cmFwY2RuLmNvbS9ib290c3RyYXAvMy4yLjAvanMvYm9vdHN0cmFwLm1pbi5qcyI+PC9zY3JpcHQ+CiAgICA8c2NyaXB0IHNyYz0iaHR0cHM6Ly9jZG5qcy5jbG91ZGZsYXJlLmNvbS9hamF4L2xpYnMvTGVhZmxldC5hd2Vzb21lLW1hcmtlcnMvMi4wLjIvbGVhZmxldC5hd2Vzb21lLW1hcmtlcnMuanMiPjwvc2NyaXB0PgogICAgPGxpbmsgcmVsPSJzdHlsZXNoZWV0IiBocmVmPSJodHRwczovL2Nkbi5qc2RlbGl2ci5uZXQvbnBtL2xlYWZsZXRAMS40LjAvZGlzdC9sZWFmbGV0LmNzcyIvPgogICAgPGxpbmsgcmVsPSJzdHlsZXNoZWV0IiBocmVmPSJodHRwczovL21heGNkbi5ib290c3RyYXBjZG4uY29tL2Jvb3RzdHJhcC8zLjIuMC9jc3MvYm9vdHN0cmFwLm1pbi5jc3MiLz4KICAgIDxsaW5rIHJlbD0ic3R5bGVzaGVldCIgaHJlZj0iaHR0cHM6Ly9tYXhjZG4uYm9vdHN0cmFwY2RuLmNvbS9ib290c3RyYXAvMy4yLjAvY3NzL2Jvb3RzdHJhcC10aGVtZS5taW4uY3NzIi8+CiAgICA8bGluayByZWw9InN0eWxlc2hlZXQiIGhyZWY9Imh0dHBzOi8vbWF4Y2RuLmJvb3RzdHJhcGNkbi5jb20vZm9udC1hd2Vzb21lLzQuNi4zL2Nzcy9mb250LWF3ZXNvbWUubWluLmNzcyIvPgogICAgPGxpbmsgcmVsPSJzdHlsZXNoZWV0IiBocmVmPSJodHRwczovL2NkbmpzLmNsb3VkZmxhcmUuY29tL2FqYXgvbGlicy9MZWFmbGV0LmF3ZXNvbWUtbWFya2Vycy8yLjAuMi9sZWFmbGV0LmF3ZXNvbWUtbWFya2Vycy5jc3MiLz4KICAgIDxsaW5rIHJlbD0ic3R5bGVzaGVldCIgaHJlZj0iaHR0cHM6Ly9yYXdjZG4uZ2l0aGFjay5jb20vcHl0aG9uLXZpc3VhbGl6YXRpb24vZm9saXVtL21hc3Rlci9mb2xpdW0vdGVtcGxhdGVzL2xlYWZsZXQuYXdlc29tZS5yb3RhdGUuY3NzIi8+CiAgICA8c3R5bGU+aHRtbCwgYm9keSB7d2lkdGg6IDEwMCU7aGVpZ2h0OiAxMDAlO21hcmdpbjogMDtwYWRkaW5nOiAwO308L3N0eWxlPgogICAgPHN0eWxlPiNtYXAge3Bvc2l0aW9uOmFic29sdXRlO3RvcDowO2JvdHRvbTowO3JpZ2h0OjA7bGVmdDowO308L3N0eWxlPgogICAgCiAgICA8bWV0YSBuYW1lPSJ2aWV3cG9ydCIgY29udGVudD0id2lkdGg9ZGV2aWNlLXdpZHRoLAogICAgICAgIGluaXRpYWwtc2NhbGU9MS4wLCBtYXhpbXVtLXNjYWxlPTEuMCwgdXNlci1zY2FsYWJsZT1ubyIgLz4KICAgIDxzdHlsZT4jbWFwXzQzNTA1ZWNmODliYjRlNDViNzQ2OTUwMmJiN2RhMzA0IHsKICAgICAgICBwb3NpdGlvbjogcmVsYXRpdmU7CiAgICAgICAgd2lkdGg6IDEwMC4wJTsKICAgICAgICBoZWlnaHQ6IDEwMC4wJTsKICAgICAgICBsZWZ0OiAwLjAlOwogICAgICAgIHRvcDogMC4wJTsKICAgICAgICB9CiAgICA8L3N0eWxlPgo8L2hlYWQ+Cjxib2R5PiAgICAKICAgIAogICAgPGRpdiBjbGFzcz0iZm9saXVtLW1hcCIgaWQ9Im1hcF80MzUwNWVjZjg5YmI0ZTQ1Yjc0Njk1MDJiYjdkYTMwNCIgPjwvZGl2Pgo8L2JvZHk+CjxzY3JpcHQ+ICAgIAogICAgCiAgICAKICAgICAgICB2YXIgYm91bmRzID0gbnVsbDsKICAgIAoKICAgIHZhciBtYXBfNDM1MDVlY2Y4OWJiNGU0NWI3NDY5NTAyYmI3ZGEzMDQgPSBMLm1hcCgKICAgICAgICAnbWFwXzQzNTA1ZWNmODliYjRlNDViNzQ2OTUwMmJiN2RhMzA0JywgewogICAgICAgIGNlbnRlcjogWzQzLjc3MzA3NywgLTc5LjI1Nzc3NF0sCiAgICAgICAgem9vbTogMTEsCiAgICAgICAgbWF4Qm91bmRzOiBib3VuZHMsCiAgICAgICAgbGF5ZXJzOiBbXSwKICAgICAgICB3b3JsZENvcHlKdW1wOiBmYWxzZSwKICAgICAgICBjcnM6IEwuQ1JTLkVQU0czODU3LAogICAgICAgIHpvb21Db250cm9sOiB0cnVlLAogICAgICAgIH0pOwoKCiAgICAKICAgIHZhciB0aWxlX2xheWVyXzM3YjVhOWE1MjkwZjRkZjU4M2Q0ZDVlNGY1NTNjZWVjID0gTC50aWxlTGF5ZXIoCiAgICAgICAgJ2h0dHBzOi8ve3N9LnRpbGUub3BlbnN0cmVldG1hcC5vcmcve3p9L3t4fS97eX0ucG5nJywKICAgICAgICB7CiAgICAgICAgImF0dHJpYnV0aW9uIjogbnVsbCwKICAgICAgICAiZGV0ZWN0UmV0aW5hIjogZmFsc2UsCiAgICAgICAgIm1heE5hdGl2ZVpvb20iOiAxOCwKICAgICAgICAibWF4Wm9vbSI6IDE4LAogICAgICAgICJtaW5ab29tIjogMCwKICAgICAgICAibm9XcmFwIjogZmFsc2UsCiAgICAgICAgIm9wYWNpdHkiOiAxLAogICAgICAgICJzdWJkb21haW5zIjogImFiYyIsCiAgICAgICAgInRtcyI6IGZhbHNlCn0pLmFkZFRvKG1hcF80MzUwNWVjZjg5YmI0ZTQ1Yjc0Njk1MDJiYjdkYTMwNCk7CiAgICAKICAgICAgICAgICAgdmFyIGNpcmNsZV9tYXJrZXJfYzA4YWYwNTYzNjliNDJmNmEyMDc2OWMxNzk3ZTU0YWIgPSBMLmNpcmNsZU1hcmtlcigKICAgICAgICAgICAgICAgIFs0My44MDY2ODYyOTk5OTk5OTYsIC03OS4xOTQzNTM0MDAwMDAwMV0sCiAgICAgICAgICAgICAgICB7CiAgImJ1YmJsaW5nTW91c2VFdmVudHMiOiB0cnVlLAogICJjb2xvciI6ICIjODBmZmI0IiwKICAiZGFzaEFycmF5IjogbnVsbCwKICAiZGFzaE9mZnNldCI6IG51bGwsCiAgImZpbGwiOiB0cnVlLAogICJmaWxsQ29sb3IiOiAiIzgwZmZiNCIsCiAgImZpbGxPcGFjaXR5IjogMC43LAogICJmaWxsUnVsZSI6ICJldmVub2RkIiwKICAibGluZUNhcCI6ICJyb3VuZCIsCiAgImxpbmVKb2luIjogInJvdW5kIiwKICAib3BhY2l0eSI6IDEuMCwKICAicmFkaXVzIjogNSwKICAic3Ryb2tlIjogdHJ1ZSwKICAid2VpZ2h0IjogMwp9CiAgICAgICAgICAgICAgICApCiAgICAgICAgICAgICAgICAuYWRkVG8obWFwXzQzNTA1ZWNmODliYjRlNDViNzQ2OTUwMmJiN2RhMzA0KTsKICAgICAgICAgICAgCiAgICAKICAgICAgICAgICAgdmFyIHBvcHVwXzQ2OTRjYWJhNzc2YTRiYWFhN2JkMmIyYTgzZGRjZmM2ID0gTC5wb3B1cCh7bWF4V2lkdGg6ICcxMDAlJwogICAgICAgICAgICAKICAgICAgICAgICAgfSk7CgogICAgICAgICAgICAKICAgICAgICAgICAgICAgIHZhciBodG1sXzEyNjQ1OWFkMDc0YTQ1M2RiMzhhZjBjYTMzMTRjY2YzID0gJChgPGRpdiBpZD0iaHRtbF8xMjY0NTlhZDA3NGE0NTNkYjM4YWYwY2EzMzE0Y2NmMyIgc3R5bGU9IndpZHRoOiAxMDAuMCU7IGhlaWdodDogMTAwLjAlOyI+TWFsdmVybiwgUm91Z2UgQ2x1c3RlciAzPC9kaXY+YClbMF07CiAgICAgICAgICAgICAgICBwb3B1cF80Njk0Y2FiYTc3NmE0YmFhYTdiZDJiMmE4M2RkY2ZjNi5zZXRDb250ZW50KGh0bWxfMTI2NDU5YWQwNzRhNDUzZGIzOGFmMGNhMzMxNGNjZjMpOwogICAgICAgICAgICAKCiAgICAgICAgICAgIGNpcmNsZV9tYXJrZXJfYzA4YWYwNTYzNjliNDJmNmEyMDc2OWMxNzk3ZTU0YWIuYmluZFBvcHVwKHBvcHVwXzQ2OTRjYWJhNzc2YTRiYWFhN2JkMmIyYTgzZGRjZmM2KQogICAgICAgICAgICA7CgogICAgICAgICAgICAKICAgICAgICAKICAgIAogICAgICAgICAgICB2YXIgY2lyY2xlX21hcmtlcl8xZGI2NzVmZTAxMGU0NmUwODZkYWI4NWU3NTU0NGU1YyA9IEwuY2lyY2xlTWFya2VyKAogICAgICAgICAgICAgICAgWzQzLjc4NDUzNTEsIC03OS4xNjA0OTcwOTk5OTk5OV0sCiAgICAgICAgICAgICAgICB7CiAgImJ1YmJsaW5nTW91c2VFdmVudHMiOiB0cnVlLAogICJjb2xvciI6ICIjZmYwMDAwIiwKICAiZGFzaEFycmF5IjogbnVsbCwKICAiZGFzaE9mZnNldCI6IG51bGwsCiAgImZpbGwiOiB0cnVlLAogICJmaWxsQ29sb3IiOiAiI2ZmMDAwMCIsCiAgImZpbGxPcGFjaXR5IjogMC43LAogICJmaWxsUnVsZSI6ICJldmVub2RkIiwKICAibGluZUNhcCI6ICJyb3VuZCIsCiAgImxpbmVKb2luIjogInJvdW5kIiwKICAib3BhY2l0eSI6IDEuMCwKICAicmFkaXVzIjogNSwKICAic3Ryb2tlIjogdHJ1ZSwKICAid2VpZ2h0IjogMwp9CiAgICAgICAgICAgICAgICApCiAgICAgICAgICAgICAgICAuYWRkVG8obWFwXzQzNTA1ZWNmODliYjRlNDViNzQ2OTUwMmJiN2RhMzA0KTsKICAgICAgICAgICAgCiAgICAKICAgICAgICAgICAgdmFyIHBvcHVwXzZlY2E1ZTBjOWUxYTQxMGQ4NDVmNDA5M2QwNGY2ZjVjID0gTC5wb3B1cCh7bWF4V2lkdGg6ICcxMDAlJwogICAgICAgICAgICAKICAgICAgICAgICAgfSk7CgogICAgICAgICAgICAKICAgICAgICAgICAgICAgIHZhciBodG1sX2QwNmUzZjFhY2UwMTQ5YTg5MDEzMDBkYzAzNDkxMDBmID0gJChgPGRpdiBpZD0iaHRtbF9kMDZlM2YxYWNlMDE0OWE4OTAxMzAwZGMwMzQ5MTAwZiIgc3R5bGU9IndpZHRoOiAxMDAuMCU7IGhlaWdodDogMTAwLjAlOyI+Um91Z2UgSGlsbCwgUG9ydCBVbmlvbiwgSGlnaGxhbmQgQ3JlZWsgQ2x1c3RlciAwPC9kaXY+YClbMF07CiAgICAgICAgICAgICAgICBwb3B1cF82ZWNhNWUwYzllMWE0MTBkODQ1ZjQwOTNkMDRmNmY1Yy5zZXRDb250ZW50KGh0bWxfZDA2ZTNmMWFjZTAxNDlhODkwMTMwMGRjMDM0OTEwMGYpOwogICAgICAgICAgICAKCiAgICAgICAgICAgIGNpcmNsZV9tYXJrZXJfMWRiNjc1ZmUwMTBlNDZlMDg2ZGFiODVlNzU1NDRlNWMuYmluZFBvcHVwKHBvcHVwXzZlY2E1ZTBjOWUxYTQxMGQ4NDVmNDA5M2QwNGY2ZjVjKQogICAgICAgICAgICA7CgogICAgICAgICAgICAKICAgICAgICAKICAgIAogICAgICAgICAgICB2YXIgY2lyY2xlX21hcmtlcl8xMzZhMmY0NjEyMGM0MmUwYTFmODZjOThiMjM1NGJmZCA9IEwuY2lyY2xlTWFya2VyKAogICAgICAgICAgICAgICAgWzQzLjc2MzU3MjYsIC03OS4xODg3MTE1XSwKICAgICAgICAgICAgICAgIHsKICAiYnViYmxpbmdNb3VzZUV2ZW50cyI6IHRydWUsCiAgImNvbG9yIjogIiM4MDAwZmYiLAogICJkYXNoQXJyYXkiOiBudWxsLAogICJkYXNoT2Zmc2V0IjogbnVsbCwKICAiZmlsbCI6IHRydWUsCiAgImZpbGxDb2xvciI6ICIjODAwMGZmIiwKICAiZmlsbE9wYWNpdHkiOiAwLjcsCiAgImZpbGxSdWxlIjogImV2ZW5vZGQiLAogICJsaW5lQ2FwIjogInJvdW5kIiwKICAibGluZUpvaW4iOiAicm91bmQiLAogICJvcGFjaXR5IjogMS4wLAogICJyYWRpdXMiOiA1LAogICJzdHJva2UiOiB0cnVlLAogICJ3ZWlnaHQiOiAzCn0KICAgICAgICAgICAgICAgICkKICAgICAgICAgICAgICAgIC5hZGRUbyhtYXBfNDM1MDVlY2Y4OWJiNGU0NWI3NDY5NTAyYmI3ZGEzMDQpOwogICAgICAgICAgICAKICAgIAogICAgICAgICAgICB2YXIgcG9wdXBfYjA2OGY3NjM5MjVjNGE2Mjg1YzNlOTc1Y2I2YmUyN2MgPSBMLnBvcHVwKHttYXhXaWR0aDogJzEwMCUnCiAgICAgICAgICAgIAogICAgICAgICAgICB9KTsKCiAgICAgICAgICAgIAogICAgICAgICAgICAgICAgdmFyIGh0bWxfOGI4NzlkMWM3NTQzNDBlZWFhNjcyYzlmMzllOGVkMjEgPSAkKGA8ZGl2IGlkPSJodG1sXzhiODc5ZDFjNzU0MzQwZWVhYTY3MmM5ZjM5ZThlZDIxIiBzdHlsZT0id2lkdGg6IDEwMC4wJTsgaGVpZ2h0OiAxMDAuMCU7Ij5HdWlsZHdvb2QsIE1vcm5pbmdzaWRlLCBXZXN0IEhpbGwgQ2x1c3RlciAxPC9kaXY+YClbMF07CiAgICAgICAgICAgICAgICBwb3B1cF9iMDY4Zjc2MzkyNWM0YTYyODVjM2U5NzVjYjZiZTI3Yy5zZXRDb250ZW50KGh0bWxfOGI4NzlkMWM3NTQzNDBlZWFhNjcyYzlmMzllOGVkMjEpOwogICAgICAgICAgICAKCiAgICAgICAgICAgIGNpcmNsZV9tYXJrZXJfMTM2YTJmNDYxMjBjNDJlMGExZjg2Yzk4YjIzNTRiZmQuYmluZFBvcHVwKHBvcHVwX2IwNjhmNzYzOTI1YzRhNjI4NWMzZTk3NWNiNmJlMjdjKQogICAgICAgICAgICA7CgogICAgICAgICAgICAKICAgICAgICAKICAgIAogICAgICAgICAgICB2YXIgY2lyY2xlX21hcmtlcl9lNTRlYzJhZjEzYmQ0MDE3YTQ5ZjBkMzliYmMxYmE5MyA9IEwuY2lyY2xlTWFya2VyKAogICAgICAgICAgICAgICAgWzQzLjc3MDk5MjEsIC03OS4yMTY5MTc0MDAwMDAwMV0sCiAgICAgICAgICAgICAgICB7CiAgImJ1YmJsaW5nTW91c2VFdmVudHMiOiB0cnVlLAogICJjb2xvciI6ICIjODAwMGZmIiwKICAiZGFzaEFycmF5IjogbnVsbCwKICAiZGFzaE9mZnNldCI6IG51bGwsCiAgImZpbGwiOiB0cnVlLAogICJmaWxsQ29sb3IiOiAiIzgwMDBmZiIsCiAgImZpbGxPcGFjaXR5IjogMC43LAogICJmaWxsUnVsZSI6ICJldmVub2RkIiwKICAibGluZUNhcCI6ICJyb3VuZCIsCiAgImxpbmVKb2luIjogInJvdW5kIiwKICAib3BhY2l0eSI6IDEuMCwKICAicmFkaXVzIjogNSwKICAic3Ryb2tlIjogdHJ1ZSwKICAid2VpZ2h0IjogMwp9CiAgICAgICAgICAgICAgICApCiAgICAgICAgICAgICAgICAuYWRkVG8obWFwXzQzNTA1ZWNmODliYjRlNDViNzQ2OTUwMmJiN2RhMzA0KTsKICAgICAgICAgICAgCiAgICAKICAgICAgICAgICAgdmFyIHBvcHVwX2YyYzU2ZjY0ZjkxYzRhNTE5YjdjYzlhYjA2MGM0YTA3ID0gTC5wb3B1cCh7bWF4V2lkdGg6ICcxMDAlJwogICAgICAgICAgICAKICAgICAgICAgICAgfSk7CgogICAgICAgICAgICAKICAgICAgICAgICAgICAgIHZhciBodG1sXzAwNDc3ZTczNzVmNDQ2YjI5NmZiMTQwYTQxZWVmZTNlID0gJChgPGRpdiBpZD0iaHRtbF8wMDQ3N2U3Mzc1ZjQ0NmIyOTZmYjE0MGE0MWVlZmUzZSIgc3R5bGU9IndpZHRoOiAxMDAuMCU7IGhlaWdodDogMTAwLjAlOyI+V29idXJuIENsdXN0ZXIgMTwvZGl2PmApWzBdOwogICAgICAgICAgICAgICAgcG9wdXBfZjJjNTZmNjRmOTFjNGE1MTliN2NjOWFiMDYwYzRhMDcuc2V0Q29udGVudChodG1sXzAwNDc3ZTczNzVmNDQ2YjI5NmZiMTQwYTQxZWVmZTNlKTsKICAgICAgICAgICAgCgogICAgICAgICAgICBjaXJjbGVfbWFya2VyX2U1NGVjMmFmMTNiZDQwMTdhNDlmMGQzOWJiYzFiYTkzLmJpbmRQb3B1cChwb3B1cF9mMmM1NmY2NGY5MWM0YTUxOWI3Y2M5YWIwNjBjNGEwNykKICAgICAgICAgICAgOwoKICAgICAgICAgICAgCiAgICAgICAgCiAgICAKICAgICAgICAgICAgdmFyIGNpcmNsZV9tYXJrZXJfNjQyNWRiYWFjMjE1NDUyN2IzZDdkNmI2YjkxZWYwNDYgPSBMLmNpcmNsZU1hcmtlcigKICAgICAgICAgICAgICAgIFs0My43NzMxMzYsIC03OS4yMzk0NzYwOTk5OTk5OV0sCiAgICAgICAgICAgICAgICB7CiAgImJ1YmJsaW5nTW91c2VFdmVudHMiOiB0cnVlLAogICJjb2xvciI6ICIjODAwMGZmIiwKICAiZGFzaEFycmF5IjogbnVsbCwKICAiZGFzaE9mZnNldCI6IG51bGwsCiAgImZpbGwiOiB0cnVlLAogICJmaWxsQ29sb3IiOiAiIzgwMDBmZiIsCiAgImZpbGxPcGFjaXR5IjogMC43LAogICJmaWxsUnVsZSI6ICJldmVub2RkIiwKICAibGluZUNhcCI6ICJyb3VuZCIsCiAgImxpbmVKb2luIjogInJvdW5kIiwKICAib3BhY2l0eSI6IDEuMCwKICAicmFkaXVzIjogNSwKICAic3Ryb2tlIjogdHJ1ZSwKICAid2VpZ2h0IjogMwp9CiAgICAgICAgICAgICAgICApCiAgICAgICAgICAgICAgICAuYWRkVG8obWFwXzQzNTA1ZWNmODliYjRlNDViNzQ2OTUwMmJiN2RhMzA0KTsKICAgICAgICAgICAgCiAgICAKICAgICAgICAgICAgdmFyIHBvcHVwXzkxYmMwMjdlZDZiMzQyZmY5NTczM2RkYTZmMDkxZjA2ID0gTC5wb3B1cCh7bWF4V2lkdGg6ICcxMDAlJwogICAgICAgICAgICAKICAgICAgICAgICAgfSk7CgogICAgICAgICAgICAKICAgICAgICAgICAgICAgIHZhciBodG1sX2I1N2QyODlhZWQzYzQ0ZmZiZWQwOTJlNTQyZWVmM2RhID0gJChgPGRpdiBpZD0iaHRtbF9iNTdkMjg5YWVkM2M0NGZmYmVkMDkyZTU0MmVlZjNkYSIgc3R5bGU9IndpZHRoOiAxMDAuMCU7IGhlaWdodDogMTAwLjAlOyI+Q2VkYXJicmFlIENsdXN0ZXIgMTwvZGl2PmApWzBdOwogICAgICAgICAgICAgICAgcG9wdXBfOTFiYzAyN2VkNmIzNDJmZjk1NzMzZGRhNmYwOTFmMDYuc2V0Q29udGVudChodG1sX2I1N2QyODlhZWQzYzQ0ZmZiZWQwOTJlNTQyZWVmM2RhKTsKICAgICAgICAgICAgCgogICAgICAgICAgICBjaXJjbGVfbWFya2VyXzY0MjVkYmFhYzIxNTQ1MjdiM2Q3ZDZiNmI5MWVmMDQ2LmJpbmRQb3B1cChwb3B1cF85MWJjMDI3ZWQ2YjM0MmZmOTU3MzNkZGE2ZjA5MWYwNikKICAgICAgICAgICAgOwoKICAgICAgICAgICAgCiAgICAgICAgCiAgICAKICAgICAgICAgICAgdmFyIGNpcmNsZV9tYXJrZXJfNjFiYjdjNTdhNjY3NDY4Y2JkYmFjMzhmNGNkZThmOTcgPSBMLmNpcmNsZU1hcmtlcigKICAgICAgICAgICAgICAgIFs0My43NDQ3MzQyLCAtNzkuMjM5NDc2MDk5OTk5OTldLAogICAgICAgICAgICAgICAgewogICJidWJibGluZ01vdXNlRXZlbnRzIjogdHJ1ZSwKICAiY29sb3IiOiAiIzAwYjVlYiIsCiAgImRhc2hBcnJheSI6IG51bGwsCiAgImRhc2hPZmZzZXQiOiBudWxsLAogICJmaWxsIjogdHJ1ZSwKICAiZmlsbENvbG9yIjogIiMwMGI1ZWIiLAogICJmaWxsT3BhY2l0eSI6IDAuNywKICAiZmlsbFJ1bGUiOiAiZXZlbm9kZCIsCiAgImxpbmVDYXAiOiAicm91bmQiLAogICJsaW5lSm9pbiI6ICJyb3VuZCIsCiAgIm9wYWNpdHkiOiAxLjAsCiAgInJhZGl1cyI6IDUsCiAgInN0cm9rZSI6IHRydWUsCiAgIndlaWdodCI6IDMKfQogICAgICAgICAgICAgICAgKQogICAgICAgICAgICAgICAgLmFkZFRvKG1hcF80MzUwNWVjZjg5YmI0ZTQ1Yjc0Njk1MDJiYjdkYTMwNCk7CiAgICAgICAgICAgIAogICAgCiAgICAgICAgICAgIHZhciBwb3B1cF80ZDBjNTg1NzAwNDI0ZTdiYjMyOWY4YTRjMmU0OGRhMiA9IEwucG9wdXAoe21heFdpZHRoOiAnMTAwJScKICAgICAgICAgICAgCiAgICAgICAgICAgIH0pOwoKICAgICAgICAgICAgCiAgICAgICAgICAgICAgICB2YXIgaHRtbF9mYTQ4NWUxMTE3MzE0OGExOWM1MTc5NjcyM2IwOGQ2MiA9ICQoYDxkaXYgaWQ9Imh0bWxfZmE0ODVlMTExNzMxNDhhMTljNTE3OTY3MjNiMDhkNjIiIHN0eWxlPSJ3aWR0aDogMTAwLjAlOyBoZWlnaHQ6IDEwMC4wJTsiPlNjYXJib3JvdWdoIFZpbGxhZ2UgQ2x1c3RlciAyPC9kaXY+YClbMF07CiAgICAgICAgICAgICAgICBwb3B1cF80ZDBjNTg1NzAwNDI0ZTdiYjMyOWY4YTRjMmU0OGRhMi5zZXRDb250ZW50KGh0bWxfZmE0ODVlMTExNzMxNDhhMTljNTE3OTY3MjNiMDhkNjIpOwogICAgICAgICAgICAKCiAgICAgICAgICAgIGNpcmNsZV9tYXJrZXJfNjFiYjdjNTdhNjY3NDY4Y2JkYmFjMzhmNGNkZThmOTcuYmluZFBvcHVwKHBvcHVwXzRkMGM1ODU3MDA0MjRlN2JiMzI5ZjhhNGMyZTQ4ZGEyKQogICAgICAgICAgICA7CgogICAgICAgICAgICAKICAgICAgICAKICAgIAogICAgICAgICAgICB2YXIgY2lyY2xlX21hcmtlcl8wNWEwNjUzZWM3NTU0YmE0OWY4MWZhMzA3YjBjZDFhNSA9IEwuY2lyY2xlTWFya2VyKAogICAgICAgICAgICAgICAgWzQzLjcyNzkyOTIsIC03OS4yNjIwMjk0MDAwMDAwMl0sCiAgICAgICAgICAgICAgICB7CiAgImJ1YmJsaW5nTW91c2VFdmVudHMiOiB0cnVlLAogICJjb2xvciI6ICIjODAwMGZmIiwKICAiZGFzaEFycmF5IjogbnVsbCwKICAiZGFzaE9mZnNldCI6IG51bGwsCiAgImZpbGwiOiB0cnVlLAogICJmaWxsQ29sb3IiOiAiIzgwMDBmZiIsCiAgImZpbGxPcGFjaXR5IjogMC43LAogICJmaWxsUnVsZSI6ICJldmVub2RkIiwKICAibGluZUNhcCI6ICJyb3VuZCIsCiAgImxpbmVKb2luIjogInJvdW5kIiwKICAib3BhY2l0eSI6IDEuMCwKICAicmFkaXVzIjogNSwKICAic3Ryb2tlIjogdHJ1ZSwKICAid2VpZ2h0IjogMwp9CiAgICAgICAgICAgICAgICApCiAgICAgICAgICAgICAgICAuYWRkVG8obWFwXzQzNTA1ZWNmODliYjRlNDViNzQ2OTUwMmJiN2RhMzA0KTsKICAgICAgICAgICAgCiAgICAKICAgICAgICAgICAgdmFyIHBvcHVwXzIxYzUwOTYyMjZiMTQ2ODFhNzUzMTcyNGFhYzA5ZDU5ID0gTC5wb3B1cCh7bWF4V2lkdGg6ICcxMDAlJwogICAgICAgICAgICAKICAgICAgICAgICAgfSk7CgogICAgICAgICAgICAKICAgICAgICAgICAgICAgIHZhciBodG1sXzUwMzdhZWUxN2MzYTRhYTQ5ZjdkYWE1OTAxZTg4YjBkID0gJChgPGRpdiBpZD0iaHRtbF81MDM3YWVlMTdjM2E0YWE0OWY3ZGFhNTkwMWU4OGIwZCIgc3R5bGU9IndpZHRoOiAxMDAuMCU7IGhlaWdodDogMTAwLjAlOyI+S2VubmVkeSBQYXJrLCBJb252aWV3LCBFYXN0IEJpcmNobW91bnQgUGFyayBDbHVzdGVyIDE8L2Rpdj5gKVswXTsKICAgICAgICAgICAgICAgIHBvcHVwXzIxYzUwOTYyMjZiMTQ2ODFhNzUzMTcyNGFhYzA5ZDU5LnNldENvbnRlbnQoaHRtbF81MDM3YWVlMTdjM2E0YWE0OWY3ZGFhNTkwMWU4OGIwZCk7CiAgICAgICAgICAgIAoKICAgICAgICAgICAgY2lyY2xlX21hcmtlcl8wNWEwNjUzZWM3NTU0YmE0OWY4MWZhMzA3YjBjZDFhNS5iaW5kUG9wdXAocG9wdXBfMjFjNTA5NjIyNmIxNDY4MWE3NTMxNzI0YWFjMDlkNTkpCiAgICAgICAgICAgIDsKCiAgICAgICAgICAgIAogICAgICAgIAogICAgCiAgICAgICAgICAgIHZhciBjaXJjbGVfbWFya2VyX2EwNjc0YWQyY2YzNzRlMmI5NGE3OTM5YTY1MTVjOTVmID0gTC5jaXJjbGVNYXJrZXIoCiAgICAgICAgICAgICAgICBbNDMuNzExMTExNzAwMDAwMDA0LCAtNzkuMjg0NTc3Ml0sCiAgICAgICAgICAgICAgICB7CiAgImJ1YmJsaW5nTW91c2VFdmVudHMiOiB0cnVlLAogICJjb2xvciI6ICIjODAwMGZmIiwKICAiZGFzaEFycmF5IjogbnVsbCwKICAiZGFzaE9mZnNldCI6IG51bGwsCiAgImZpbGwiOiB0cnVlLAogICJmaWxsQ29sb3IiOiAiIzgwMDBmZiIsCiAgImZpbGxPcGFjaXR5IjogMC43LAogICJmaWxsUnVsZSI6ICJldmVub2RkIiwKICAibGluZUNhcCI6ICJyb3VuZCIsCiAgImxpbmVKb2luIjogInJvdW5kIiwKICAib3BhY2l0eSI6IDEuMCwKICAicmFkaXVzIjogNSwKICAic3Ryb2tlIjogdHJ1ZSwKICAid2VpZ2h0IjogMwp9CiAgICAgICAgICAgICAgICApCiAgICAgICAgICAgICAgICAuYWRkVG8obWFwXzQzNTA1ZWNmODliYjRlNDViNzQ2OTUwMmJiN2RhMzA0KTsKICAgICAgICAgICAgCiAgICAKICAgICAgICAgICAgdmFyIHBvcHVwXzNhOGFiMGYxNjljMTQyMTk5OGZlMDc1ZDc1ZDU4NWYyID0gTC5wb3B1cCh7bWF4V2lkdGg6ICcxMDAlJwogICAgICAgICAgICAKICAgICAgICAgICAgfSk7CgogICAgICAgICAgICAKICAgICAgICAgICAgICAgIHZhciBodG1sXzJhOGZiNzRiNmE4MzRiMzhiYWRkZDBkYWM0MTQ1YjFlID0gJChgPGRpdiBpZD0iaHRtbF8yYThmYjc0YjZhODM0YjM4YmFkZGQwZGFjNDE0NWIxZSIgc3R5bGU9IndpZHRoOiAxMDAuMCU7IGhlaWdodDogMTAwLjAlOyI+R29sZGVuIE1pbGUsIENsYWlybGVhLCBPYWtyaWRnZSBDbHVzdGVyIDE8L2Rpdj5gKVswXTsKICAgICAgICAgICAgICAgIHBvcHVwXzNhOGFiMGYxNjljMTQyMTk5OGZlMDc1ZDc1ZDU4NWYyLnNldENvbnRlbnQoaHRtbF8yYThmYjc0YjZhODM0YjM4YmFkZGQwZGFjNDE0NWIxZSk7CiAgICAgICAgICAgIAoKICAgICAgICAgICAgY2lyY2xlX21hcmtlcl9hMDY3NGFkMmNmMzc0ZTJiOTRhNzkzOWE2NTE1Yzk1Zi5iaW5kUG9wdXAocG9wdXBfM2E4YWIwZjE2OWMxNDIxOTk4ZmUwNzVkNzVkNTg1ZjIpCiAgICAgICAgICAgIDsKCiAgICAgICAgICAgIAogICAgICAgIAogICAgCiAgICAgICAgICAgIHZhciBjaXJjbGVfbWFya2VyXzM2MzVmMWQ4NDhjMzRkZjhiNjZkMTdmNDQ0NmQ5ZTQyID0gTC5jaXJjbGVNYXJrZXIoCiAgICAgICAgICAgICAgICBbNDMuNzE2MzE2LCAtNzkuMjM5NDc2MDk5OTk5OTldLAogICAgICAgICAgICAgICAgewogICJidWJibGluZ01vdXNlRXZlbnRzIjogdHJ1ZSwKICAiY29sb3IiOiAiIzgwMDBmZiIsCiAgImRhc2hBcnJheSI6IG51bGwsCiAgImRhc2hPZmZzZXQiOiBudWxsLAogICJmaWxsIjogdHJ1ZSwKICAiZmlsbENvbG9yIjogIiM4MDAwZmYiLAogICJmaWxsT3BhY2l0eSI6IDAuNywKICAiZmlsbFJ1bGUiOiAiZXZlbm9kZCIsCiAgImxpbmVDYXAiOiAicm91bmQiLAogICJsaW5lSm9pbiI6ICJyb3VuZCIsCiAgIm9wYWNpdHkiOiAxLjAsCiAgInJhZGl1cyI6IDUsCiAgInN0cm9rZSI6IHRydWUsCiAgIndlaWdodCI6IDMKfQogICAgICAgICAgICAgICAgKQogICAgICAgICAgICAgICAgLmFkZFRvKG1hcF80MzUwNWVjZjg5YmI0ZTQ1Yjc0Njk1MDJiYjdkYTMwNCk7CiAgICAgICAgICAgIAogICAgCiAgICAgICAgICAgIHZhciBwb3B1cF8zYTZkN2Q2YmM1YWM0MGJhYTJkYzJkNGVlNDBiMDRlMCA9IEwucG9wdXAoe21heFdpZHRoOiAnMTAwJScKICAgICAgICAgICAgCiAgICAgICAgICAgIH0pOwoKICAgICAgICAgICAgCiAgICAgICAgICAgICAgICB2YXIgaHRtbF80YzZiNzVjOWNmNDI0NmExYWI2MWE2ODQwMGU0NzZkOCA9ICQoYDxkaXYgaWQ9Imh0bWxfNGM2Yjc1YzljZjQyNDZhMWFiNjFhNjg0MDBlNDc2ZDgiIHN0eWxlPSJ3aWR0aDogMTAwLjAlOyBoZWlnaHQ6IDEwMC4wJTsiPkNsaWZmc2lkZSwgQ2xpZmZjcmVzdCwgU2NhcmJvcm91Z2ggVmlsbGFnZSBXZXN0IENsdXN0ZXIgMTwvZGl2PmApWzBdOwogICAgICAgICAgICAgICAgcG9wdXBfM2E2ZDdkNmJjNWFjNDBiYWEyZGMyZDRlZTQwYjA0ZTAuc2V0Q29udGVudChodG1sXzRjNmI3NWM5Y2Y0MjQ2YTFhYjYxYTY4NDAwZTQ3NmQ4KTsKICAgICAgICAgICAgCgogICAgICAgICAgICBjaXJjbGVfbWFya2VyXzM2MzVmMWQ4NDhjMzRkZjhiNjZkMTdmNDQ0NmQ5ZTQyLmJpbmRQb3B1cChwb3B1cF8zYTZkN2Q2YmM1YWM0MGJhYTJkYzJkNGVlNDBiMDRlMCkKICAgICAgICAgICAgOwoKICAgICAgICAgICAgCiAgICAgICAgCiAgICAKICAgICAgICAgICAgdmFyIGNpcmNsZV9tYXJrZXJfZDU4ZGI3MTQ1MzVjNDFhNGI0MDVlMTFmNThmNTZhNzEgPSBMLmNpcmNsZU1hcmtlcigKICAgICAgICAgICAgICAgIFs0My42OTI2NTcwMDAwMDAwMDQsIC03OS4yNjQ4NDgxXSwKICAgICAgICAgICAgICAgIHsKICAiYnViYmxpbmdNb3VzZUV2ZW50cyI6IHRydWUsCiAgImNvbG9yIjogIiM4MDAwZmYiLAogICJkYXNoQXJyYXkiOiBudWxsLAogICJkYXNoT2Zmc2V0IjogbnVsbCwKICAiZmlsbCI6IHRydWUsCiAgImZpbGxDb2xvciI6ICIjODAwMGZmIiwKICAiZmlsbE9wYWNpdHkiOiAwLjcsCiAgImZpbGxSdWxlIjogImV2ZW5vZGQiLAogICJsaW5lQ2FwIjogInJvdW5kIiwKICAibGluZUpvaW4iOiAicm91bmQiLAogICJvcGFjaXR5IjogMS4wLAogICJyYWRpdXMiOiA1LAogICJzdHJva2UiOiB0cnVlLAogICJ3ZWlnaHQiOiAzCn0KICAgICAgICAgICAgICAgICkKICAgICAgICAgICAgICAgIC5hZGRUbyhtYXBfNDM1MDVlY2Y4OWJiNGU0NWI3NDY5NTAyYmI3ZGEzMDQpOwogICAgICAgICAgICAKICAgIAogICAgICAgICAgICB2YXIgcG9wdXBfNjEzMmQ3Mjk0NzFmNDZiZDhjZWM3NjJjYzBjZjc4YzUgPSBMLnBvcHVwKHttYXhXaWR0aDogJzEwMCUnCiAgICAgICAgICAgIAogICAgICAgICAgICB9KTsKCiAgICAgICAgICAgIAogICAgICAgICAgICAgICAgdmFyIGh0bWxfYTJkYTk3YmNmMTg5NGQ2MGEyODcxMzE4ZWJjOGRhODIgPSAkKGA8ZGl2IGlkPSJodG1sX2EyZGE5N2JjZjE4OTRkNjBhMjg3MTMxOGViYzhkYTgyIiBzdHlsZT0id2lkdGg6IDEwMC4wJTsgaGVpZ2h0OiAxMDAuMCU7Ij5CaXJjaCBDbGlmZiwgQ2xpZmZzaWRlIFdlc3QgQ2x1c3RlciAxPC9kaXY+YClbMF07CiAgICAgICAgICAgICAgICBwb3B1cF82MTMyZDcyOTQ3MWY0NmJkOGNlYzc2MmNjMGNmNzhjNS5zZXRDb250ZW50KGh0bWxfYTJkYTk3YmNmMTg5NGQ2MGEyODcxMzE4ZWJjOGRhODIpOwogICAgICAgICAgICAKCiAgICAgICAgICAgIGNpcmNsZV9tYXJrZXJfZDU4ZGI3MTQ1MzVjNDFhNGI0MDVlMTFmNThmNTZhNzEuYmluZFBvcHVwKHBvcHVwXzYxMzJkNzI5NDcxZjQ2YmQ4Y2VjNzYyY2MwY2Y3OGM1KQogICAgICAgICAgICA7CgogICAgICAgICAgICAKICAgICAgICAKICAgIAogICAgICAgICAgICB2YXIgY2lyY2xlX21hcmtlcl8zM2QxOGQ2OTljMjI0NmQwYWUyY2JjOThhMGYzMWVjYyA9IEwuY2lyY2xlTWFya2VyKAogICAgICAgICAgICAgICAgWzQzLjc1NzQwOTYsIC03OS4yNzMzMDQwMDAwMDAwMV0sCiAgICAgICAgICAgICAgICB7CiAgImJ1YmJsaW5nTW91c2VFdmVudHMiOiB0cnVlLAogICJjb2xvciI6ICIjODAwMGZmIiwKICAiZGFzaEFycmF5IjogbnVsbCwKICAiZGFzaE9mZnNldCI6IG51bGwsCiAgImZpbGwiOiB0cnVlLAogICJmaWxsQ29sb3IiOiAiIzgwMDBmZiIsCiAgImZpbGxPcGFjaXR5IjogMC43LAogICJmaWxsUnVsZSI6ICJldmVub2RkIiwKICAibGluZUNhcCI6ICJyb3VuZCIsCiAgImxpbmVKb2luIjogInJvdW5kIiwKICAib3BhY2l0eSI6IDEuMCwKICAicmFkaXVzIjogNSwKICAic3Ryb2tlIjogdHJ1ZSwKICAid2VpZ2h0IjogMwp9CiAgICAgICAgICAgICAgICApCiAgICAgICAgICAgICAgICAuYWRkVG8obWFwXzQzNTA1ZWNmODliYjRlNDViNzQ2OTUwMmJiN2RhMzA0KTsKICAgICAgICAgICAgCiAgICAKICAgICAgICAgICAgdmFyIHBvcHVwX2FkZDFkMzE0Yzg5MTQ4M2M4YTlhMDdlYTNjMzAzNDlkID0gTC5wb3B1cCh7bWF4V2lkdGg6ICcxMDAlJwogICAgICAgICAgICAKICAgICAgICAgICAgfSk7CgogICAgICAgICAgICAKICAgICAgICAgICAgICAgIHZhciBodG1sXzVkZmIzMzczMTczODQ2YmFhYjg3MDlkYzY0MzA2YWMzID0gJChgPGRpdiBpZD0iaHRtbF81ZGZiMzM3MzE3Mzg0NmJhYWI4NzA5ZGM2NDMwNmFjMyIgc3R5bGU9IndpZHRoOiAxMDAuMCU7IGhlaWdodDogMTAwLjAlOyI+RG9yc2V0IFBhcmssIFdleGZvcmQgSGVpZ2h0cywgU2NhcmJvcm91Z2ggVG93biBDZW50cmUgQ2x1c3RlciAxPC9kaXY+YClbMF07CiAgICAgICAgICAgICAgICBwb3B1cF9hZGQxZDMxNGM4OTE0ODNjOGE5YTA3ZWEzYzMwMzQ5ZC5zZXRDb250ZW50KGh0bWxfNWRmYjMzNzMxNzM4NDZiYWFiODcwOWRjNjQzMDZhYzMpOwogICAgICAgICAgICAKCiAgICAgICAgICAgIGNpcmNsZV9tYXJrZXJfMzNkMThkNjk5YzIyNDZkMGFlMmNiYzk4YTBmMzFlY2MuYmluZFBvcHVwKHBvcHVwX2FkZDFkMzE0Yzg5MTQ4M2M4YTlhMDdlYTNjMzAzNDlkKQogICAgICAgICAgICA7CgogICAgICAgICAgICAKICAgICAgICAKICAgIAogICAgICAgICAgICB2YXIgY2lyY2xlX21hcmtlcl8wOTY5MjZmODllNWE0NmFkYjFjYWNmYTVlNmE4ZjBlOSA9IEwuY2lyY2xlTWFya2VyKAogICAgICAgICAgICAgICAgWzQzLjc1MDA3MTUwMDAwMDAwNCwgLTc5LjI5NTg0OTFdLAogICAgICAgICAgICAgICAgewogICJidWJibGluZ01vdXNlRXZlbnRzIjogdHJ1ZSwKICAiY29sb3IiOiAiIzgwMDBmZiIsCiAgImRhc2hBcnJheSI6IG51bGwsCiAgImRhc2hPZmZzZXQiOiBudWxsLAogICJmaWxsIjogdHJ1ZSwKICAiZmlsbENvbG9yIjogIiM4MDAwZmYiLAogICJmaWxsT3BhY2l0eSI6IDAuNywKICAiZmlsbFJ1bGUiOiAiZXZlbm9kZCIsCiAgImxpbmVDYXAiOiAicm91bmQiLAogICJsaW5lSm9pbiI6ICJyb3VuZCIsCiAgIm9wYWNpdHkiOiAxLjAsCiAgInJhZGl1cyI6IDUsCiAgInN0cm9rZSI6IHRydWUsCiAgIndlaWdodCI6IDMKfQogICAgICAgICAgICAgICAgKQogICAgICAgICAgICAgICAgLmFkZFRvKG1hcF80MzUwNWVjZjg5YmI0ZTQ1Yjc0Njk1MDJiYjdkYTMwNCk7CiAgICAgICAgICAgIAogICAgCiAgICAgICAgICAgIHZhciBwb3B1cF9lMGRjZWJhNjkwZDY0ZmUwYjAxZWMxMzM3OTk0MjZkMyA9IEwucG9wdXAoe21heFdpZHRoOiAnMTAwJScKICAgICAgICAgICAgCiAgICAgICAgICAgIH0pOwoKICAgICAgICAgICAgCiAgICAgICAgICAgICAgICB2YXIgaHRtbF9lZGE5OTA1ZjUxMDg0NWQzOWQxMTA5MmYwZWQwOTMyYyA9ICQoYDxkaXYgaWQ9Imh0bWxfZWRhOTkwNWY1MTA4NDVkMzlkMTEwOTJmMGVkMDkzMmMiIHN0eWxlPSJ3aWR0aDogMTAwLjAlOyBoZWlnaHQ6IDEwMC4wJTsiPldleGZvcmQsIE1hcnl2YWxlIENsdXN0ZXIgMTwvZGl2PmApWzBdOwogICAgICAgICAgICAgICAgcG9wdXBfZTBkY2ViYTY5MGQ2NGZlMGIwMWVjMTMzNzk5NDI2ZDMuc2V0Q29udGVudChodG1sX2VkYTk5MDVmNTEwODQ1ZDM5ZDExMDkyZjBlZDA5MzJjKTsKICAgICAgICAgICAgCgogICAgICAgICAgICBjaXJjbGVfbWFya2VyXzA5NjkyNmY4OWU1YTQ2YWRiMWNhY2ZhNWU2YThmMGU5LmJpbmRQb3B1cChwb3B1cF9lMGRjZWJhNjkwZDY0ZmUwYjAxZWMxMzM3OTk0MjZkMykKICAgICAgICAgICAgOwoKICAgICAgICAgICAgCiAgICAgICAgCiAgICAKICAgICAgICAgICAgdmFyIGNpcmNsZV9tYXJrZXJfZjZkZDIyYWI2ZGM1NDU1ODk1ZTIzODlhNjhjZDMyOTUgPSBMLmNpcmNsZU1hcmtlcigKICAgICAgICAgICAgICAgIFs0My43OTQyMDAzLCAtNzkuMjYyMDI5NDAwMDAwMDJdLAogICAgICAgICAgICAgICAgewogICJidWJibGluZ01vdXNlRXZlbnRzIjogdHJ1ZSwKICAiY29sb3IiOiAiIzgwMDBmZiIsCiAgImRhc2hBcnJheSI6IG51bGwsCiAgImRhc2hPZmZzZXQiOiBudWxsLAogICJmaWxsIjogdHJ1ZSwKICAiZmlsbENvbG9yIjogIiM4MDAwZmYiLAogICJmaWxsT3BhY2l0eSI6IDAuNywKICAiZmlsbFJ1bGUiOiAiZXZlbm9kZCIsCiAgImxpbmVDYXAiOiAicm91bmQiLAogICJsaW5lSm9pbiI6ICJyb3VuZCIsCiAgIm9wYWNpdHkiOiAxLjAsCiAgInJhZGl1cyI6IDUsCiAgInN0cm9rZSI6IHRydWUsCiAgIndlaWdodCI6IDMKfQogICAgICAgICAgICAgICAgKQogICAgICAgICAgICAgICAgLmFkZFRvKG1hcF80MzUwNWVjZjg5YmI0ZTQ1Yjc0Njk1MDJiYjdkYTMwNCk7CiAgICAgICAgICAgIAogICAgCiAgICAgICAgICAgIHZhciBwb3B1cF9jYzU4ZDg5MzJkZDY0ZWY2OTQ1NmM4YWY0ZjhlNzc4MiA9IEwucG9wdXAoe21heFdpZHRoOiAnMTAwJScKICAgICAgICAgICAgCiAgICAgICAgICAgIH0pOwoKICAgICAgICAgICAgCiAgICAgICAgICAgICAgICB2YXIgaHRtbF84YjA5NTYzMTBlNzY0YjY3YTIwNDQxOWVmYjM1NjEyZCA9ICQoYDxkaXYgaWQ9Imh0bWxfOGIwOTU2MzEwZTc2NGI2N2EyMDQ0MTllZmIzNTYxMmQiIHN0eWxlPSJ3aWR0aDogMTAwLjAlOyBoZWlnaHQ6IDEwMC4wJTsiPkFnaW5jb3VydCBDbHVzdGVyIDE8L2Rpdj5gKVswXTsKICAgICAgICAgICAgICAgIHBvcHVwX2NjNThkODkzMmRkNjRlZjY5NDU2YzhhZjRmOGU3NzgyLnNldENvbnRlbnQoaHRtbF84YjA5NTYzMTBlNzY0YjY3YTIwNDQxOWVmYjM1NjEyZCk7CiAgICAgICAgICAgIAoKICAgICAgICAgICAgY2lyY2xlX21hcmtlcl9mNmRkMjJhYjZkYzU0NTU4OTVlMjM4OWE2OGNkMzI5NS5iaW5kUG9wdXAocG9wdXBfY2M1OGQ4OTMyZGQ2NGVmNjk0NTZjOGFmNGY4ZTc3ODIpCiAgICAgICAgICAgIDsKCiAgICAgICAgICAgIAogICAgICAgIAogICAgCiAgICAgICAgICAgIHZhciBjaXJjbGVfbWFya2VyXzlmMTZiZmU5NmFlYjRiNWJiN2NmYzg1YmY5MzI1NTM3ID0gTC5jaXJjbGVNYXJrZXIoCiAgICAgICAgICAgICAgICBbNDMuNzgxNjM3NSwgLTc5LjMwNDMwMjFdLAogICAgICAgICAgICAgICAgewogICJidWJibGluZ01vdXNlRXZlbnRzIjogdHJ1ZSwKICAiY29sb3IiOiAiIzgwMDBmZiIsCiAgImRhc2hBcnJheSI6IG51bGwsCiAgImRhc2hPZmZzZXQiOiBudWxsLAogICJmaWxsIjogdHJ1ZSwKICAiZmlsbENvbG9yIjogIiM4MDAwZmYiLAogICJmaWxsT3BhY2l0eSI6IDAuNywKICAiZmlsbFJ1bGUiOiAiZXZlbm9kZCIsCiAgImxpbmVDYXAiOiAicm91bmQiLAogICJsaW5lSm9pbiI6ICJyb3VuZCIsCiAgIm9wYWNpdHkiOiAxLjAsCiAgInJhZGl1cyI6IDUsCiAgInN0cm9rZSI6IHRydWUsCiAgIndlaWdodCI6IDMKfQogICAgICAgICAgICAgICAgKQogICAgICAgICAgICAgICAgLmFkZFRvKG1hcF80MzUwNWVjZjg5YmI0ZTQ1Yjc0Njk1MDJiYjdkYTMwNCk7CiAgICAgICAgICAgIAogICAgCiAgICAgICAgICAgIHZhciBwb3B1cF84YzIwYWJiNzhmMmE0Njg0YWIxMGIxMGVmZjRiM2ZiYyA9IEwucG9wdXAoe21heFdpZHRoOiAnMTAwJScKICAgICAgICAgICAgCiAgICAgICAgICAgIH0pOwoKICAgICAgICAgICAgCiAgICAgICAgICAgICAgICB2YXIgaHRtbF9iMGM4YjkyNWM1Y2I0MzgwODBlMmE1NWQxNmQxMWQyNSA9ICQoYDxkaXYgaWQ9Imh0bWxfYjBjOGI5MjVjNWNiNDM4MDgwZTJhNTVkMTZkMTFkMjUiIHN0eWxlPSJ3aWR0aDogMTAwLjAlOyBoZWlnaHQ6IDEwMC4wJTsiPkNsYXJrcyBDb3JuZXJzLCBUYW0gTyYjMzk7U2hhbnRlciwgU3VsbGl2YW4gQ2x1c3RlciAxPC9kaXY+YClbMF07CiAgICAgICAgICAgICAgICBwb3B1cF84YzIwYWJiNzhmMmE0Njg0YWIxMGIxMGVmZjRiM2ZiYy5zZXRDb250ZW50KGh0bWxfYjBjOGI5MjVjNWNiNDM4MDgwZTJhNTVkMTZkMTFkMjUpOwogICAgICAgICAgICAKCiAgICAgICAgICAgIGNpcmNsZV9tYXJrZXJfOWYxNmJmZTk2YWViNGI1YmI3Y2ZjODViZjkzMjU1MzcuYmluZFBvcHVwKHBvcHVwXzhjMjBhYmI3OGYyYTQ2ODRhYjEwYjEwZWZmNGIzZmJjKQogICAgICAgICAgICA7CgogICAgICAgICAgICAKICAgICAgICAKICAgIAogICAgICAgICAgICB2YXIgY2lyY2xlX21hcmtlcl9lNmU4Zjk2NTBmYmU0OWU3YmIyMGYwNzg2MGY0OWI1ZiA9IEwuY2lyY2xlTWFya2VyKAogICAgICAgICAgICAgICAgWzQzLjgxNTI1MjIsIC03OS4yODQ1NzcyXSwKICAgICAgICAgICAgICAgIHsKICAiYnViYmxpbmdNb3VzZUV2ZW50cyI6IHRydWUsCiAgImNvbG9yIjogIiNmZmIzNjAiLAogICJkYXNoQXJyYXkiOiBudWxsLAogICJkYXNoT2Zmc2V0IjogbnVsbCwKICAiZmlsbCI6IHRydWUsCiAgImZpbGxDb2xvciI6ICIjZmZiMzYwIiwKICAiZmlsbE9wYWNpdHkiOiAwLjcsCiAgImZpbGxSdWxlIjogImV2ZW5vZGQiLAogICJsaW5lQ2FwIjogInJvdW5kIiwKICAibGluZUpvaW4iOiAicm91bmQiLAogICJvcGFjaXR5IjogMS4wLAogICJyYWRpdXMiOiA1LAogICJzdHJva2UiOiB0cnVlLAogICJ3ZWlnaHQiOiAzCn0KICAgICAgICAgICAgICAgICkKICAgICAgICAgICAgICAgIC5hZGRUbyhtYXBfNDM1MDVlY2Y4OWJiNGU0NWI3NDY5NTAyYmI3ZGEzMDQpOwogICAgICAgICAgICAKICAgIAogICAgICAgICAgICB2YXIgcG9wdXBfYTlkZjMzMGQ1ZWU2NDk0ZWIyMmM5MDZiYWE5ZDQzMjIgPSBMLnBvcHVwKHttYXhXaWR0aDogJzEwMCUnCiAgICAgICAgICAgIAogICAgICAgICAgICB9KTsKCiAgICAgICAgICAgIAogICAgICAgICAgICAgICAgdmFyIGh0bWxfZDJjYThiYzMwNDE0NGM1MmJiY2RkMTYzZTllYjdhMGMgPSAkKGA8ZGl2IGlkPSJodG1sX2QyY2E4YmMzMDQxNDRjNTJiYmNkZDE2M2U5ZWI3YTBjIiBzdHlsZT0id2lkdGg6IDEwMC4wJTsgaGVpZ2h0OiAxMDAuMCU7Ij5NaWxsaWtlbiwgQWdpbmNvdXJ0IE5vcnRoLCBTdGVlbGVzIEVhc3QsIEwmIzM5O0Ftb3JlYXV4IEVhc3QgQ2x1c3RlciA0PC9kaXY+YClbMF07CiAgICAgICAgICAgICAgICBwb3B1cF9hOWRmMzMwZDVlZTY0OTRlYjIyYzkwNmJhYTlkNDMyMi5zZXRDb250ZW50KGh0bWxfZDJjYThiYzMwNDE0NGM1MmJiY2RkMTYzZTllYjdhMGMpOwogICAgICAgICAgICAKCiAgICAgICAgICAgIGNpcmNsZV9tYXJrZXJfZTZlOGY5NjUwZmJlNDllN2JiMjBmMDc4NjBmNDliNWYuYmluZFBvcHVwKHBvcHVwX2E5ZGYzMzBkNWVlNjQ5NGViMjJjOTA2YmFhOWQ0MzIyKQogICAgICAgICAgICA7CgogICAgICAgICAgICAKICAgICAgICAKICAgIAogICAgICAgICAgICB2YXIgY2lyY2xlX21hcmtlcl9lZTcxZmIyYWNmYTU0OTU2YjJjMWI3YjQ2MDFmNmQ5NCA9IEwuY2lyY2xlTWFya2VyKAogICAgICAgICAgICAgICAgWzQzLjc5OTUyNTIwMDAwMDAwNSwgLTc5LjMxODM4ODddLAogICAgICAgICAgICAgICAgewogICJidWJibGluZ01vdXNlRXZlbnRzIjogdHJ1ZSwKICAiY29sb3IiOiAiIzgwMDBmZiIsCiAgImRhc2hBcnJheSI6IG51bGwsCiAgImRhc2hPZmZzZXQiOiBudWxsLAogICJmaWxsIjogdHJ1ZSwKICAiZmlsbENvbG9yIjogIiM4MDAwZmYiLAogICJmaWxsT3BhY2l0eSI6IDAuNywKICAiZmlsbFJ1bGUiOiAiZXZlbm9kZCIsCiAgImxpbmVDYXAiOiAicm91bmQiLAogICJsaW5lSm9pbiI6ICJyb3VuZCIsCiAgIm9wYWNpdHkiOiAxLjAsCiAgInJhZGl1cyI6IDUsCiAgInN0cm9rZSI6IHRydWUsCiAgIndlaWdodCI6IDMKfQogICAgICAgICAgICAgICAgKQogICAgICAgICAgICAgICAgLmFkZFRvKG1hcF80MzUwNWVjZjg5YmI0ZTQ1Yjc0Njk1MDJiYjdkYTMwNCk7CiAgICAgICAgICAgIAogICAgCiAgICAgICAgICAgIHZhciBwb3B1cF80ZDAxMTM2MDNmNDA0MzM2OGNlOGQzMGMxY2JjZTYxZiA9IEwucG9wdXAoe21heFdpZHRoOiAnMTAwJScKICAgICAgICAgICAgCiAgICAgICAgICAgIH0pOwoKICAgICAgICAgICAgCiAgICAgICAgICAgICAgICB2YXIgaHRtbF8yYTViNmUxNzYyMmY0MTZjYTExOGY5ZDQ3NzM3MGZhYyA9ICQoYDxkaXYgaWQ9Imh0bWxfMmE1YjZlMTc2MjJmNDE2Y2ExMThmOWQ0NzczNzBmYWMiIHN0eWxlPSJ3aWR0aDogMTAwLjAlOyBoZWlnaHQ6IDEwMC4wJTsiPlN0ZWVsZXMgV2VzdCwgTCYjMzk7QW1vcmVhdXggV2VzdCBDbHVzdGVyIDE8L2Rpdj5gKVswXTsKICAgICAgICAgICAgICAgIHBvcHVwXzRkMDExMzYwM2Y0MDQzMzY4Y2U4ZDMwYzFjYmNlNjFmLnNldENvbnRlbnQoaHRtbF8yYTViNmUxNzYyMmY0MTZjYTExOGY5ZDQ3NzM3MGZhYyk7CiAgICAgICAgICAgIAoKICAgICAgICAgICAgY2lyY2xlX21hcmtlcl9lZTcxZmIyYWNmYTU0OTU2YjJjMWI3YjQ2MDFmNmQ5NC5iaW5kUG9wdXAocG9wdXBfNGQwMTEzNjAzZjQwNDMzNjhjZThkMzBjMWNiY2U2MWYpCiAgICAgICAgICAgIDsKCiAgICAgICAgICAgIAogICAgICAgIAo8L3NjcmlwdD4= onload=\"this.contentDocument.open();this.contentDocument.write(atob(this.getAttribute('data-html')));this.contentDocument.close();\" allowfullscreen webkitallowfullscreen mozallowfullscreen></iframe></div></div>"
            ],
            "text/plain": [
              "<folium.folium.Map at 0x7fed907b5e48>"
            ]
          },
          "metadata": {
            "tags": []
          },
          "execution_count": 70
        }
      ]
    },
    {
      "cell_type": "markdown",
      "metadata": {
        "id": "871uZsRj1NlF"
      },
      "source": [
        "## 5. Examine Clusters"
      ]
    },
    {
      "cell_type": "markdown",
      "metadata": {
        "id": "jKRqSVTA11nt"
      },
      "source": [
        "> Cluster 1"
      ]
    },
    {
      "cell_type": "code",
      "metadata": {
        "id": "lrtjpF7o1Ny4",
        "colab": {
          "base_uri": "https://localhost:8080/",
          "height": 149
        },
        "outputId": "01b7ba5e-d7e3-4c03-d26a-99118ffb7dc8"
      },
      "source": [
        "scarborough_merged.loc[scarborough_merged['Cluster Labels'] == 0, scarborough_merged.columns[[1] + list(range(5, scarborough_merged.shape[1]))]]"
      ],
      "execution_count": null,
      "outputs": [
        {
          "output_type": "execute_result",
          "data": {
            "text/html": [
              "<div>\n",
              "<style scoped>\n",
              "    .dataframe tbody tr th:only-of-type {\n",
              "        vertical-align: middle;\n",
              "    }\n",
              "\n",
              "    .dataframe tbody tr th {\n",
              "        vertical-align: top;\n",
              "    }\n",
              "\n",
              "    .dataframe thead th {\n",
              "        text-align: right;\n",
              "    }\n",
              "</style>\n",
              "<table border=\"1\" class=\"dataframe\">\n",
              "  <thead>\n",
              "    <tr style=\"text-align: right;\">\n",
              "      <th></th>\n",
              "      <th>Borough</th>\n",
              "      <th>Cluster Labels</th>\n",
              "      <th>1st Most Common Venue</th>\n",
              "      <th>2nd Most Common Venue</th>\n",
              "      <th>3rd Most Common Venue</th>\n",
              "      <th>4th Most Common Venue</th>\n",
              "      <th>5th Most Common Venue</th>\n",
              "      <th>6th Most Common Venue</th>\n",
              "      <th>7th Most Common Venue</th>\n",
              "      <th>8th Most Common Venue</th>\n",
              "      <th>9th Most Common Venue</th>\n",
              "      <th>10th Most Common Venue</th>\n",
              "    </tr>\n",
              "  </thead>\n",
              "  <tbody>\n",
              "    <tr>\n",
              "      <th>1</th>\n",
              "      <td>Scarborough</td>\n",
              "      <td>0</td>\n",
              "      <td>History Museum</td>\n",
              "      <td>Bar</td>\n",
              "      <td>Vietnamese Restaurant</td>\n",
              "      <td>College Stadium</td>\n",
              "      <td>Hakka Restaurant</td>\n",
              "      <td>Grocery Store</td>\n",
              "      <td>General Entertainment</td>\n",
              "      <td>Gas Station</td>\n",
              "      <td>Fried Chicken Joint</td>\n",
              "      <td>Fast Food Restaurant</td>\n",
              "    </tr>\n",
              "  </tbody>\n",
              "</table>\n",
              "</div>"
            ],
            "text/plain": [
              "       Borough  Cluster Labels 1st Most Common Venue 2nd Most Common Venue  \\\n",
              "1  Scarborough               0        History Museum                   Bar   \n",
              "\n",
              "   3rd Most Common Venue 4th Most Common Venue 5th Most Common Venue  \\\n",
              "1  Vietnamese Restaurant       College Stadium      Hakka Restaurant   \n",
              "\n",
              "  6th Most Common Venue  7th Most Common Venue 8th Most Common Venue  \\\n",
              "1         Grocery Store  General Entertainment           Gas Station   \n",
              "\n",
              "  9th Most Common Venue 10th Most Common Venue  \n",
              "1   Fried Chicken Joint   Fast Food Restaurant  "
            ]
          },
          "metadata": {
            "tags": []
          },
          "execution_count": 71
        }
      ]
    },
    {
      "cell_type": "markdown",
      "metadata": {
        "id": "2x0DVNLM1xRy"
      },
      "source": [
        "> Cluster 2"
      ]
    },
    {
      "cell_type": "code",
      "metadata": {
        "id": "Pc-twX341Ubn",
        "colab": {
          "base_uri": "https://localhost:8080/",
          "height": 711
        },
        "outputId": "a02c6c3f-5c1d-4437-c3a5-f508b604816d"
      },
      "source": [
        "scarborough_merged.loc[scarborough_merged['Cluster Labels'] == 1, scarborough_merged.columns[[1] + list(range(5, scarborough_merged.shape[1]))]]"
      ],
      "execution_count": null,
      "outputs": [
        {
          "output_type": "execute_result",
          "data": {
            "text/html": [
              "<div>\n",
              "<style scoped>\n",
              "    .dataframe tbody tr th:only-of-type {\n",
              "        vertical-align: middle;\n",
              "    }\n",
              "\n",
              "    .dataframe tbody tr th {\n",
              "        vertical-align: top;\n",
              "    }\n",
              "\n",
              "    .dataframe thead th {\n",
              "        text-align: right;\n",
              "    }\n",
              "</style>\n",
              "<table border=\"1\" class=\"dataframe\">\n",
              "  <thead>\n",
              "    <tr style=\"text-align: right;\">\n",
              "      <th></th>\n",
              "      <th>Borough</th>\n",
              "      <th>Cluster Labels</th>\n",
              "      <th>1st Most Common Venue</th>\n",
              "      <th>2nd Most Common Venue</th>\n",
              "      <th>3rd Most Common Venue</th>\n",
              "      <th>4th Most Common Venue</th>\n",
              "      <th>5th Most Common Venue</th>\n",
              "      <th>6th Most Common Venue</th>\n",
              "      <th>7th Most Common Venue</th>\n",
              "      <th>8th Most Common Venue</th>\n",
              "      <th>9th Most Common Venue</th>\n",
              "      <th>10th Most Common Venue</th>\n",
              "    </tr>\n",
              "  </thead>\n",
              "  <tbody>\n",
              "    <tr>\n",
              "      <th>2</th>\n",
              "      <td>Scarborough</td>\n",
              "      <td>1</td>\n",
              "      <td>Mexican Restaurant</td>\n",
              "      <td>Intersection</td>\n",
              "      <td>Bank</td>\n",
              "      <td>Restaurant</td>\n",
              "      <td>Rental Car Location</td>\n",
              "      <td>Breakfast Spot</td>\n",
              "      <td>Electronics Store</td>\n",
              "      <td>Medical Center</td>\n",
              "      <td>Vietnamese Restaurant</td>\n",
              "      <td>General Entertainment</td>\n",
              "    </tr>\n",
              "    <tr>\n",
              "      <th>3</th>\n",
              "      <td>Scarborough</td>\n",
              "      <td>1</td>\n",
              "      <td>Coffee Shop</td>\n",
              "      <td>Korean Restaurant</td>\n",
              "      <td>Pharmacy</td>\n",
              "      <td>Vietnamese Restaurant</td>\n",
              "      <td>Hakka Restaurant</td>\n",
              "      <td>Grocery Store</td>\n",
              "      <td>General Entertainment</td>\n",
              "      <td>Gas Station</td>\n",
              "      <td>Fried Chicken Joint</td>\n",
              "      <td>Fast Food Restaurant</td>\n",
              "    </tr>\n",
              "    <tr>\n",
              "      <th>4</th>\n",
              "      <td>Scarborough</td>\n",
              "      <td>1</td>\n",
              "      <td>Athletics &amp; Sports</td>\n",
              "      <td>Bakery</td>\n",
              "      <td>Bank</td>\n",
              "      <td>Hakka Restaurant</td>\n",
              "      <td>Gas Station</td>\n",
              "      <td>Fried Chicken Joint</td>\n",
              "      <td>Caribbean Restaurant</td>\n",
              "      <td>Thai Restaurant</td>\n",
              "      <td>Vietnamese Restaurant</td>\n",
              "      <td>Discount Store</td>\n",
              "    </tr>\n",
              "    <tr>\n",
              "      <th>6</th>\n",
              "      <td>Scarborough</td>\n",
              "      <td>1</td>\n",
              "      <td>Coffee Shop</td>\n",
              "      <td>Bus Station</td>\n",
              "      <td>Department Store</td>\n",
              "      <td>Hobby Shop</td>\n",
              "      <td>Bakery</td>\n",
              "      <td>Bank</td>\n",
              "      <td>History Museum</td>\n",
              "      <td>Hakka Restaurant</td>\n",
              "      <td>Grocery Store</td>\n",
              "      <td>General Entertainment</td>\n",
              "    </tr>\n",
              "    <tr>\n",
              "      <th>7</th>\n",
              "      <td>Scarborough</td>\n",
              "      <td>1</td>\n",
              "      <td>Bakery</td>\n",
              "      <td>Bus Line</td>\n",
              "      <td>Ice Cream Shop</td>\n",
              "      <td>Metro Station</td>\n",
              "      <td>Soccer Field</td>\n",
              "      <td>Intersection</td>\n",
              "      <td>Bus Station</td>\n",
              "      <td>Park</td>\n",
              "      <td>Grocery Store</td>\n",
              "      <td>General Entertainment</td>\n",
              "    </tr>\n",
              "    <tr>\n",
              "      <th>8</th>\n",
              "      <td>Scarborough</td>\n",
              "      <td>1</td>\n",
              "      <td>American Restaurant</td>\n",
              "      <td>Motel</td>\n",
              "      <td>Intersection</td>\n",
              "      <td>Hakka Restaurant</td>\n",
              "      <td>Grocery Store</td>\n",
              "      <td>General Entertainment</td>\n",
              "      <td>Gas Station</td>\n",
              "      <td>Fried Chicken Joint</td>\n",
              "      <td>Fast Food Restaurant</td>\n",
              "      <td>Electronics Store</td>\n",
              "    </tr>\n",
              "    <tr>\n",
              "      <th>9</th>\n",
              "      <td>Scarborough</td>\n",
              "      <td>1</td>\n",
              "      <td>Skating Rink</td>\n",
              "      <td>General Entertainment</td>\n",
              "      <td>Café</td>\n",
              "      <td>College Stadium</td>\n",
              "      <td>Vietnamese Restaurant</td>\n",
              "      <td>Coffee Shop</td>\n",
              "      <td>Hakka Restaurant</td>\n",
              "      <td>Grocery Store</td>\n",
              "      <td>Gas Station</td>\n",
              "      <td>Fried Chicken Joint</td>\n",
              "    </tr>\n",
              "    <tr>\n",
              "      <th>10</th>\n",
              "      <td>Scarborough</td>\n",
              "      <td>1</td>\n",
              "      <td>Indian Restaurant</td>\n",
              "      <td>Vietnamese Restaurant</td>\n",
              "      <td>Pet Store</td>\n",
              "      <td>Light Rail Station</td>\n",
              "      <td>Chinese Restaurant</td>\n",
              "      <td>Bank</td>\n",
              "      <td>Bar</td>\n",
              "      <td>Athletics &amp; Sports</td>\n",
              "      <td>Grocery Store</td>\n",
              "      <td>General Entertainment</td>\n",
              "    </tr>\n",
              "    <tr>\n",
              "      <th>11</th>\n",
              "      <td>Scarborough</td>\n",
              "      <td>1</td>\n",
              "      <td>Vietnamese Restaurant</td>\n",
              "      <td>Auto Garage</td>\n",
              "      <td>Shopping Mall</td>\n",
              "      <td>Sandwich Place</td>\n",
              "      <td>Bakery</td>\n",
              "      <td>Breakfast Spot</td>\n",
              "      <td>Middle Eastern Restaurant</td>\n",
              "      <td>College Stadium</td>\n",
              "      <td>Grocery Store</td>\n",
              "      <td>General Entertainment</td>\n",
              "    </tr>\n",
              "    <tr>\n",
              "      <th>12</th>\n",
              "      <td>Scarborough</td>\n",
              "      <td>1</td>\n",
              "      <td>Skating Rink</td>\n",
              "      <td>Latin American Restaurant</td>\n",
              "      <td>Breakfast Spot</td>\n",
              "      <td>Lounge</td>\n",
              "      <td>Vietnamese Restaurant</td>\n",
              "      <td>College Stadium</td>\n",
              "      <td>Grocery Store</td>\n",
              "      <td>General Entertainment</td>\n",
              "      <td>Gas Station</td>\n",
              "      <td>Fried Chicken Joint</td>\n",
              "    </tr>\n",
              "    <tr>\n",
              "      <th>13</th>\n",
              "      <td>Scarborough</td>\n",
              "      <td>1</td>\n",
              "      <td>Fast Food Restaurant</td>\n",
              "      <td>Pizza Place</td>\n",
              "      <td>Pharmacy</td>\n",
              "      <td>Thai Restaurant</td>\n",
              "      <td>Gas Station</td>\n",
              "      <td>Bank</td>\n",
              "      <td>Italian Restaurant</td>\n",
              "      <td>Fried Chicken Joint</td>\n",
              "      <td>Noodle House</td>\n",
              "      <td>Chinese Restaurant</td>\n",
              "    </tr>\n",
              "    <tr>\n",
              "      <th>15</th>\n",
              "      <td>Scarborough</td>\n",
              "      <td>1</td>\n",
              "      <td>Grocery Store</td>\n",
              "      <td>Chinese Restaurant</td>\n",
              "      <td>Fast Food Restaurant</td>\n",
              "      <td>Breakfast Spot</td>\n",
              "      <td>Pizza Place</td>\n",
              "      <td>Discount Store</td>\n",
              "      <td>Electronics Store</td>\n",
              "      <td>Pharmacy</td>\n",
              "      <td>Coffee Shop</td>\n",
              "      <td>Bank</td>\n",
              "    </tr>\n",
              "  </tbody>\n",
              "</table>\n",
              "</div>"
            ],
            "text/plain": [
              "        Borough  Cluster Labels  1st Most Common Venue  \\\n",
              "2   Scarborough               1     Mexican Restaurant   \n",
              "3   Scarborough               1            Coffee Shop   \n",
              "4   Scarborough               1     Athletics & Sports   \n",
              "6   Scarborough               1            Coffee Shop   \n",
              "7   Scarborough               1                 Bakery   \n",
              "8   Scarborough               1    American Restaurant   \n",
              "9   Scarborough               1           Skating Rink   \n",
              "10  Scarborough               1      Indian Restaurant   \n",
              "11  Scarborough               1  Vietnamese Restaurant   \n",
              "12  Scarborough               1           Skating Rink   \n",
              "13  Scarborough               1   Fast Food Restaurant   \n",
              "15  Scarborough               1          Grocery Store   \n",
              "\n",
              "        2nd Most Common Venue 3rd Most Common Venue  4th Most Common Venue  \\\n",
              "2                Intersection                  Bank             Restaurant   \n",
              "3           Korean Restaurant              Pharmacy  Vietnamese Restaurant   \n",
              "4                      Bakery                  Bank       Hakka Restaurant   \n",
              "6                 Bus Station      Department Store             Hobby Shop   \n",
              "7                    Bus Line        Ice Cream Shop          Metro Station   \n",
              "8                       Motel          Intersection       Hakka Restaurant   \n",
              "9       General Entertainment                  Café        College Stadium   \n",
              "10      Vietnamese Restaurant             Pet Store     Light Rail Station   \n",
              "11                Auto Garage         Shopping Mall         Sandwich Place   \n",
              "12  Latin American Restaurant        Breakfast Spot                 Lounge   \n",
              "13                Pizza Place              Pharmacy        Thai Restaurant   \n",
              "15         Chinese Restaurant  Fast Food Restaurant         Breakfast Spot   \n",
              "\n",
              "    5th Most Common Venue  6th Most Common Venue      7th Most Common Venue  \\\n",
              "2     Rental Car Location         Breakfast Spot          Electronics Store   \n",
              "3        Hakka Restaurant          Grocery Store      General Entertainment   \n",
              "4             Gas Station    Fried Chicken Joint       Caribbean Restaurant   \n",
              "6                  Bakery                   Bank             History Museum   \n",
              "7            Soccer Field           Intersection                Bus Station   \n",
              "8           Grocery Store  General Entertainment                Gas Station   \n",
              "9   Vietnamese Restaurant            Coffee Shop           Hakka Restaurant   \n",
              "10     Chinese Restaurant                   Bank                        Bar   \n",
              "11                 Bakery         Breakfast Spot  Middle Eastern Restaurant   \n",
              "12  Vietnamese Restaurant        College Stadium              Grocery Store   \n",
              "13            Gas Station                   Bank         Italian Restaurant   \n",
              "15            Pizza Place         Discount Store          Electronics Store   \n",
              "\n",
              "    8th Most Common Venue  9th Most Common Venue 10th Most Common Venue  \n",
              "2          Medical Center  Vietnamese Restaurant  General Entertainment  \n",
              "3             Gas Station    Fried Chicken Joint   Fast Food Restaurant  \n",
              "4         Thai Restaurant  Vietnamese Restaurant         Discount Store  \n",
              "6        Hakka Restaurant          Grocery Store  General Entertainment  \n",
              "7                    Park          Grocery Store  General Entertainment  \n",
              "8     Fried Chicken Joint   Fast Food Restaurant      Electronics Store  \n",
              "9           Grocery Store            Gas Station    Fried Chicken Joint  \n",
              "10     Athletics & Sports          Grocery Store  General Entertainment  \n",
              "11        College Stadium          Grocery Store  General Entertainment  \n",
              "12  General Entertainment            Gas Station    Fried Chicken Joint  \n",
              "13    Fried Chicken Joint           Noodle House     Chinese Restaurant  \n",
              "15               Pharmacy            Coffee Shop                   Bank  "
            ]
          },
          "metadata": {
            "tags": []
          },
          "execution_count": 72
        }
      ]
    },
    {
      "cell_type": "markdown",
      "metadata": {
        "id": "iELUWWiF1zJv"
      },
      "source": [
        "> Cluster 3"
      ]
    },
    {
      "cell_type": "code",
      "metadata": {
        "id": "A9OYW2lu1UfL",
        "colab": {
          "base_uri": "https://localhost:8080/",
          "height": 149
        },
        "outputId": "d6be7ba4-16cf-4915-a54b-f8f0f3d01520"
      },
      "source": [
        "scarborough_merged.loc[scarborough_merged['Cluster Labels'] == 2, scarborough_merged.columns[[1] + list(range(5, scarborough_merged.shape[1]))]]"
      ],
      "execution_count": null,
      "outputs": [
        {
          "output_type": "execute_result",
          "data": {
            "text/html": [
              "<div>\n",
              "<style scoped>\n",
              "    .dataframe tbody tr th:only-of-type {\n",
              "        vertical-align: middle;\n",
              "    }\n",
              "\n",
              "    .dataframe tbody tr th {\n",
              "        vertical-align: top;\n",
              "    }\n",
              "\n",
              "    .dataframe thead th {\n",
              "        text-align: right;\n",
              "    }\n",
              "</style>\n",
              "<table border=\"1\" class=\"dataframe\">\n",
              "  <thead>\n",
              "    <tr style=\"text-align: right;\">\n",
              "      <th></th>\n",
              "      <th>Borough</th>\n",
              "      <th>Cluster Labels</th>\n",
              "      <th>1st Most Common Venue</th>\n",
              "      <th>2nd Most Common Venue</th>\n",
              "      <th>3rd Most Common Venue</th>\n",
              "      <th>4th Most Common Venue</th>\n",
              "      <th>5th Most Common Venue</th>\n",
              "      <th>6th Most Common Venue</th>\n",
              "      <th>7th Most Common Venue</th>\n",
              "      <th>8th Most Common Venue</th>\n",
              "      <th>9th Most Common Venue</th>\n",
              "      <th>10th Most Common Venue</th>\n",
              "    </tr>\n",
              "  </thead>\n",
              "  <tbody>\n",
              "    <tr>\n",
              "      <th>5</th>\n",
              "      <td>Scarborough</td>\n",
              "      <td>2</td>\n",
              "      <td>Playground</td>\n",
              "      <td>Vietnamese Restaurant</td>\n",
              "      <td>Coffee Shop</td>\n",
              "      <td>Hakka Restaurant</td>\n",
              "      <td>Grocery Store</td>\n",
              "      <td>General Entertainment</td>\n",
              "      <td>Gas Station</td>\n",
              "      <td>Fried Chicken Joint</td>\n",
              "      <td>Fast Food Restaurant</td>\n",
              "      <td>Electronics Store</td>\n",
              "    </tr>\n",
              "  </tbody>\n",
              "</table>\n",
              "</div>"
            ],
            "text/plain": [
              "       Borough  Cluster Labels 1st Most Common Venue  2nd Most Common Venue  \\\n",
              "5  Scarborough               2            Playground  Vietnamese Restaurant   \n",
              "\n",
              "  3rd Most Common Venue 4th Most Common Venue 5th Most Common Venue  \\\n",
              "5           Coffee Shop      Hakka Restaurant         Grocery Store   \n",
              "\n",
              "   6th Most Common Venue 7th Most Common Venue 8th Most Common Venue  \\\n",
              "5  General Entertainment           Gas Station   Fried Chicken Joint   \n",
              "\n",
              "  9th Most Common Venue 10th Most Common Venue  \n",
              "5  Fast Food Restaurant      Electronics Store  "
            ]
          },
          "metadata": {
            "tags": []
          },
          "execution_count": 73
        }
      ]
    },
    {
      "cell_type": "markdown",
      "metadata": {
        "id": "KK9BtXBQ1vTh"
      },
      "source": [
        "> Cluster 4"
      ]
    },
    {
      "cell_type": "code",
      "metadata": {
        "id": "hkQqsMyE1Utb",
        "colab": {
          "base_uri": "https://localhost:8080/",
          "height": 149
        },
        "outputId": "b69df836-c2f5-457f-df97-58d606cd3151"
      },
      "source": [
        "scarborough_merged.loc[scarborough_merged['Cluster Labels'] == 2, scarborough_merged.columns[[1] + list(range(5, scarborough_merged.shape[1]))]]"
      ],
      "execution_count": null,
      "outputs": [
        {
          "output_type": "execute_result",
          "data": {
            "text/html": [
              "<div>\n",
              "<style scoped>\n",
              "    .dataframe tbody tr th:only-of-type {\n",
              "        vertical-align: middle;\n",
              "    }\n",
              "\n",
              "    .dataframe tbody tr th {\n",
              "        vertical-align: top;\n",
              "    }\n",
              "\n",
              "    .dataframe thead th {\n",
              "        text-align: right;\n",
              "    }\n",
              "</style>\n",
              "<table border=\"1\" class=\"dataframe\">\n",
              "  <thead>\n",
              "    <tr style=\"text-align: right;\">\n",
              "      <th></th>\n",
              "      <th>Borough</th>\n",
              "      <th>Cluster Labels</th>\n",
              "      <th>1st Most Common Venue</th>\n",
              "      <th>2nd Most Common Venue</th>\n",
              "      <th>3rd Most Common Venue</th>\n",
              "      <th>4th Most Common Venue</th>\n",
              "      <th>5th Most Common Venue</th>\n",
              "      <th>6th Most Common Venue</th>\n",
              "      <th>7th Most Common Venue</th>\n",
              "      <th>8th Most Common Venue</th>\n",
              "      <th>9th Most Common Venue</th>\n",
              "      <th>10th Most Common Venue</th>\n",
              "    </tr>\n",
              "  </thead>\n",
              "  <tbody>\n",
              "    <tr>\n",
              "      <th>5</th>\n",
              "      <td>Scarborough</td>\n",
              "      <td>2</td>\n",
              "      <td>Playground</td>\n",
              "      <td>Vietnamese Restaurant</td>\n",
              "      <td>Coffee Shop</td>\n",
              "      <td>Hakka Restaurant</td>\n",
              "      <td>Grocery Store</td>\n",
              "      <td>General Entertainment</td>\n",
              "      <td>Gas Station</td>\n",
              "      <td>Fried Chicken Joint</td>\n",
              "      <td>Fast Food Restaurant</td>\n",
              "      <td>Electronics Store</td>\n",
              "    </tr>\n",
              "  </tbody>\n",
              "</table>\n",
              "</div>"
            ],
            "text/plain": [
              "       Borough  Cluster Labels 1st Most Common Venue  2nd Most Common Venue  \\\n",
              "5  Scarborough               2            Playground  Vietnamese Restaurant   \n",
              "\n",
              "  3rd Most Common Venue 4th Most Common Venue 5th Most Common Venue  \\\n",
              "5           Coffee Shop      Hakka Restaurant         Grocery Store   \n",
              "\n",
              "   6th Most Common Venue 7th Most Common Venue 8th Most Common Venue  \\\n",
              "5  General Entertainment           Gas Station   Fried Chicken Joint   \n",
              "\n",
              "  9th Most Common Venue 10th Most Common Venue  \n",
              "5  Fast Food Restaurant      Electronics Store  "
            ]
          },
          "metadata": {
            "tags": []
          },
          "execution_count": 74
        }
      ]
    },
    {
      "cell_type": "markdown",
      "metadata": {
        "id": "cxnpmDCZ1s5v"
      },
      "source": [
        "> Cluster 5"
      ]
    },
    {
      "cell_type": "code",
      "metadata": {
        "id": "welcKeJo1U7h",
        "colab": {
          "base_uri": "https://localhost:8080/",
          "height": 149
        },
        "outputId": "1938a3a7-f2b9-4103-e63e-b852c9595cc4"
      },
      "source": [
        "scarborough_merged.loc[scarborough_merged['Cluster Labels'] == 2, scarborough_merged.columns[[1] + list(range(5, scarborough_merged.shape[1]))]]"
      ],
      "execution_count": null,
      "outputs": [
        {
          "output_type": "execute_result",
          "data": {
            "text/html": [
              "<div>\n",
              "<style scoped>\n",
              "    .dataframe tbody tr th:only-of-type {\n",
              "        vertical-align: middle;\n",
              "    }\n",
              "\n",
              "    .dataframe tbody tr th {\n",
              "        vertical-align: top;\n",
              "    }\n",
              "\n",
              "    .dataframe thead th {\n",
              "        text-align: right;\n",
              "    }\n",
              "</style>\n",
              "<table border=\"1\" class=\"dataframe\">\n",
              "  <thead>\n",
              "    <tr style=\"text-align: right;\">\n",
              "      <th></th>\n",
              "      <th>Borough</th>\n",
              "      <th>Cluster Labels</th>\n",
              "      <th>1st Most Common Venue</th>\n",
              "      <th>2nd Most Common Venue</th>\n",
              "      <th>3rd Most Common Venue</th>\n",
              "      <th>4th Most Common Venue</th>\n",
              "      <th>5th Most Common Venue</th>\n",
              "      <th>6th Most Common Venue</th>\n",
              "      <th>7th Most Common Venue</th>\n",
              "      <th>8th Most Common Venue</th>\n",
              "      <th>9th Most Common Venue</th>\n",
              "      <th>10th Most Common Venue</th>\n",
              "    </tr>\n",
              "  </thead>\n",
              "  <tbody>\n",
              "    <tr>\n",
              "      <th>5</th>\n",
              "      <td>Scarborough</td>\n",
              "      <td>2</td>\n",
              "      <td>Playground</td>\n",
              "      <td>Vietnamese Restaurant</td>\n",
              "      <td>Coffee Shop</td>\n",
              "      <td>Hakka Restaurant</td>\n",
              "      <td>Grocery Store</td>\n",
              "      <td>General Entertainment</td>\n",
              "      <td>Gas Station</td>\n",
              "      <td>Fried Chicken Joint</td>\n",
              "      <td>Fast Food Restaurant</td>\n",
              "      <td>Electronics Store</td>\n",
              "    </tr>\n",
              "  </tbody>\n",
              "</table>\n",
              "</div>"
            ],
            "text/plain": [
              "       Borough  Cluster Labels 1st Most Common Venue  2nd Most Common Venue  \\\n",
              "5  Scarborough               2            Playground  Vietnamese Restaurant   \n",
              "\n",
              "  3rd Most Common Venue 4th Most Common Venue 5th Most Common Venue  \\\n",
              "5           Coffee Shop      Hakka Restaurant         Grocery Store   \n",
              "\n",
              "   6th Most Common Venue 7th Most Common Venue 8th Most Common Venue  \\\n",
              "5  General Entertainment           Gas Station   Fried Chicken Joint   \n",
              "\n",
              "  9th Most Common Venue 10th Most Common Venue  \n",
              "5  Fast Food Restaurant      Electronics Store  "
            ]
          },
          "metadata": {
            "tags": []
          },
          "execution_count": 75
        }
      ]
    },
    {
      "cell_type": "code",
      "metadata": {
        "id": "W0S8kmy7HB22"
      },
      "source": [
        ""
      ],
      "execution_count": null,
      "outputs": []
    }
  ]
}